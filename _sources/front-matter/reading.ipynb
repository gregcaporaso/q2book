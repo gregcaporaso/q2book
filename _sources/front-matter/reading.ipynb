{
 "cells": [
  {
   "cell_type": "markdown",
   "metadata": {},
   "source": [
    "# Reading this book\n",
    "\n",
    "## Reading interactively with Binder\n",
    "\n",
    "This book can be read statically or interactively. The simplest way to read interactively is with [Binder](https://mybinder.org/). When chapters are available to read interactively, you'll see a rocket ship icon toward the top-right of the page. The current page can be read interactively, allowing you to execute the following code block (making any modifications you choose to make). If you'd like to try it out, click the rocket ship icon, and then the Launch Binder box that pops up beneath it. \n",
    "\n",
    "Code blocks will be presented throughout the book. If you're reading a static version of the book, the output of running the code will be presented below the code block. If you're reading an interactive version of the book, you'll have to run the code cell to see the output. \n",
    "\n",
    "Here's an example Python 3 code cell that imports the scikit-bio library and prints some information to the screen."
   ]
  },
  {
   "cell_type": "code",
   "execution_count": 1,
   "metadata": {},
   "outputs": [
    {
     "name": "stdout",
     "output_type": "stream",
     "text": [
      "\n",
      "*                                                    *\n",
      "               _ _    _ _          _     _\n",
      "              (_) |  (_) |        | |   (_)\n",
      "      ___  ___ _| | ___| |_ ______| |__  _  ___\n",
      "     / __|/ __| | |/ / | __|______| '_ \\| |/ _ \\\n",
      "     \\__ \\ (__| |   <| | |_       | |_) | | (_) |\n",
      "     |___/\\___|_|_|\\_\\_|\\__|      |_.__/|_|\\___/\n",
      "\n",
      "*                                                    *\n",
      "\n",
      "\n",
      "\n",
      "           Opisthokonta\n",
      "                   \\  Amoebozoa\n",
      "                    \\ /\n",
      "                     *    Euryarchaeota\n",
      "                      \\     |_ Crenarchaeota\n",
      "                       \\   *\n",
      "                        \\ /\n",
      "                         *\n",
      "                        /\n",
      "                       /\n",
      "                      /\n",
      "                     *\n",
      "                    / \\\n",
      "                   /   \\\n",
      "        Proteobacteria  \\\n",
      "                       Cyanobacteria\n",
      "\n"
     ]
    }
   ],
   "source": [
    "import skbio\n",
    "\n",
    "print(skbio.title)\n",
    "print(skbio.art)"
   ]
  },
  {
   "cell_type": "markdown",
   "metadata": {},
   "source": [
    "## Conventions \n",
    "\n",
    "Text formats:\n",
    "\n",
    "- **bolded text** indicates new terms that are being introduced. These will ultimately show up in the glossary as well. \n",
    "- _italicized text_ is used for emphasizing import ideas. \n",
    "- `fixed-width text` is used to indicate literal values, for example file names or parameters that are used by a command. \n",
    "\n",
    "## Special text blocks\n",
    "\n",
    "Throughout the text, you'll sometimes see blocks of text that stand out as follows:\n",
    "\n",
    "```{admonition} Tip: Learn programming a little at a time\n",
    ":class: tip\n",
    "Spending a few minutes coding every day is a great way to build your programming skills, empower your own research, and make you more competitive for future career opportunities. Python 3 and R are great languages to get started with for bioinformatics, but just about any language will be fine for learning. \n",
    "```\n",
    "\n",
    "These are intended to share ideas related to what is being presented in the text. I'll use a few types of these special text blocks:\n",
    "\n",
    "- Video: a video is available that may help you understand this content. \n",
    "- Tip: an idea that may help you in your learning.\n",
    "- Warning: a common error that is encountered. \n",
    "- Note: a idea that is related to the content being presented, but is a bit off topic relative to the current discussion. \n",
    "- Food for thought: a question or topic to think about related to the current content\n",
    "- Exercise: a suggestion for something to experiment to help you develop your understanding of the current content\n",
    "- Jargon: discussed a term that is common among microbiome or bioinformatics practitioners, but which may not be immediately clear to beginners."
   ]
  }
 ],
 "metadata": {
  "jupytext": {
   "cell_metadata_filter": "-all",
   "formats": "md:myst",
   "text_representation": {
    "extension": ".md",
    "format_name": "myst",
    "format_version": 0.12,
    "jupytext_version": "1.9.1"
   }
  },
  "kernelspec": {
   "display_name": "Python 3",
   "language": "python",
   "name": "python3"
  },
  "language_info": {
   "codemirror_mode": {
    "name": "ipython",
    "version": 3
   },
   "file_extension": ".py",
   "mimetype": "text/x-python",
   "name": "python",
   "nbconvert_exporter": "python",
   "pygments_lexer": "ipython3",
   "version": "3.6.12"
  },
  "source_map": [
   14,
   26,
   31
  ]
 },
 "nbformat": 4,
 "nbformat_minor": 4
}