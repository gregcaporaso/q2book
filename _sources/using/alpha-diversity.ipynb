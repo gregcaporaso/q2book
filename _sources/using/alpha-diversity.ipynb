{
 "cells": [
  {
   "cell_type": "markdown",
   "metadata": {},
   "source": [
    "(alpha-diversity)=\n",
    "# Alpha diversity\n",
    "\n",
    "In this chapter we'll begin to explore metrics of microbiome diversity. We'll start with metrics of **alpha diversity**, which are measures of \"within-sample\" diversity. The way I typically think of these is as metrics that can be computed on a single sample.\n",
    "\n",
    "The first sub-category of alpha diversity metric that we'll look at will be *richness*. Richness refers to how many different types of organisms are present in a sample. For example, if we're interested in species richness of plants in the Sonoran Desert and the Costa Rican rainforest, we could go to each, count the number of different species of plants that we observe, and have a basic measure of species richness in each environment.\n",
    "\n",
    "```{admonition} Jargon: \"type of organism\"\n",
    "As defined earlier, a \"type of organism\" or a \"type of microbe\" is an arbitrary taxonomic grouping, such as genus, species, strain, or even an amplicon sequence variant.\n",
    "```\n",
    "\n",
    "The next sub-cateogry of alpha diversity metric that we'll discuss in this chapter will be *evenness*. Evenness tells us how consistent the distribution of species abundances are in a given environment. If, for example, the most abundant plant in the Sonoran desert was roughly as common as the least abundant plant (not the case!), we would say that the evenness of plant species was high. On the other hand, if the most abundant plant was thousands of times more common than the least common plant (probably closer to the truth), then we'd say that the evenness of plant species was low.\n",
    "\n",
    "## Metrics of microbiome richness\n",
    "\n",
    "We'll begin by looking at two metrics of community richness. Both of these are commonly used in practice. \n",
    "\n",
    "### Observed features\n",
    "\n",
    "Observed features is a very simple metric that can be used to quantify microbiome diversity. With this metric, we simply count the features that are observed in a given sample. A feature is considered to have been observed in a sample if it has a frequency of greater than zero. This is a **qualitative** diversity metric meaning that each feature is treated as being either observed or not observed. This metric doesn't consider how many times a feature was observed.\n",
    "\n",
    "Let's define a simple feature table for this analysis:"
   ]
  },
  {
   "cell_type": "code",
   "execution_count": 1,
   "metadata": {
    "tags": [
     "hide-input"
    ]
   },
   "outputs": [
    {
     "data": {
      "text/html": [
       "<style  type=\"text/css\" >\n",
       "</style><table id=\"T_b96fcf22_93c3_11eb_ab77_000d3a1f7469\" ><thead>    <tr>        <th class=\"blank level0\" ></th>        <th class=\"col_heading level0 col0\" >B1</th>        <th class=\"col_heading level0 col1\" >B2</th>        <th class=\"col_heading level0 col2\" >B3</th>        <th class=\"col_heading level0 col3\" >B4</th>        <th class=\"col_heading level0 col4\" >B5</th>        <th class=\"col_heading level0 col5\" >A1</th>        <th class=\"col_heading level0 col6\" >E2</th>    </tr></thead><tbody>\n",
       "                <tr>\n",
       "                        <th id=\"T_b96fcf22_93c3_11eb_ab77_000d3a1f7469level0_row0\" class=\"row_heading level0 row0\" >4ac2</th>\n",
       "                        <td id=\"T_b96fcf22_93c3_11eb_ab77_000d3a1f7469row0_col0\" class=\"data row0 col0\" >5</td>\n",
       "                        <td id=\"T_b96fcf22_93c3_11eb_ab77_000d3a1f7469row0_col1\" class=\"data row0 col1\" >5</td>\n",
       "                        <td id=\"T_b96fcf22_93c3_11eb_ab77_000d3a1f7469row0_col2\" class=\"data row0 col2\" >2</td>\n",
       "                        <td id=\"T_b96fcf22_93c3_11eb_ab77_000d3a1f7469row0_col3\" class=\"data row0 col3\" >0</td>\n",
       "                        <td id=\"T_b96fcf22_93c3_11eb_ab77_000d3a1f7469row0_col4\" class=\"data row0 col4\" >0</td>\n",
       "                        <td id=\"T_b96fcf22_93c3_11eb_ab77_000d3a1f7469row0_col5\" class=\"data row0 col5\" >0</td>\n",
       "                        <td id=\"T_b96fcf22_93c3_11eb_ab77_000d3a1f7469row0_col6\" class=\"data row0 col6\" >0</td>\n",
       "            </tr>\n",
       "            <tr>\n",
       "                        <th id=\"T_b96fcf22_93c3_11eb_ab77_000d3a1f7469level0_row1\" class=\"row_heading level0 row1\" >e375</th>\n",
       "                        <td id=\"T_b96fcf22_93c3_11eb_ab77_000d3a1f7469row1_col0\" class=\"data row1 col0\" >3</td>\n",
       "                        <td id=\"T_b96fcf22_93c3_11eb_ab77_000d3a1f7469row1_col1\" class=\"data row1 col1\" >5</td>\n",
       "                        <td id=\"T_b96fcf22_93c3_11eb_ab77_000d3a1f7469row1_col2\" class=\"data row1 col2\" >1</td>\n",
       "                        <td id=\"T_b96fcf22_93c3_11eb_ab77_000d3a1f7469row1_col3\" class=\"data row1 col3\" >4</td>\n",
       "                        <td id=\"T_b96fcf22_93c3_11eb_ab77_000d3a1f7469row1_col4\" class=\"data row1 col4\" >4</td>\n",
       "                        <td id=\"T_b96fcf22_93c3_11eb_ab77_000d3a1f7469row1_col5\" class=\"data row1 col5\" >0</td>\n",
       "                        <td id=\"T_b96fcf22_93c3_11eb_ab77_000d3a1f7469row1_col6\" class=\"data row1 col6\" >0</td>\n",
       "            </tr>\n",
       "            <tr>\n",
       "                        <th id=\"T_b96fcf22_93c3_11eb_ab77_000d3a1f7469level0_row2\" class=\"row_heading level0 row2\" >4gd8</th>\n",
       "                        <td id=\"T_b96fcf22_93c3_11eb_ab77_000d3a1f7469row2_col0\" class=\"data row2 col0\" >5</td>\n",
       "                        <td id=\"T_b96fcf22_93c3_11eb_ab77_000d3a1f7469row2_col1\" class=\"data row2 col1\" >0</td>\n",
       "                        <td id=\"T_b96fcf22_93c3_11eb_ab77_000d3a1f7469row2_col2\" class=\"data row2 col2\" >0</td>\n",
       "                        <td id=\"T_b96fcf22_93c3_11eb_ab77_000d3a1f7469row2_col3\" class=\"data row2 col3\" >0</td>\n",
       "                        <td id=\"T_b96fcf22_93c3_11eb_ab77_000d3a1f7469row2_col4\" class=\"data row2 col4\" >0</td>\n",
       "                        <td id=\"T_b96fcf22_93c3_11eb_ab77_000d3a1f7469row2_col5\" class=\"data row2 col5\" >5</td>\n",
       "                        <td id=\"T_b96fcf22_93c3_11eb_ab77_000d3a1f7469row2_col6\" class=\"data row2 col6\" >5</td>\n",
       "            </tr>\n",
       "    </tbody></table>"
      ],
      "text/plain": [
       "<pandas.io.formats.style.Styler at 0x7fd3943732e8>"
      ]
     },
     "execution_count": 1,
     "metadata": {},
     "output_type": "execute_result"
    }
   ],
   "source": [
    "import pandas as pd\n",
    "import numpy as np\n",
    "\n",
    "sample_ids = ['4ac2', 'e375', '4gd8']\n",
    "feature_ids = ['B1','B2','B3','B4','B5','A1','E2']\n",
    "data = np.array([[5, 5, 2, 0, 0, 0, 0],\n",
    "                 [3, 5, 1, 4, 4, 0, 0],\n",
    "                 [5, 0, 0, 0, 0, 5, 5]])\n",
    "\n",
    "feature_table_1 = pd.DataFrame(data, index=sample_ids, columns=feature_ids)\n",
    "feature_table_1.style"
   ]
  },
  {
   "cell_type": "markdown",
   "metadata": {},
   "source": [
    "To compute the value of observed features for each sample in our feature table, we would simply count the number of non-zero counts for each sample. All of the non-zero counts are bolded in the following view of the table."
   ]
  },
  {
   "cell_type": "code",
   "execution_count": 2,
   "metadata": {
    "tags": [
     "hide-input"
    ]
   },
   "outputs": [
    {
     "data": {
      "text/html": [
       "<style  type=\"text/css\" >\n",
       "#T_b974b596_93c3_11eb_ab77_000d3a1f7469row0_col0,#T_b974b596_93c3_11eb_ab77_000d3a1f7469row0_col1,#T_b974b596_93c3_11eb_ab77_000d3a1f7469row0_col2,#T_b974b596_93c3_11eb_ab77_000d3a1f7469row1_col0,#T_b974b596_93c3_11eb_ab77_000d3a1f7469row1_col1,#T_b974b596_93c3_11eb_ab77_000d3a1f7469row1_col2,#T_b974b596_93c3_11eb_ab77_000d3a1f7469row1_col3,#T_b974b596_93c3_11eb_ab77_000d3a1f7469row1_col4,#T_b974b596_93c3_11eb_ab77_000d3a1f7469row2_col0,#T_b974b596_93c3_11eb_ab77_000d3a1f7469row2_col5,#T_b974b596_93c3_11eb_ab77_000d3a1f7469row2_col6{\n",
       "            color:  blue;\n",
       "        }#T_b974b596_93c3_11eb_ab77_000d3a1f7469row0_col3,#T_b974b596_93c3_11eb_ab77_000d3a1f7469row0_col4,#T_b974b596_93c3_11eb_ab77_000d3a1f7469row0_col5,#T_b974b596_93c3_11eb_ab77_000d3a1f7469row0_col6,#T_b974b596_93c3_11eb_ab77_000d3a1f7469row1_col5,#T_b974b596_93c3_11eb_ab77_000d3a1f7469row1_col6,#T_b974b596_93c3_11eb_ab77_000d3a1f7469row2_col1,#T_b974b596_93c3_11eb_ab77_000d3a1f7469row2_col2,#T_b974b596_93c3_11eb_ab77_000d3a1f7469row2_col3,#T_b974b596_93c3_11eb_ab77_000d3a1f7469row2_col4{\n",
       "            color:  black;\n",
       "        }</style><table id=\"T_b974b596_93c3_11eb_ab77_000d3a1f7469\" ><thead>    <tr>        <th class=\"blank level0\" ></th>        <th class=\"col_heading level0 col0\" >B1</th>        <th class=\"col_heading level0 col1\" >B2</th>        <th class=\"col_heading level0 col2\" >B3</th>        <th class=\"col_heading level0 col3\" >B4</th>        <th class=\"col_heading level0 col4\" >B5</th>        <th class=\"col_heading level0 col5\" >A1</th>        <th class=\"col_heading level0 col6\" >E2</th>    </tr></thead><tbody>\n",
       "                <tr>\n",
       "                        <th id=\"T_b974b596_93c3_11eb_ab77_000d3a1f7469level0_row0\" class=\"row_heading level0 row0\" >4ac2</th>\n",
       "                        <td id=\"T_b974b596_93c3_11eb_ab77_000d3a1f7469row0_col0\" class=\"data row0 col0\" >5</td>\n",
       "                        <td id=\"T_b974b596_93c3_11eb_ab77_000d3a1f7469row0_col1\" class=\"data row0 col1\" >5</td>\n",
       "                        <td id=\"T_b974b596_93c3_11eb_ab77_000d3a1f7469row0_col2\" class=\"data row0 col2\" >2</td>\n",
       "                        <td id=\"T_b974b596_93c3_11eb_ab77_000d3a1f7469row0_col3\" class=\"data row0 col3\" >0</td>\n",
       "                        <td id=\"T_b974b596_93c3_11eb_ab77_000d3a1f7469row0_col4\" class=\"data row0 col4\" >0</td>\n",
       "                        <td id=\"T_b974b596_93c3_11eb_ab77_000d3a1f7469row0_col5\" class=\"data row0 col5\" >0</td>\n",
       "                        <td id=\"T_b974b596_93c3_11eb_ab77_000d3a1f7469row0_col6\" class=\"data row0 col6\" >0</td>\n",
       "            </tr>\n",
       "            <tr>\n",
       "                        <th id=\"T_b974b596_93c3_11eb_ab77_000d3a1f7469level0_row1\" class=\"row_heading level0 row1\" >e375</th>\n",
       "                        <td id=\"T_b974b596_93c3_11eb_ab77_000d3a1f7469row1_col0\" class=\"data row1 col0\" >3</td>\n",
       "                        <td id=\"T_b974b596_93c3_11eb_ab77_000d3a1f7469row1_col1\" class=\"data row1 col1\" >5</td>\n",
       "                        <td id=\"T_b974b596_93c3_11eb_ab77_000d3a1f7469row1_col2\" class=\"data row1 col2\" >1</td>\n",
       "                        <td id=\"T_b974b596_93c3_11eb_ab77_000d3a1f7469row1_col3\" class=\"data row1 col3\" >4</td>\n",
       "                        <td id=\"T_b974b596_93c3_11eb_ab77_000d3a1f7469row1_col4\" class=\"data row1 col4\" >4</td>\n",
       "                        <td id=\"T_b974b596_93c3_11eb_ab77_000d3a1f7469row1_col5\" class=\"data row1 col5\" >0</td>\n",
       "                        <td id=\"T_b974b596_93c3_11eb_ab77_000d3a1f7469row1_col6\" class=\"data row1 col6\" >0</td>\n",
       "            </tr>\n",
       "            <tr>\n",
       "                        <th id=\"T_b974b596_93c3_11eb_ab77_000d3a1f7469level0_row2\" class=\"row_heading level0 row2\" >4gd8</th>\n",
       "                        <td id=\"T_b974b596_93c3_11eb_ab77_000d3a1f7469row2_col0\" class=\"data row2 col0\" >5</td>\n",
       "                        <td id=\"T_b974b596_93c3_11eb_ab77_000d3a1f7469row2_col1\" class=\"data row2 col1\" >0</td>\n",
       "                        <td id=\"T_b974b596_93c3_11eb_ab77_000d3a1f7469row2_col2\" class=\"data row2 col2\" >0</td>\n",
       "                        <td id=\"T_b974b596_93c3_11eb_ab77_000d3a1f7469row2_col3\" class=\"data row2 col3\" >0</td>\n",
       "                        <td id=\"T_b974b596_93c3_11eb_ab77_000d3a1f7469row2_col4\" class=\"data row2 col4\" >0</td>\n",
       "                        <td id=\"T_b974b596_93c3_11eb_ab77_000d3a1f7469row2_col5\" class=\"data row2 col5\" >5</td>\n",
       "                        <td id=\"T_b974b596_93c3_11eb_ab77_000d3a1f7469row2_col6\" class=\"data row2 col6\" >5</td>\n",
       "            </tr>\n",
       "    </tbody></table>"
      ],
      "text/plain": [
       "<pandas.io.formats.style.Styler at 0x7fd394353a58>"
      ]
     },
     "execution_count": 2,
     "metadata": {},
     "output_type": "execute_result"
    }
   ],
   "source": [
    "def non_zero_blue(frequency):\n",
    "    if frequency > 0:\n",
    "        color = 'blue'\n",
    "    else:\n",
    "        color = 'black'\n",
    "    return 'color: %s' % color\n",
    "\n",
    "feature_table_1.style.applymap(non_zero_blue)"
   ]
  },
  {
   "cell_type": "markdown",
   "metadata": {},
   "source": [
    "Counting non-zero values for each sample would result in the following values of observed features for each sample:"
   ]
  },
  {
   "cell_type": "code",
   "execution_count": 3,
   "metadata": {
    "tags": [
     "hide-input"
    ]
   },
   "outputs": [
    {
     "data": {
      "text/html": [
       "<style  type=\"text/css\" >\n",
       "</style><table id=\"T_baf7f6da_93c3_11eb_ab77_000d3a1f7469\" ><thead>    <tr>        <th class=\"blank level0\" ></th>        <th class=\"col_heading level0 col0\" >observed-features</th>    </tr></thead><tbody>\n",
       "                <tr>\n",
       "                        <th id=\"T_baf7f6da_93c3_11eb_ab77_000d3a1f7469level0_row0\" class=\"row_heading level0 row0\" >4ac2</th>\n",
       "                        <td id=\"T_baf7f6da_93c3_11eb_ab77_000d3a1f7469row0_col0\" class=\"data row0 col0\" >3</td>\n",
       "            </tr>\n",
       "            <tr>\n",
       "                        <th id=\"T_baf7f6da_93c3_11eb_ab77_000d3a1f7469level0_row1\" class=\"row_heading level0 row1\" >e375</th>\n",
       "                        <td id=\"T_baf7f6da_93c3_11eb_ab77_000d3a1f7469row1_col0\" class=\"data row1 col0\" >5</td>\n",
       "            </tr>\n",
       "            <tr>\n",
       "                        <th id=\"T_baf7f6da_93c3_11eb_ab77_000d3a1f7469level0_row2\" class=\"row_heading level0 row2\" >4gd8</th>\n",
       "                        <td id=\"T_baf7f6da_93c3_11eb_ab77_000d3a1f7469row2_col0\" class=\"data row2 col0\" >3</td>\n",
       "            </tr>\n",
       "    </tbody></table>"
      ],
      "text/plain": [
       "<pandas.io.formats.style.Styler at 0x7fd36ac40908>"
      ]
     },
     "execution_count": 3,
     "metadata": {},
     "output_type": "execute_result"
    }
   ],
   "source": [
    "import qiime2\n",
    "import qiime2.plugins.diversity as div\n",
    "\n",
    "feature_table_1a = qiime2.Artifact.import_data(\"FeatureTable[Frequency]\", feature_table_1)\n",
    "\n",
    "observed_features_1a = div.actions.alpha(feature_table_1a, metric='observed_features').alpha_diversity\n",
    "observed_features_1 = observed_features_1a.view(pd.Series).to_frame(name='observed-features')\n",
    "observed_features_1.style"
   ]
  },
  {
   "cell_type": "markdown",
   "metadata": {},
   "source": [
    "Based on the observed features metric, we could consider samples `4ac2` and `4gd8` to have equal feature richness, and sample `e375` to have a higher feature richness. Also note that while `4ac2` and `4gd8` have the same feature richness, different features are present in the two samples. Richness tells us only about how many different features are present, but nothing about which features are present.\n",
    "\n",
    "Simple counting of features, as we're doing here, is common but there are a few limitations to be aware of. \n",
    "\n",
    "### Even sampling\n",
    "\n",
    "Imagine again that we're going on a sampling trip to count plants in the Sonoran Desert and the Costa Rican rainforest. We're interested in getting an idea of the plant richness in each environment. In the Sonoran Desert, we survey a square kilometer area, and count 150 species of plants. In the rainforest, we survey a square meter, and count 15 species of plants. On the basis of our survey we decide that plant species richness is higher in the desert than in the rainforest. Where did we go wrong?\n",
    "\n",
    "We expended a lot more sampling effort in the desert than we did in the rainforest, so it shouldn't be surprising that we observed more species there. If we expended the same effort in the rainforest, we'd probably observe a lot more than 15 or 150 plant species, and we'd have a more sound comparison.\n",
    "\n",
    "In sequencing-based studies of microbiomes, the analog of sampling area is sequencing depth. If we collect 100 sequences from one sample, and 10,000 sequences from another sample, we can't directly compare the number of observed features across these samples because we expended a lot more sampling effort on the sample with 10,000 sequences than on the sample with 100 sequences. \n",
    "\n",
    "The ideal way to normalize tables for computation of these metrics is a subject of ongoing research, and most likely differs depending on what you want to do with the feature table. We'll cover this topic in {ref}`feature-table-normalization`. At present, when computing alpha and {ref}`beta diversity <beta-diversity>` metics, the way this is typically handled is by randomly subsampling sequences without replacement at a fixed total frequency across all samples. This process is referred to as **rarefaction**. Continuing from the example above, if we randomly select 100 sequences to represent the sample with 10,000 sequences (i.e., we rarefy that sample to a depth of 100 sequences) we can compute its richness based on that random subsample. That richness value will serve as a more relevant comparison to the richness value for the sample that we only obtained 100 sequences from. \n",
    "\n",
    "```{warning}\n",
    "Rarefaction is not ideal. I think of it as a necessary evil that enables these comparisons. Our field needs to move toward better normalization techniques that are _accessible to users_ to get beyond the need to rarefy data. You **must** rarefy or otherwise normalize your feature table data before computing alpha and beta diversity unless the metric you're using specifically does not require this. \n",
    "```\n",
    "\n",
    "Because rarefaction involves taking a _random_ subsample of sequences from each sample, rarefying the same feature table multiple times will yield different rarefied feature tables. This is sometimes managed by computing multiple rarefied feature tables, computing diversity metrics on each table, and then averaging the diversity value computed for each sample. We'll explore this below in {ref}`alpha-rarefaction`. \n",
    "\n",
    "The following are three different rarefied versions of our example feature table from above, each rarefied to 10 sequences per sample. Notice that the total frequency for each sample is now ten. After rarefied, Observed Features is computed and presented for each rarefied table. \n",
    "\n",
    "````{margin}\n",
    "```{note}\n",
    "When feature tables are rarefied in QIIME 2, features that are not observed in any samples are dropped from the table. This doesn't impact downstream analysis and results in tables with smaller file size. You can observe this in the rarefied feature tables presented in this section.\n",
    "```\n",
    "````\n",
    "\n",
    "(adiv:first-rarefied-table)=\n",
    "#### A rarefied feature table at `sampling_depth=10`"
   ]
  },
  {
   "cell_type": "code",
   "execution_count": 4,
   "metadata": {
    "tags": [
     "hide-input"
    ]
   },
   "outputs": [
    {
     "data": {
      "text/html": [
       "<style  type=\"text/css\" >\n",
       "</style><table id=\"T_bb02b99e_93c3_11eb_ab77_000d3a1f7469\" ><thead>    <tr>        <th class=\"blank level0\" ></th>        <th class=\"col_heading level0 col0\" >B1</th>        <th class=\"col_heading level0 col1\" >B2</th>        <th class=\"col_heading level0 col2\" >B3</th>        <th class=\"col_heading level0 col3\" >B4</th>        <th class=\"col_heading level0 col4\" >B5</th>        <th class=\"col_heading level0 col5\" >A1</th>        <th class=\"col_heading level0 col6\" >E2</th>    </tr></thead><tbody>\n",
       "                <tr>\n",
       "                        <th id=\"T_bb02b99e_93c3_11eb_ab77_000d3a1f7469level0_row0\" class=\"row_heading level0 row0\" >4ac2</th>\n",
       "                        <td id=\"T_bb02b99e_93c3_11eb_ab77_000d3a1f7469row0_col0\" class=\"data row0 col0\" >4</td>\n",
       "                        <td id=\"T_bb02b99e_93c3_11eb_ab77_000d3a1f7469row0_col1\" class=\"data row0 col1\" >4</td>\n",
       "                        <td id=\"T_bb02b99e_93c3_11eb_ab77_000d3a1f7469row0_col2\" class=\"data row0 col2\" >2</td>\n",
       "                        <td id=\"T_bb02b99e_93c3_11eb_ab77_000d3a1f7469row0_col3\" class=\"data row0 col3\" >0</td>\n",
       "                        <td id=\"T_bb02b99e_93c3_11eb_ab77_000d3a1f7469row0_col4\" class=\"data row0 col4\" >0</td>\n",
       "                        <td id=\"T_bb02b99e_93c3_11eb_ab77_000d3a1f7469row0_col5\" class=\"data row0 col5\" >0</td>\n",
       "                        <td id=\"T_bb02b99e_93c3_11eb_ab77_000d3a1f7469row0_col6\" class=\"data row0 col6\" >0</td>\n",
       "            </tr>\n",
       "            <tr>\n",
       "                        <th id=\"T_bb02b99e_93c3_11eb_ab77_000d3a1f7469level0_row1\" class=\"row_heading level0 row1\" >e375</th>\n",
       "                        <td id=\"T_bb02b99e_93c3_11eb_ab77_000d3a1f7469row1_col0\" class=\"data row1 col0\" >1</td>\n",
       "                        <td id=\"T_bb02b99e_93c3_11eb_ab77_000d3a1f7469row1_col1\" class=\"data row1 col1\" >4</td>\n",
       "                        <td id=\"T_bb02b99e_93c3_11eb_ab77_000d3a1f7469row1_col2\" class=\"data row1 col2\" >1</td>\n",
       "                        <td id=\"T_bb02b99e_93c3_11eb_ab77_000d3a1f7469row1_col3\" class=\"data row1 col3\" >2</td>\n",
       "                        <td id=\"T_bb02b99e_93c3_11eb_ab77_000d3a1f7469row1_col4\" class=\"data row1 col4\" >2</td>\n",
       "                        <td id=\"T_bb02b99e_93c3_11eb_ab77_000d3a1f7469row1_col5\" class=\"data row1 col5\" >0</td>\n",
       "                        <td id=\"T_bb02b99e_93c3_11eb_ab77_000d3a1f7469row1_col6\" class=\"data row1 col6\" >0</td>\n",
       "            </tr>\n",
       "            <tr>\n",
       "                        <th id=\"T_bb02b99e_93c3_11eb_ab77_000d3a1f7469level0_row2\" class=\"row_heading level0 row2\" >4gd8</th>\n",
       "                        <td id=\"T_bb02b99e_93c3_11eb_ab77_000d3a1f7469row2_col0\" class=\"data row2 col0\" >3</td>\n",
       "                        <td id=\"T_bb02b99e_93c3_11eb_ab77_000d3a1f7469row2_col1\" class=\"data row2 col1\" >0</td>\n",
       "                        <td id=\"T_bb02b99e_93c3_11eb_ab77_000d3a1f7469row2_col2\" class=\"data row2 col2\" >0</td>\n",
       "                        <td id=\"T_bb02b99e_93c3_11eb_ab77_000d3a1f7469row2_col3\" class=\"data row2 col3\" >0</td>\n",
       "                        <td id=\"T_bb02b99e_93c3_11eb_ab77_000d3a1f7469row2_col4\" class=\"data row2 col4\" >0</td>\n",
       "                        <td id=\"T_bb02b99e_93c3_11eb_ab77_000d3a1f7469row2_col5\" class=\"data row2 col5\" >4</td>\n",
       "                        <td id=\"T_bb02b99e_93c3_11eb_ab77_000d3a1f7469row2_col6\" class=\"data row2 col6\" >3</td>\n",
       "            </tr>\n",
       "    </tbody></table>"
      ],
      "text/plain": [
       "<pandas.io.formats.style.Styler at 0x7fd36abbc9b0>"
      ]
     },
     "execution_count": 4,
     "metadata": {},
     "output_type": "execute_result"
    }
   ],
   "source": [
    "import qiime2.plugins.feature_table as ft\n",
    "\n",
    "rarefied_feature_table_1a = ft.actions.rarefy(table=feature_table_1a, sampling_depth=10).rarefied_table\n",
    "rarefied_feature_table1 = rarefied_feature_table_1a.view(pd.DataFrame).astype(int)\n",
    "rarefied_feature_table1.style"
   ]
  },
  {
   "cell_type": "code",
   "execution_count": 5,
   "metadata": {
    "tags": [
     "hide-input"
    ]
   },
   "outputs": [
    {
     "data": {
      "text/html": [
       "<style  type=\"text/css\" >\n",
       "</style><table id=\"T_bb1527f0_93c3_11eb_ab77_000d3a1f7469\" ><thead>    <tr>        <th class=\"blank level0\" ></th>        <th class=\"col_heading level0 col0\" >observed-features</th>    </tr></thead><tbody>\n",
       "                <tr>\n",
       "                        <th id=\"T_bb1527f0_93c3_11eb_ab77_000d3a1f7469level0_row0\" class=\"row_heading level0 row0\" >4ac2</th>\n",
       "                        <td id=\"T_bb1527f0_93c3_11eb_ab77_000d3a1f7469row0_col0\" class=\"data row0 col0\" >3</td>\n",
       "            </tr>\n",
       "            <tr>\n",
       "                        <th id=\"T_bb1527f0_93c3_11eb_ab77_000d3a1f7469level0_row1\" class=\"row_heading level0 row1\" >e375</th>\n",
       "                        <td id=\"T_bb1527f0_93c3_11eb_ab77_000d3a1f7469row1_col0\" class=\"data row1 col0\" >5</td>\n",
       "            </tr>\n",
       "            <tr>\n",
       "                        <th id=\"T_bb1527f0_93c3_11eb_ab77_000d3a1f7469level0_row2\" class=\"row_heading level0 row2\" >4gd8</th>\n",
       "                        <td id=\"T_bb1527f0_93c3_11eb_ab77_000d3a1f7469row2_col0\" class=\"data row2 col0\" >3</td>\n",
       "            </tr>\n",
       "    </tbody></table>"
      ],
      "text/plain": [
       "<pandas.io.formats.style.Styler at 0x7fd37cb982b0>"
      ]
     },
     "execution_count": 5,
     "metadata": {},
     "output_type": "execute_result"
    }
   ],
   "source": [
    "rarefied_observed_features_1a = div.actions.alpha(rarefied_feature_table_1a, metric='observed_features').alpha_diversity\n",
    "rarefied_observed_features_1 = rarefied_observed_features_1a.view(pd.Series).to_frame(name='observed-features')\n",
    "rarefied_observed_features_1.style"
   ]
  },
  {
   "cell_type": "markdown",
   "metadata": {},
   "source": [
    "#### Another rarefied feature table at `sampling_depth=10`"
   ]
  },
  {
   "cell_type": "code",
   "execution_count": 6,
   "metadata": {
    "tags": [
     "hide-input"
    ]
   },
   "outputs": [
    {
     "data": {
      "text/html": [
       "<style  type=\"text/css\" >\n",
       "</style><table id=\"T_bb1fbcc4_93c3_11eb_ab77_000d3a1f7469\" ><thead>    <tr>        <th class=\"blank level0\" ></th>        <th class=\"col_heading level0 col0\" >B1</th>        <th class=\"col_heading level0 col1\" >B2</th>        <th class=\"col_heading level0 col2\" >B3</th>        <th class=\"col_heading level0 col3\" >B4</th>        <th class=\"col_heading level0 col4\" >B5</th>        <th class=\"col_heading level0 col5\" >A1</th>        <th class=\"col_heading level0 col6\" >E2</th>    </tr></thead><tbody>\n",
       "                <tr>\n",
       "                        <th id=\"T_bb1fbcc4_93c3_11eb_ab77_000d3a1f7469level0_row0\" class=\"row_heading level0 row0\" >4ac2</th>\n",
       "                        <td id=\"T_bb1fbcc4_93c3_11eb_ab77_000d3a1f7469row0_col0\" class=\"data row0 col0\" >3</td>\n",
       "                        <td id=\"T_bb1fbcc4_93c3_11eb_ab77_000d3a1f7469row0_col1\" class=\"data row0 col1\" >5</td>\n",
       "                        <td id=\"T_bb1fbcc4_93c3_11eb_ab77_000d3a1f7469row0_col2\" class=\"data row0 col2\" >2</td>\n",
       "                        <td id=\"T_bb1fbcc4_93c3_11eb_ab77_000d3a1f7469row0_col3\" class=\"data row0 col3\" >0</td>\n",
       "                        <td id=\"T_bb1fbcc4_93c3_11eb_ab77_000d3a1f7469row0_col4\" class=\"data row0 col4\" >0</td>\n",
       "                        <td id=\"T_bb1fbcc4_93c3_11eb_ab77_000d3a1f7469row0_col5\" class=\"data row0 col5\" >0</td>\n",
       "                        <td id=\"T_bb1fbcc4_93c3_11eb_ab77_000d3a1f7469row0_col6\" class=\"data row0 col6\" >0</td>\n",
       "            </tr>\n",
       "            <tr>\n",
       "                        <th id=\"T_bb1fbcc4_93c3_11eb_ab77_000d3a1f7469level0_row1\" class=\"row_heading level0 row1\" >e375</th>\n",
       "                        <td id=\"T_bb1fbcc4_93c3_11eb_ab77_000d3a1f7469row1_col0\" class=\"data row1 col0\" >2</td>\n",
       "                        <td id=\"T_bb1fbcc4_93c3_11eb_ab77_000d3a1f7469row1_col1\" class=\"data row1 col1\" >2</td>\n",
       "                        <td id=\"T_bb1fbcc4_93c3_11eb_ab77_000d3a1f7469row1_col2\" class=\"data row1 col2\" >0</td>\n",
       "                        <td id=\"T_bb1fbcc4_93c3_11eb_ab77_000d3a1f7469row1_col3\" class=\"data row1 col3\" >3</td>\n",
       "                        <td id=\"T_bb1fbcc4_93c3_11eb_ab77_000d3a1f7469row1_col4\" class=\"data row1 col4\" >3</td>\n",
       "                        <td id=\"T_bb1fbcc4_93c3_11eb_ab77_000d3a1f7469row1_col5\" class=\"data row1 col5\" >0</td>\n",
       "                        <td id=\"T_bb1fbcc4_93c3_11eb_ab77_000d3a1f7469row1_col6\" class=\"data row1 col6\" >0</td>\n",
       "            </tr>\n",
       "            <tr>\n",
       "                        <th id=\"T_bb1fbcc4_93c3_11eb_ab77_000d3a1f7469level0_row2\" class=\"row_heading level0 row2\" >4gd8</th>\n",
       "                        <td id=\"T_bb1fbcc4_93c3_11eb_ab77_000d3a1f7469row2_col0\" class=\"data row2 col0\" >4</td>\n",
       "                        <td id=\"T_bb1fbcc4_93c3_11eb_ab77_000d3a1f7469row2_col1\" class=\"data row2 col1\" >0</td>\n",
       "                        <td id=\"T_bb1fbcc4_93c3_11eb_ab77_000d3a1f7469row2_col2\" class=\"data row2 col2\" >0</td>\n",
       "                        <td id=\"T_bb1fbcc4_93c3_11eb_ab77_000d3a1f7469row2_col3\" class=\"data row2 col3\" >0</td>\n",
       "                        <td id=\"T_bb1fbcc4_93c3_11eb_ab77_000d3a1f7469row2_col4\" class=\"data row2 col4\" >0</td>\n",
       "                        <td id=\"T_bb1fbcc4_93c3_11eb_ab77_000d3a1f7469row2_col5\" class=\"data row2 col5\" >3</td>\n",
       "                        <td id=\"T_bb1fbcc4_93c3_11eb_ab77_000d3a1f7469row2_col6\" class=\"data row2 col6\" >3</td>\n",
       "            </tr>\n",
       "    </tbody></table>"
      ],
      "text/plain": [
       "<pandas.io.formats.style.Styler at 0x7fd37cb98908>"
      ]
     },
     "execution_count": 6,
     "metadata": {},
     "output_type": "execute_result"
    }
   ],
   "source": [
    "rarefied_feature_table_2a = ft.actions.rarefy(table=feature_table_1a, sampling_depth=10).rarefied_table\n",
    "rarefied_feature_table2 = rarefied_feature_table_2a.view(pd.DataFrame).astype(int)\n",
    "rarefied_feature_table2.style"
   ]
  },
  {
   "cell_type": "code",
   "execution_count": 7,
   "metadata": {
    "tags": [
     "hide-input"
    ]
   },
   "outputs": [
    {
     "data": {
      "text/html": [
       "<style  type=\"text/css\" >\n",
       "</style><table id=\"T_bb2bdc70_93c3_11eb_ab77_000d3a1f7469\" ><thead>    <tr>        <th class=\"blank level0\" ></th>        <th class=\"col_heading level0 col0\" >observed-features</th>    </tr></thead><tbody>\n",
       "                <tr>\n",
       "                        <th id=\"T_bb2bdc70_93c3_11eb_ab77_000d3a1f7469level0_row0\" class=\"row_heading level0 row0\" >4ac2</th>\n",
       "                        <td id=\"T_bb2bdc70_93c3_11eb_ab77_000d3a1f7469row0_col0\" class=\"data row0 col0\" >3</td>\n",
       "            </tr>\n",
       "            <tr>\n",
       "                        <th id=\"T_bb2bdc70_93c3_11eb_ab77_000d3a1f7469level0_row1\" class=\"row_heading level0 row1\" >e375</th>\n",
       "                        <td id=\"T_bb2bdc70_93c3_11eb_ab77_000d3a1f7469row1_col0\" class=\"data row1 col0\" >4</td>\n",
       "            </tr>\n",
       "            <tr>\n",
       "                        <th id=\"T_bb2bdc70_93c3_11eb_ab77_000d3a1f7469level0_row2\" class=\"row_heading level0 row2\" >4gd8</th>\n",
       "                        <td id=\"T_bb2bdc70_93c3_11eb_ab77_000d3a1f7469row2_col0\" class=\"data row2 col0\" >3</td>\n",
       "            </tr>\n",
       "    </tbody></table>"
      ],
      "text/plain": [
       "<pandas.io.formats.style.Styler at 0x7fd394342898>"
      ]
     },
     "execution_count": 7,
     "metadata": {},
     "output_type": "execute_result"
    }
   ],
   "source": [
    "rarefied_observed_features_2a = div.actions.alpha(rarefied_feature_table_2a, metric='observed_features').alpha_diversity\n",
    "rarefied_observed_features_2 = rarefied_observed_features_2a.view(pd.Series).to_frame(name='observed-features')\n",
    "rarefied_observed_features_2.style"
   ]
  },
  {
   "cell_type": "markdown",
   "metadata": {},
   "source": [
    "#### A third rarefied feature table at `sampling_depth=10`"
   ]
  },
  {
   "cell_type": "code",
   "execution_count": 8,
   "metadata": {
    "tags": [
     "hide-input"
    ]
   },
   "outputs": [
    {
     "data": {
      "text/html": [
       "<style  type=\"text/css\" >\n",
       "</style><table id=\"T_bb363e72_93c3_11eb_ab77_000d3a1f7469\" ><thead>    <tr>        <th class=\"blank level0\" ></th>        <th class=\"col_heading level0 col0\" >B1</th>        <th class=\"col_heading level0 col1\" >B2</th>        <th class=\"col_heading level0 col2\" >B3</th>        <th class=\"col_heading level0 col3\" >B4</th>        <th class=\"col_heading level0 col4\" >B5</th>        <th class=\"col_heading level0 col5\" >A1</th>        <th class=\"col_heading level0 col6\" >E2</th>    </tr></thead><tbody>\n",
       "                <tr>\n",
       "                        <th id=\"T_bb363e72_93c3_11eb_ab77_000d3a1f7469level0_row0\" class=\"row_heading level0 row0\" >4ac2</th>\n",
       "                        <td id=\"T_bb363e72_93c3_11eb_ab77_000d3a1f7469row0_col0\" class=\"data row0 col0\" >5</td>\n",
       "                        <td id=\"T_bb363e72_93c3_11eb_ab77_000d3a1f7469row0_col1\" class=\"data row0 col1\" >4</td>\n",
       "                        <td id=\"T_bb363e72_93c3_11eb_ab77_000d3a1f7469row0_col2\" class=\"data row0 col2\" >1</td>\n",
       "                        <td id=\"T_bb363e72_93c3_11eb_ab77_000d3a1f7469row0_col3\" class=\"data row0 col3\" >0</td>\n",
       "                        <td id=\"T_bb363e72_93c3_11eb_ab77_000d3a1f7469row0_col4\" class=\"data row0 col4\" >0</td>\n",
       "                        <td id=\"T_bb363e72_93c3_11eb_ab77_000d3a1f7469row0_col5\" class=\"data row0 col5\" >0</td>\n",
       "                        <td id=\"T_bb363e72_93c3_11eb_ab77_000d3a1f7469row0_col6\" class=\"data row0 col6\" >0</td>\n",
       "            </tr>\n",
       "            <tr>\n",
       "                        <th id=\"T_bb363e72_93c3_11eb_ab77_000d3a1f7469level0_row1\" class=\"row_heading level0 row1\" >e375</th>\n",
       "                        <td id=\"T_bb363e72_93c3_11eb_ab77_000d3a1f7469row1_col0\" class=\"data row1 col0\" >2</td>\n",
       "                        <td id=\"T_bb363e72_93c3_11eb_ab77_000d3a1f7469row1_col1\" class=\"data row1 col1\" >3</td>\n",
       "                        <td id=\"T_bb363e72_93c3_11eb_ab77_000d3a1f7469row1_col2\" class=\"data row1 col2\" >1</td>\n",
       "                        <td id=\"T_bb363e72_93c3_11eb_ab77_000d3a1f7469row1_col3\" class=\"data row1 col3\" >2</td>\n",
       "                        <td id=\"T_bb363e72_93c3_11eb_ab77_000d3a1f7469row1_col4\" class=\"data row1 col4\" >2</td>\n",
       "                        <td id=\"T_bb363e72_93c3_11eb_ab77_000d3a1f7469row1_col5\" class=\"data row1 col5\" >0</td>\n",
       "                        <td id=\"T_bb363e72_93c3_11eb_ab77_000d3a1f7469row1_col6\" class=\"data row1 col6\" >0</td>\n",
       "            </tr>\n",
       "            <tr>\n",
       "                        <th id=\"T_bb363e72_93c3_11eb_ab77_000d3a1f7469level0_row2\" class=\"row_heading level0 row2\" >4gd8</th>\n",
       "                        <td id=\"T_bb363e72_93c3_11eb_ab77_000d3a1f7469row2_col0\" class=\"data row2 col0\" >4</td>\n",
       "                        <td id=\"T_bb363e72_93c3_11eb_ab77_000d3a1f7469row2_col1\" class=\"data row2 col1\" >0</td>\n",
       "                        <td id=\"T_bb363e72_93c3_11eb_ab77_000d3a1f7469row2_col2\" class=\"data row2 col2\" >0</td>\n",
       "                        <td id=\"T_bb363e72_93c3_11eb_ab77_000d3a1f7469row2_col3\" class=\"data row2 col3\" >0</td>\n",
       "                        <td id=\"T_bb363e72_93c3_11eb_ab77_000d3a1f7469row2_col4\" class=\"data row2 col4\" >0</td>\n",
       "                        <td id=\"T_bb363e72_93c3_11eb_ab77_000d3a1f7469row2_col5\" class=\"data row2 col5\" >5</td>\n",
       "                        <td id=\"T_bb363e72_93c3_11eb_ab77_000d3a1f7469row2_col6\" class=\"data row2 col6\" >1</td>\n",
       "            </tr>\n",
       "    </tbody></table>"
      ],
      "text/plain": [
       "<pandas.io.formats.style.Styler at 0x7fd36a7b3898>"
      ]
     },
     "execution_count": 8,
     "metadata": {},
     "output_type": "execute_result"
    }
   ],
   "source": [
    "rarefied_feature_table_3a = ft.actions.rarefy(table=feature_table_1a, sampling_depth=10).rarefied_table\n",
    "rarefied_feature_table3 = rarefied_feature_table_3a.view(pd.DataFrame).astype(int)\n",
    "rarefied_feature_table3.style"
   ]
  },
  {
   "cell_type": "code",
   "execution_count": 9,
   "metadata": {
    "tags": [
     "hide-input"
    ]
   },
   "outputs": [
    {
     "data": {
      "text/html": [
       "<style  type=\"text/css\" >\n",
       "</style><table id=\"T_bb4216f2_93c3_11eb_ab77_000d3a1f7469\" ><thead>    <tr>        <th class=\"blank level0\" ></th>        <th class=\"col_heading level0 col0\" >observed-features</th>    </tr></thead><tbody>\n",
       "                <tr>\n",
       "                        <th id=\"T_bb4216f2_93c3_11eb_ab77_000d3a1f7469level0_row0\" class=\"row_heading level0 row0\" >4ac2</th>\n",
       "                        <td id=\"T_bb4216f2_93c3_11eb_ab77_000d3a1f7469row0_col0\" class=\"data row0 col0\" >3</td>\n",
       "            </tr>\n",
       "            <tr>\n",
       "                        <th id=\"T_bb4216f2_93c3_11eb_ab77_000d3a1f7469level0_row1\" class=\"row_heading level0 row1\" >e375</th>\n",
       "                        <td id=\"T_bb4216f2_93c3_11eb_ab77_000d3a1f7469row1_col0\" class=\"data row1 col0\" >5</td>\n",
       "            </tr>\n",
       "            <tr>\n",
       "                        <th id=\"T_bb4216f2_93c3_11eb_ab77_000d3a1f7469level0_row2\" class=\"row_heading level0 row2\" >4gd8</th>\n",
       "                        <td id=\"T_bb4216f2_93c3_11eb_ab77_000d3a1f7469row2_col0\" class=\"data row2 col0\" >3</td>\n",
       "            </tr>\n",
       "    </tbody></table>"
      ],
      "text/plain": [
       "<pandas.io.formats.style.Styler at 0x7fd36a7fcac8>"
      ]
     },
     "execution_count": 9,
     "metadata": {},
     "output_type": "execute_result"
    }
   ],
   "source": [
    "rarefied_observed_features_3a = div.actions.alpha(rarefied_feature_table_3a, metric='observed_features').alpha_diversity\n",
    "rarefied_observed_features_3 = rarefied_observed_features_3a.view(pd.Series).to_frame(name='observed-features')\n",
    "rarefied_observed_features_3.style"
   ]
  },
  {
   "cell_type": "markdown",
   "metadata": {},
   "source": [
    "#### A rarefied feature table at a higher sampling depth (`sampling_depth=13`)\n",
    " \n",
    "If instead of choosing to rarefy at ten sequences per sample (which is lower than the total frequency of any of our samples) we rarefied at thirteen sequences per sample (which is higher than the total frequency of sample `4ac2`), sample `4ac2` will be dropped from the resulting feature table."
   ]
  },
  {
   "cell_type": "code",
   "execution_count": 10,
   "metadata": {
    "tags": [
     "hide-input"
    ]
   },
   "outputs": [
    {
     "data": {
      "text/html": [
       "<style  type=\"text/css\" >\n",
       "</style><table id=\"T_bb4bf8ca_93c3_11eb_ab77_000d3a1f7469\" ><thead>    <tr>        <th class=\"blank level0\" ></th>        <th class=\"col_heading level0 col0\" >B1</th>        <th class=\"col_heading level0 col1\" >B2</th>        <th class=\"col_heading level0 col2\" >B3</th>        <th class=\"col_heading level0 col3\" >B4</th>        <th class=\"col_heading level0 col4\" >B5</th>        <th class=\"col_heading level0 col5\" >A1</th>        <th class=\"col_heading level0 col6\" >E2</th>    </tr></thead><tbody>\n",
       "                <tr>\n",
       "                        <th id=\"T_bb4bf8ca_93c3_11eb_ab77_000d3a1f7469level0_row0\" class=\"row_heading level0 row0\" >e375</th>\n",
       "                        <td id=\"T_bb4bf8ca_93c3_11eb_ab77_000d3a1f7469row0_col0\" class=\"data row0 col0\" >2</td>\n",
       "                        <td id=\"T_bb4bf8ca_93c3_11eb_ab77_000d3a1f7469row0_col1\" class=\"data row0 col1\" >5</td>\n",
       "                        <td id=\"T_bb4bf8ca_93c3_11eb_ab77_000d3a1f7469row0_col2\" class=\"data row0 col2\" >1</td>\n",
       "                        <td id=\"T_bb4bf8ca_93c3_11eb_ab77_000d3a1f7469row0_col3\" class=\"data row0 col3\" >2</td>\n",
       "                        <td id=\"T_bb4bf8ca_93c3_11eb_ab77_000d3a1f7469row0_col4\" class=\"data row0 col4\" >3</td>\n",
       "                        <td id=\"T_bb4bf8ca_93c3_11eb_ab77_000d3a1f7469row0_col5\" class=\"data row0 col5\" >0</td>\n",
       "                        <td id=\"T_bb4bf8ca_93c3_11eb_ab77_000d3a1f7469row0_col6\" class=\"data row0 col6\" >0</td>\n",
       "            </tr>\n",
       "            <tr>\n",
       "                        <th id=\"T_bb4bf8ca_93c3_11eb_ab77_000d3a1f7469level0_row1\" class=\"row_heading level0 row1\" >4gd8</th>\n",
       "                        <td id=\"T_bb4bf8ca_93c3_11eb_ab77_000d3a1f7469row1_col0\" class=\"data row1 col0\" >4</td>\n",
       "                        <td id=\"T_bb4bf8ca_93c3_11eb_ab77_000d3a1f7469row1_col1\" class=\"data row1 col1\" >0</td>\n",
       "                        <td id=\"T_bb4bf8ca_93c3_11eb_ab77_000d3a1f7469row1_col2\" class=\"data row1 col2\" >0</td>\n",
       "                        <td id=\"T_bb4bf8ca_93c3_11eb_ab77_000d3a1f7469row1_col3\" class=\"data row1 col3\" >0</td>\n",
       "                        <td id=\"T_bb4bf8ca_93c3_11eb_ab77_000d3a1f7469row1_col4\" class=\"data row1 col4\" >0</td>\n",
       "                        <td id=\"T_bb4bf8ca_93c3_11eb_ab77_000d3a1f7469row1_col5\" class=\"data row1 col5\" >4</td>\n",
       "                        <td id=\"T_bb4bf8ca_93c3_11eb_ab77_000d3a1f7469row1_col6\" class=\"data row1 col6\" >5</td>\n",
       "            </tr>\n",
       "    </tbody></table>"
      ],
      "text/plain": [
       "<pandas.io.formats.style.Styler at 0x7fd36a7630b8>"
      ]
     },
     "execution_count": 10,
     "metadata": {},
     "output_type": "execute_result"
    }
   ],
   "source": [
    "rarefied_feature_table_4a = ft.actions.rarefy(table=feature_table_1a, sampling_depth=13).rarefied_table\n",
    "rarefied_feature_table4 = rarefied_feature_table_4a.view(pd.DataFrame).astype(int)\n",
    "rarefied_feature_table4.style"
   ]
  },
  {
   "cell_type": "code",
   "execution_count": 11,
   "metadata": {
    "tags": [
     "hide-input"
    ]
   },
   "outputs": [
    {
     "data": {
      "text/html": [
       "<style  type=\"text/css\" >\n",
       "</style><table id=\"T_bb58314e_93c3_11eb_ab77_000d3a1f7469\" ><thead>    <tr>        <th class=\"blank level0\" ></th>        <th class=\"col_heading level0 col0\" >observed-features</th>    </tr></thead><tbody>\n",
       "                <tr>\n",
       "                        <th id=\"T_bb58314e_93c3_11eb_ab77_000d3a1f7469level0_row0\" class=\"row_heading level0 row0\" >e375</th>\n",
       "                        <td id=\"T_bb58314e_93c3_11eb_ab77_000d3a1f7469row0_col0\" class=\"data row0 col0\" >5</td>\n",
       "            </tr>\n",
       "            <tr>\n",
       "                        <th id=\"T_bb58314e_93c3_11eb_ab77_000d3a1f7469level0_row1\" class=\"row_heading level0 row1\" >4gd8</th>\n",
       "                        <td id=\"T_bb58314e_93c3_11eb_ab77_000d3a1f7469row1_col0\" class=\"data row1 col0\" >3</td>\n",
       "            </tr>\n",
       "    </tbody></table>"
      ],
      "text/plain": [
       "<pandas.io.formats.style.Styler at 0x7fd36a7635c0>"
      ]
     },
     "execution_count": 11,
     "metadata": {},
     "output_type": "execute_result"
    }
   ],
   "source": [
    "rarefied_observed_features_4a = div.actions.alpha(rarefied_feature_table_4a, metric='observed_features').alpha_diversity\n",
    "rarefied_observed_features_4 = rarefied_observed_features_4a.view(pd.Series).to_frame(name='observed-features')\n",
    "rarefied_observed_features_4.style"
   ]
  },
  {
   "cell_type": "markdown",
   "metadata": {},
   "source": [
    "#### A limitation of feature counting\n",
    "\n",
    "Imagine that we have the same table, but some additional context about the features in the table. Specifically, imagine we've computed the following phylogenetic tree from our feature sequences. And, for the sake of illustration, imagine that we've also assigned taxonomy to each of the features and found that our samples contain representatives from the archaea, bacteria, and eukaryotes (their labels begin with `A`, `B`, and `E`, respectively, in this example).\n",
    "\n",
    "<!-- This code generated the tree image included in this section, but I haven't yet been able to get ete to install in the q2book environment.\n",
    "```\n",
    "import ete3\n",
    "ts = ete3.TreeStyle()\n",
    "ts.show_leaf_name = True\n",
    "ts.scale = 250\n",
    "ts.branch_vertical_margin = 15\n",
    "ts.show_branch_length = True\n",
    "```\n",
    "-->"
   ]
  },
  {
   "cell_type": "code",
   "execution_count": 12,
   "metadata": {
    "tags": [
     "hide-cell"
    ]
   },
   "outputs": [],
   "source": [
    "from io import StringIO\n",
    "from skbio.tree import TreeNode\n",
    "\n",
    "tree_1n = StringIO('((B1:0.1,B2:0.05):0.1,((B3:0.05,B4:0.1):0.1,B5:0.2):0.1,'\n",
    "                   '((A1:0.1,A2:0.05):0.3,'\n",
    "                   '(E1:0.1,E2:0.1):0.7):0.25);')\n",
    "\n",
    "tree_1 = TreeNode.read(tree_1n)\n",
    "tree_1 = tree_1.root_at_midpoint()\n",
    "\n",
    "tree_1a = qiime2.Artifact.import_data(\"Phylogeny[Rooted]\", tree_1)"
   ]
  },
  {
   "cell_type": "markdown",
   "metadata": {},
   "source": [
    "<!-- This code generated the tree image included in this section, but I haven't yet been able to get ete to install in the q2book environment.\n",
    "```\n",
    "t = ete3.Tree.from_skbio(tree, map_attributes=[\"value\"])\n",
    "t.render(\"%%inline\", tree_style=ts)\n",
    "\n",
    "```\n",
    "-->\n",
    "\n",
    "```{figure} ./images/adiv-tree-1.png\n",
    "---\n",
    "name: adiv-tree-1\n",
    "---\n",
    "A phylogenetic tree representing all of the features in our original feature table. (This tree isn't intended to accurately represent the relationship between the Bacteria, Archaea, and Eukarya.)\n",
    "```\n",
    "\n",
    "Pairing this with the table we defined above (displayed again in the cell below), and given what you now know about these features, how do you feel about the relative richness of these samples?\n",
    "\n",
    "\n",
    "### Phylogenetic Diversity (PD)\n",
    "\n",
    "Phylogenetic Diversity (PD or Faith's PD) is a metric of richness that was developed in the early 1990s {cite}`Faith1992-nn`. Like many of the metrics that are used in microbiome research, it wasn't initially designed for studying microbial communities, but rather communities of plants, animals, and other \"macro-organisms\" (macrobes?). Some of these metrics, including PD, do translate well to microbial community analysis, {ref}`while others don't <chao1>`.\n",
    "\n",
    "PD is computed as the sum of the branch lengths in a phylogenetic tree that are represented in a given sample. I recommend computing this by hand on the example data presented in this chapter to ensure that you understand how it works. It can help to have a piece of scratch paper and to print out a copy of the phylogenetic tree ({ref}`adiv-tree-1` in this example) to work through this process. It can also help to have a few colors of pencil or pen for this (one color per sample).\n",
    "\n",
    "1. For each sample in a given feature table, write down which features ids were observed in that sample on a different line. Choose a color to use to represent this sample.\n",
    "1. For each feature id in your list, find that feature in the phylogenetic tree. Trace from the feature id to the root node of the tree in the current sample's color. As you trace, write down the branch lengths of any _new_ branches that you trace in the current color for this feature. (If you encounter a branch that you have traced for a different feature in this sample, don't write it down again.)\n",
    "1. When you have done this for all of the features observed in the sample, sum the lengths of the branches that you wrote down. Again, each branch length should be added only one time for each sample. The resulting sum is the Phylogenetic Diversity of the sample. \n",
    "1. Repeat this for each sample in the feature table. Remember to choose a new color for each sample.\n",
    "\n",
    "Let's apply this metric to the three rarefied feature tables that we computed above. For each rarefied feature table, I'll print out what I would have written down on my scratch paper."
   ]
  },
  {
   "cell_type": "code",
   "execution_count": 13,
   "metadata": {
    "tags": [
     "hide-cell"
    ]
   },
   "outputs": [],
   "source": [
    "def phylogenetic_diversity(tree, table, sample_id, verbose=False):\n",
    "    # Don't use this function in practice - it's untested and slow. Instead use \n",
    "    # qiime2.plugins.diversity.actions.alpha_phylogenetic()\n",
    "\n",
    "    if verbose:\n",
    "        print(\"Observed branch lengths for sample %s\" % sample_id)\n",
    "    sample_vector = table.T[sample_id]\n",
    "    observed_features = sample_vector.index[sample_vector.to_numpy().nonzero()[0]]\n",
    "    observed_nodes = set()\n",
    "    # iterate over the observed features\n",
    "    for feature_id in observed_features:\n",
    "        t = tree.find(feature_id)\n",
    "        observed_nodes.add(t)\n",
    "        if verbose:\n",
    "            print(t.name, t.length, end=' ')\n",
    "        for internal_node in t.ancestors():\n",
    "            if internal_node.length is None:\n",
    "                # we've hit the root\n",
    "                if verbose:\n",
    "                    print('')\n",
    "            else:\n",
    "                if verbose and internal_node not in observed_nodes:\n",
    "                    print(internal_node.length, end=' ')\n",
    "                observed_nodes.add(internal_node)\n",
    "    result = sum([t.length for t in observed_nodes])\n",
    "    if verbose:\n",
    "        print()\n",
    "    return result"
   ]
  },
  {
   "cell_type": "markdown",
   "metadata": {},
   "source": [
    "#### Faith's PD computed on our first rarefied feature table\n",
    "\n",
    "The first rarefied feature table was as follows:"
   ]
  },
  {
   "cell_type": "code",
   "execution_count": 14,
   "metadata": {
    "tags": [
     "hide-input"
    ]
   },
   "outputs": [
    {
     "data": {
      "text/html": [
       "<style  type=\"text/css\" >\n",
       "</style><table id=\"T_bb609cda_93c3_11eb_ab77_000d3a1f7469\" ><thead>    <tr>        <th class=\"blank level0\" ></th>        <th class=\"col_heading level0 col0\" >B1</th>        <th class=\"col_heading level0 col1\" >B2</th>        <th class=\"col_heading level0 col2\" >B3</th>        <th class=\"col_heading level0 col3\" >B4</th>        <th class=\"col_heading level0 col4\" >B5</th>        <th class=\"col_heading level0 col5\" >A1</th>        <th class=\"col_heading level0 col6\" >E2</th>    </tr></thead><tbody>\n",
       "                <tr>\n",
       "                        <th id=\"T_bb609cda_93c3_11eb_ab77_000d3a1f7469level0_row0\" class=\"row_heading level0 row0\" >4ac2</th>\n",
       "                        <td id=\"T_bb609cda_93c3_11eb_ab77_000d3a1f7469row0_col0\" class=\"data row0 col0\" >4</td>\n",
       "                        <td id=\"T_bb609cda_93c3_11eb_ab77_000d3a1f7469row0_col1\" class=\"data row0 col1\" >4</td>\n",
       "                        <td id=\"T_bb609cda_93c3_11eb_ab77_000d3a1f7469row0_col2\" class=\"data row0 col2\" >2</td>\n",
       "                        <td id=\"T_bb609cda_93c3_11eb_ab77_000d3a1f7469row0_col3\" class=\"data row0 col3\" >0</td>\n",
       "                        <td id=\"T_bb609cda_93c3_11eb_ab77_000d3a1f7469row0_col4\" class=\"data row0 col4\" >0</td>\n",
       "                        <td id=\"T_bb609cda_93c3_11eb_ab77_000d3a1f7469row0_col5\" class=\"data row0 col5\" >0</td>\n",
       "                        <td id=\"T_bb609cda_93c3_11eb_ab77_000d3a1f7469row0_col6\" class=\"data row0 col6\" >0</td>\n",
       "            </tr>\n",
       "            <tr>\n",
       "                        <th id=\"T_bb609cda_93c3_11eb_ab77_000d3a1f7469level0_row1\" class=\"row_heading level0 row1\" >e375</th>\n",
       "                        <td id=\"T_bb609cda_93c3_11eb_ab77_000d3a1f7469row1_col0\" class=\"data row1 col0\" >1</td>\n",
       "                        <td id=\"T_bb609cda_93c3_11eb_ab77_000d3a1f7469row1_col1\" class=\"data row1 col1\" >4</td>\n",
       "                        <td id=\"T_bb609cda_93c3_11eb_ab77_000d3a1f7469row1_col2\" class=\"data row1 col2\" >1</td>\n",
       "                        <td id=\"T_bb609cda_93c3_11eb_ab77_000d3a1f7469row1_col3\" class=\"data row1 col3\" >2</td>\n",
       "                        <td id=\"T_bb609cda_93c3_11eb_ab77_000d3a1f7469row1_col4\" class=\"data row1 col4\" >2</td>\n",
       "                        <td id=\"T_bb609cda_93c3_11eb_ab77_000d3a1f7469row1_col5\" class=\"data row1 col5\" >0</td>\n",
       "                        <td id=\"T_bb609cda_93c3_11eb_ab77_000d3a1f7469row1_col6\" class=\"data row1 col6\" >0</td>\n",
       "            </tr>\n",
       "            <tr>\n",
       "                        <th id=\"T_bb609cda_93c3_11eb_ab77_000d3a1f7469level0_row2\" class=\"row_heading level0 row2\" >4gd8</th>\n",
       "                        <td id=\"T_bb609cda_93c3_11eb_ab77_000d3a1f7469row2_col0\" class=\"data row2 col0\" >3</td>\n",
       "                        <td id=\"T_bb609cda_93c3_11eb_ab77_000d3a1f7469row2_col1\" class=\"data row2 col1\" >0</td>\n",
       "                        <td id=\"T_bb609cda_93c3_11eb_ab77_000d3a1f7469row2_col2\" class=\"data row2 col2\" >0</td>\n",
       "                        <td id=\"T_bb609cda_93c3_11eb_ab77_000d3a1f7469row2_col3\" class=\"data row2 col3\" >0</td>\n",
       "                        <td id=\"T_bb609cda_93c3_11eb_ab77_000d3a1f7469row2_col4\" class=\"data row2 col4\" >0</td>\n",
       "                        <td id=\"T_bb609cda_93c3_11eb_ab77_000d3a1f7469row2_col5\" class=\"data row2 col5\" >4</td>\n",
       "                        <td id=\"T_bb609cda_93c3_11eb_ab77_000d3a1f7469row2_col6\" class=\"data row2 col6\" >3</td>\n",
       "            </tr>\n",
       "    </tbody></table>"
      ],
      "text/plain": [
       "<pandas.io.formats.style.Styler at 0x7fd36a762b38>"
      ]
     },
     "execution_count": 14,
     "metadata": {},
     "output_type": "execute_result"
    }
   ],
   "source": [
    "rarefied_feature_table1.style"
   ]
  },
  {
   "cell_type": "markdown",
   "metadata": {},
   "source": [
    "Working through the steps for each sample, I would have the following notes:"
   ]
  },
  {
   "cell_type": "code",
   "execution_count": 15,
   "metadata": {
    "tags": [
     "hide-input"
    ]
   },
   "outputs": [
    {
     "name": "stdout",
     "output_type": "stream",
     "text": [
      "Observed branch lengths for sample 4ac2\n",
      "B1 0.1 0.1 0.25 0.125 \n",
      "B2 0.05 \n",
      "B3 0.05 0.1 0.1 \n",
      "\n",
      "Observed branch lengths for sample e375\n",
      "B1 0.1 0.1 0.25 0.125 \n",
      "B2 0.05 \n",
      "B3 0.05 0.1 0.1 \n",
      "B4 0.1 \n",
      "B5 0.2 \n",
      "\n",
      "Observed branch lengths for sample 4gd8\n",
      "B1 0.1 0.1 0.25 0.125 \n",
      "A1 0.1 0.3 \n",
      "E2 0.1 0.575 \n",
      "\n"
     ]
    }
   ],
   "source": [
    "for sample_id in rarefied_feature_table1.index:\n",
    "    _ = phylogenetic_diversity(tree_1, rarefied_feature_table1, sample_id, verbose=True)"
   ]
  },
  {
   "cell_type": "markdown",
   "metadata": {},
   "source": [
    "This would result in the following vector of Phylogenetic Diversities:"
   ]
  },
  {
   "cell_type": "code",
   "execution_count": 16,
   "metadata": {
    "tags": [
     "hide-input"
    ]
   },
   "outputs": [
    {
     "data": {
      "text/html": [
       "<style  type=\"text/css\" >\n",
       "</style><table id=\"T_bb70360e_93c3_11eb_ab77_000d3a1f7469\" ><thead>    <tr>        <th class=\"blank level0\" ></th>        <th class=\"col_heading level0 col0\" >Faith's PD</th>    </tr></thead><tbody>\n",
       "                <tr>\n",
       "                        <th id=\"T_bb70360e_93c3_11eb_ab77_000d3a1f7469level0_row0\" class=\"row_heading level0 row0\" >4ac2</th>\n",
       "                        <td id=\"T_bb70360e_93c3_11eb_ab77_000d3a1f7469row0_col0\" class=\"data row0 col0\" >0.875000</td>\n",
       "            </tr>\n",
       "            <tr>\n",
       "                        <th id=\"T_bb70360e_93c3_11eb_ab77_000d3a1f7469level0_row1\" class=\"row_heading level0 row1\" >e375</th>\n",
       "                        <td id=\"T_bb70360e_93c3_11eb_ab77_000d3a1f7469row1_col0\" class=\"data row1 col0\" >1.175000</td>\n",
       "            </tr>\n",
       "            <tr>\n",
       "                        <th id=\"T_bb70360e_93c3_11eb_ab77_000d3a1f7469level0_row2\" class=\"row_heading level0 row2\" >4gd8</th>\n",
       "                        <td id=\"T_bb70360e_93c3_11eb_ab77_000d3a1f7469row2_col0\" class=\"data row2 col0\" >1.650000</td>\n",
       "            </tr>\n",
       "    </tbody></table>"
      ],
      "text/plain": [
       "<pandas.io.formats.style.Styler at 0x7fd37e5da400>"
      ]
     },
     "execution_count": 16,
     "metadata": {},
     "output_type": "execute_result"
    }
   ],
   "source": [
    "pd_1a = div.actions.alpha_phylogenetic(rarefied_feature_table_1a, tree_1a, metric='faith_pd').alpha_diversity\n",
    "pd_1 = pd_1a.view(pd.Series).to_frame(name=\"Faith's PD\")\n",
    "pd_1.style"
   ]
  },
  {
   "cell_type": "markdown",
   "metadata": {},
   "source": [
    "#### Faith's PD computed on our second rarefied feature table\n",
    "\n",
    "The second rarefied feature table was as follows:"
   ]
  },
  {
   "cell_type": "code",
   "execution_count": 17,
   "metadata": {
    "tags": [
     "hide-input"
    ]
   },
   "outputs": [
    {
     "data": {
      "text/html": [
       "<style  type=\"text/css\" >\n",
       "</style><table id=\"T_bb71baec_93c3_11eb_ab77_000d3a1f7469\" ><thead>    <tr>        <th class=\"blank level0\" ></th>        <th class=\"col_heading level0 col0\" >B1</th>        <th class=\"col_heading level0 col1\" >B2</th>        <th class=\"col_heading level0 col2\" >B3</th>        <th class=\"col_heading level0 col3\" >B4</th>        <th class=\"col_heading level0 col4\" >B5</th>        <th class=\"col_heading level0 col5\" >A1</th>        <th class=\"col_heading level0 col6\" >E2</th>    </tr></thead><tbody>\n",
       "                <tr>\n",
       "                        <th id=\"T_bb71baec_93c3_11eb_ab77_000d3a1f7469level0_row0\" class=\"row_heading level0 row0\" >4ac2</th>\n",
       "                        <td id=\"T_bb71baec_93c3_11eb_ab77_000d3a1f7469row0_col0\" class=\"data row0 col0\" >3</td>\n",
       "                        <td id=\"T_bb71baec_93c3_11eb_ab77_000d3a1f7469row0_col1\" class=\"data row0 col1\" >5</td>\n",
       "                        <td id=\"T_bb71baec_93c3_11eb_ab77_000d3a1f7469row0_col2\" class=\"data row0 col2\" >2</td>\n",
       "                        <td id=\"T_bb71baec_93c3_11eb_ab77_000d3a1f7469row0_col3\" class=\"data row0 col3\" >0</td>\n",
       "                        <td id=\"T_bb71baec_93c3_11eb_ab77_000d3a1f7469row0_col4\" class=\"data row0 col4\" >0</td>\n",
       "                        <td id=\"T_bb71baec_93c3_11eb_ab77_000d3a1f7469row0_col5\" class=\"data row0 col5\" >0</td>\n",
       "                        <td id=\"T_bb71baec_93c3_11eb_ab77_000d3a1f7469row0_col6\" class=\"data row0 col6\" >0</td>\n",
       "            </tr>\n",
       "            <tr>\n",
       "                        <th id=\"T_bb71baec_93c3_11eb_ab77_000d3a1f7469level0_row1\" class=\"row_heading level0 row1\" >e375</th>\n",
       "                        <td id=\"T_bb71baec_93c3_11eb_ab77_000d3a1f7469row1_col0\" class=\"data row1 col0\" >2</td>\n",
       "                        <td id=\"T_bb71baec_93c3_11eb_ab77_000d3a1f7469row1_col1\" class=\"data row1 col1\" >2</td>\n",
       "                        <td id=\"T_bb71baec_93c3_11eb_ab77_000d3a1f7469row1_col2\" class=\"data row1 col2\" >0</td>\n",
       "                        <td id=\"T_bb71baec_93c3_11eb_ab77_000d3a1f7469row1_col3\" class=\"data row1 col3\" >3</td>\n",
       "                        <td id=\"T_bb71baec_93c3_11eb_ab77_000d3a1f7469row1_col4\" class=\"data row1 col4\" >3</td>\n",
       "                        <td id=\"T_bb71baec_93c3_11eb_ab77_000d3a1f7469row1_col5\" class=\"data row1 col5\" >0</td>\n",
       "                        <td id=\"T_bb71baec_93c3_11eb_ab77_000d3a1f7469row1_col6\" class=\"data row1 col6\" >0</td>\n",
       "            </tr>\n",
       "            <tr>\n",
       "                        <th id=\"T_bb71baec_93c3_11eb_ab77_000d3a1f7469level0_row2\" class=\"row_heading level0 row2\" >4gd8</th>\n",
       "                        <td id=\"T_bb71baec_93c3_11eb_ab77_000d3a1f7469row2_col0\" class=\"data row2 col0\" >4</td>\n",
       "                        <td id=\"T_bb71baec_93c3_11eb_ab77_000d3a1f7469row2_col1\" class=\"data row2 col1\" >0</td>\n",
       "                        <td id=\"T_bb71baec_93c3_11eb_ab77_000d3a1f7469row2_col2\" class=\"data row2 col2\" >0</td>\n",
       "                        <td id=\"T_bb71baec_93c3_11eb_ab77_000d3a1f7469row2_col3\" class=\"data row2 col3\" >0</td>\n",
       "                        <td id=\"T_bb71baec_93c3_11eb_ab77_000d3a1f7469row2_col4\" class=\"data row2 col4\" >0</td>\n",
       "                        <td id=\"T_bb71baec_93c3_11eb_ab77_000d3a1f7469row2_col5\" class=\"data row2 col5\" >3</td>\n",
       "                        <td id=\"T_bb71baec_93c3_11eb_ab77_000d3a1f7469row2_col6\" class=\"data row2 col6\" >3</td>\n",
       "            </tr>\n",
       "    </tbody></table>"
      ],
      "text/plain": [
       "<pandas.io.formats.style.Styler at 0x7fd36a70d2b0>"
      ]
     },
     "execution_count": 17,
     "metadata": {},
     "output_type": "execute_result"
    }
   ],
   "source": [
    "rarefied_feature_table2.style"
   ]
  },
  {
   "cell_type": "markdown",
   "metadata": {},
   "source": [
    "Working through the steps for each sample, I would have the following notes:"
   ]
  },
  {
   "cell_type": "code",
   "execution_count": 18,
   "metadata": {
    "tags": [
     "hide-input"
    ]
   },
   "outputs": [
    {
     "name": "stdout",
     "output_type": "stream",
     "text": [
      "Observed branch lengths for sample 4ac2\n",
      "B1 0.1 0.1 0.25 0.125 \n",
      "B2 0.05 \n",
      "B3 0.05 0.1 0.1 \n",
      "\n",
      "Observed branch lengths for sample e375\n",
      "B1 0.1 0.1 0.25 0.125 \n",
      "B2 0.05 \n",
      "B4 0.1 0.1 0.1 \n",
      "B5 0.2 \n",
      "\n",
      "Observed branch lengths for sample 4gd8\n",
      "B1 0.1 0.1 0.25 0.125 \n",
      "A1 0.1 0.3 \n",
      "E2 0.1 0.575 \n",
      "\n"
     ]
    }
   ],
   "source": [
    "for sample_id in rarefied_feature_table2.index:\n",
    "    _ = phylogenetic_diversity(tree_1, rarefied_feature_table2, sample_id, verbose=True)"
   ]
  },
  {
   "cell_type": "markdown",
   "metadata": {},
   "source": [
    "This would result in the following vector of Phylogenetic Diversities:"
   ]
  },
  {
   "cell_type": "code",
   "execution_count": 19,
   "metadata": {
    "tags": [
     "hide-input"
    ]
   },
   "outputs": [
    {
     "data": {
      "text/html": [
       "<style  type=\"text/css\" >\n",
       "</style><table id=\"T_bb814994_93c3_11eb_ab77_000d3a1f7469\" ><thead>    <tr>        <th class=\"blank level0\" ></th>        <th class=\"col_heading level0 col0\" >Faith's PD</th>    </tr></thead><tbody>\n",
       "                <tr>\n",
       "                        <th id=\"T_bb814994_93c3_11eb_ab77_000d3a1f7469level0_row0\" class=\"row_heading level0 row0\" >4ac2</th>\n",
       "                        <td id=\"T_bb814994_93c3_11eb_ab77_000d3a1f7469row0_col0\" class=\"data row0 col0\" >0.875000</td>\n",
       "            </tr>\n",
       "            <tr>\n",
       "                        <th id=\"T_bb814994_93c3_11eb_ab77_000d3a1f7469level0_row1\" class=\"row_heading level0 row1\" >e375</th>\n",
       "                        <td id=\"T_bb814994_93c3_11eb_ab77_000d3a1f7469row1_col0\" class=\"data row1 col0\" >1.125000</td>\n",
       "            </tr>\n",
       "            <tr>\n",
       "                        <th id=\"T_bb814994_93c3_11eb_ab77_000d3a1f7469level0_row2\" class=\"row_heading level0 row2\" >4gd8</th>\n",
       "                        <td id=\"T_bb814994_93c3_11eb_ab77_000d3a1f7469row2_col0\" class=\"data row2 col0\" >1.650000</td>\n",
       "            </tr>\n",
       "    </tbody></table>"
      ],
      "text/plain": [
       "<pandas.io.formats.style.Styler at 0x7fd3943a9f60>"
      ]
     },
     "execution_count": 19,
     "metadata": {},
     "output_type": "execute_result"
    }
   ],
   "source": [
    "pd_2a = div.actions.alpha_phylogenetic(rarefied_feature_table_2a, tree_1a, metric='faith_pd').alpha_diversity\n",
    "pd_2 = pd_2a.view(pd.Series).to_frame(name=\"Faith's PD\")\n",
    "pd_2.style"
   ]
  },
  {
   "cell_type": "markdown",
   "metadata": {},
   "source": [
    "#### Faith's PD computed on our third rarefied feature table\n",
    "\n",
    "The third rarefied feature table was as follows:"
   ]
  },
  {
   "cell_type": "code",
   "execution_count": 20,
   "metadata": {
    "tags": [
     "hide-input"
    ]
   },
   "outputs": [
    {
     "data": {
      "text/html": [
       "<style  type=\"text/css\" >\n",
       "</style><table id=\"T_bb829f92_93c3_11eb_ab77_000d3a1f7469\" ><thead>    <tr>        <th class=\"blank level0\" ></th>        <th class=\"col_heading level0 col0\" >B1</th>        <th class=\"col_heading level0 col1\" >B2</th>        <th class=\"col_heading level0 col2\" >B3</th>        <th class=\"col_heading level0 col3\" >B4</th>        <th class=\"col_heading level0 col4\" >B5</th>        <th class=\"col_heading level0 col5\" >A1</th>        <th class=\"col_heading level0 col6\" >E2</th>    </tr></thead><tbody>\n",
       "                <tr>\n",
       "                        <th id=\"T_bb829f92_93c3_11eb_ab77_000d3a1f7469level0_row0\" class=\"row_heading level0 row0\" >4ac2</th>\n",
       "                        <td id=\"T_bb829f92_93c3_11eb_ab77_000d3a1f7469row0_col0\" class=\"data row0 col0\" >5</td>\n",
       "                        <td id=\"T_bb829f92_93c3_11eb_ab77_000d3a1f7469row0_col1\" class=\"data row0 col1\" >4</td>\n",
       "                        <td id=\"T_bb829f92_93c3_11eb_ab77_000d3a1f7469row0_col2\" class=\"data row0 col2\" >1</td>\n",
       "                        <td id=\"T_bb829f92_93c3_11eb_ab77_000d3a1f7469row0_col3\" class=\"data row0 col3\" >0</td>\n",
       "                        <td id=\"T_bb829f92_93c3_11eb_ab77_000d3a1f7469row0_col4\" class=\"data row0 col4\" >0</td>\n",
       "                        <td id=\"T_bb829f92_93c3_11eb_ab77_000d3a1f7469row0_col5\" class=\"data row0 col5\" >0</td>\n",
       "                        <td id=\"T_bb829f92_93c3_11eb_ab77_000d3a1f7469row0_col6\" class=\"data row0 col6\" >0</td>\n",
       "            </tr>\n",
       "            <tr>\n",
       "                        <th id=\"T_bb829f92_93c3_11eb_ab77_000d3a1f7469level0_row1\" class=\"row_heading level0 row1\" >e375</th>\n",
       "                        <td id=\"T_bb829f92_93c3_11eb_ab77_000d3a1f7469row1_col0\" class=\"data row1 col0\" >2</td>\n",
       "                        <td id=\"T_bb829f92_93c3_11eb_ab77_000d3a1f7469row1_col1\" class=\"data row1 col1\" >3</td>\n",
       "                        <td id=\"T_bb829f92_93c3_11eb_ab77_000d3a1f7469row1_col2\" class=\"data row1 col2\" >1</td>\n",
       "                        <td id=\"T_bb829f92_93c3_11eb_ab77_000d3a1f7469row1_col3\" class=\"data row1 col3\" >2</td>\n",
       "                        <td id=\"T_bb829f92_93c3_11eb_ab77_000d3a1f7469row1_col4\" class=\"data row1 col4\" >2</td>\n",
       "                        <td id=\"T_bb829f92_93c3_11eb_ab77_000d3a1f7469row1_col5\" class=\"data row1 col5\" >0</td>\n",
       "                        <td id=\"T_bb829f92_93c3_11eb_ab77_000d3a1f7469row1_col6\" class=\"data row1 col6\" >0</td>\n",
       "            </tr>\n",
       "            <tr>\n",
       "                        <th id=\"T_bb829f92_93c3_11eb_ab77_000d3a1f7469level0_row2\" class=\"row_heading level0 row2\" >4gd8</th>\n",
       "                        <td id=\"T_bb829f92_93c3_11eb_ab77_000d3a1f7469row2_col0\" class=\"data row2 col0\" >4</td>\n",
       "                        <td id=\"T_bb829f92_93c3_11eb_ab77_000d3a1f7469row2_col1\" class=\"data row2 col1\" >0</td>\n",
       "                        <td id=\"T_bb829f92_93c3_11eb_ab77_000d3a1f7469row2_col2\" class=\"data row2 col2\" >0</td>\n",
       "                        <td id=\"T_bb829f92_93c3_11eb_ab77_000d3a1f7469row2_col3\" class=\"data row2 col3\" >0</td>\n",
       "                        <td id=\"T_bb829f92_93c3_11eb_ab77_000d3a1f7469row2_col4\" class=\"data row2 col4\" >0</td>\n",
       "                        <td id=\"T_bb829f92_93c3_11eb_ab77_000d3a1f7469row2_col5\" class=\"data row2 col5\" >5</td>\n",
       "                        <td id=\"T_bb829f92_93c3_11eb_ab77_000d3a1f7469row2_col6\" class=\"data row2 col6\" >1</td>\n",
       "            </tr>\n",
       "    </tbody></table>"
      ],
      "text/plain": [
       "<pandas.io.formats.style.Styler at 0x7fd36a7004a8>"
      ]
     },
     "execution_count": 20,
     "metadata": {},
     "output_type": "execute_result"
    }
   ],
   "source": [
    "rarefied_feature_table3.style"
   ]
  },
  {
   "cell_type": "markdown",
   "metadata": {},
   "source": [
    "Working through the steps for each sample, I would have the following notes:"
   ]
  },
  {
   "cell_type": "code",
   "execution_count": 21,
   "metadata": {
    "tags": [
     "hide-input"
    ]
   },
   "outputs": [
    {
     "name": "stdout",
     "output_type": "stream",
     "text": [
      "Observed branch lengths for sample 4ac2\n",
      "B1 0.1 0.1 0.25 0.125 \n",
      "B2 0.05 \n",
      "B3 0.05 0.1 0.1 \n",
      "\n",
      "Observed branch lengths for sample e375\n",
      "B1 0.1 0.1 0.25 0.125 \n",
      "B2 0.05 \n",
      "B3 0.05 0.1 0.1 \n",
      "B4 0.1 \n",
      "B5 0.2 \n",
      "\n",
      "Observed branch lengths for sample 4gd8\n",
      "B1 0.1 0.1 0.25 0.125 \n",
      "A1 0.1 0.3 \n",
      "E2 0.1 0.575 \n",
      "\n"
     ]
    }
   ],
   "source": [
    "for sample_id in rarefied_feature_table1.index:\n",
    "    _ = phylogenetic_diversity(tree_1, rarefied_feature_table3, sample_id, verbose=True)"
   ]
  },
  {
   "cell_type": "markdown",
   "metadata": {},
   "source": [
    "This would result in the following vector of Phylogenetic Diversities:"
   ]
  },
  {
   "cell_type": "code",
   "execution_count": 22,
   "metadata": {
    "tags": [
     "hide-input"
    ]
   },
   "outputs": [
    {
     "data": {
      "text/html": [
       "<style  type=\"text/css\" >\n",
       "</style><table id=\"T_bb9289ca_93c3_11eb_ab77_000d3a1f7469\" ><thead>    <tr>        <th class=\"blank level0\" ></th>        <th class=\"col_heading level0 col0\" >Faith's PD</th>    </tr></thead><tbody>\n",
       "                <tr>\n",
       "                        <th id=\"T_bb9289ca_93c3_11eb_ab77_000d3a1f7469level0_row0\" class=\"row_heading level0 row0\" >4ac2</th>\n",
       "                        <td id=\"T_bb9289ca_93c3_11eb_ab77_000d3a1f7469row0_col0\" class=\"data row0 col0\" >0.875000</td>\n",
       "            </tr>\n",
       "            <tr>\n",
       "                        <th id=\"T_bb9289ca_93c3_11eb_ab77_000d3a1f7469level0_row1\" class=\"row_heading level0 row1\" >e375</th>\n",
       "                        <td id=\"T_bb9289ca_93c3_11eb_ab77_000d3a1f7469row1_col0\" class=\"data row1 col0\" >1.175000</td>\n",
       "            </tr>\n",
       "            <tr>\n",
       "                        <th id=\"T_bb9289ca_93c3_11eb_ab77_000d3a1f7469level0_row2\" class=\"row_heading level0 row2\" >4gd8</th>\n",
       "                        <td id=\"T_bb9289ca_93c3_11eb_ab77_000d3a1f7469row2_col0\" class=\"data row2 col0\" >1.650000</td>\n",
       "            </tr>\n",
       "    </tbody></table>"
      ],
      "text/plain": [
       "<pandas.io.formats.style.Styler at 0x7fd36a700550>"
      ]
     },
     "execution_count": 22,
     "metadata": {},
     "output_type": "execute_result"
    }
   ],
   "source": [
    "pd_3a = div.actions.alpha_phylogenetic(rarefied_feature_table_3a, tree_1a, metric='faith_pd').alpha_diversity\n",
    "pd_3 = pd_3a.view(pd.Series).to_frame(name=\"Faith's PD\")\n",
    "pd_3.style"
   ]
  },
  {
   "cell_type": "markdown",
   "metadata": {},
   "source": [
    "How do these results compare to what we computed above with the Observed Features metric? It's important to note that neither Observed Features nor Faith's PD are _more correct_ than the other. These metrics tell us different things about our samples, and depending on our interests we may want to choose one metric over the other. I often compute both of these metrics.\n",
    "\n",
    "(PD_whole_tree)=\n",
    "```{admonition} What is PD_whole_tree?\n",
    ":class: warning\n",
    "You may occasionally see Faith's PD values reported as \"PD_whole_tree\" in the literature. This is not the name of this metric, and it shouldn't be used. Faith's PD values should be reported as \"Faith's PD\" or \"Phylogenetic Diversity\", or \"Faith's Phylogenetic Diversity\". \n",
    "\n",
    "I'll take the blame for the \"PD_whole_tree\" misnomer. It came about because, in QIIME 1, we allowed the name of a function that computed PD to show up in figures that presented PD values. `PD_whole_tree` was [an internal name used in our code](https://github.com/pycogent/pycogent/blob/1.5.3-release/cogent/maths/unifrac/fast_unifrac.py#L220) to indicate that we were computing Faith's PD from a phylogenetic tree that had not been pruned to represent only the features that were observed in the feature table (i.e., it used the \"whole tree\"). This is a good name for the function, but it shouldn't be presented to end-users of the software. Sorry about that!\n",
    "```\n",
    "\n",
    "(chao1)=\n",
    "### What about Chao1?\n",
    "\n",
    "Another metric that was widely used in microbiome research, especially in the early days, was Chao1 {cite}`Chao1984-sk`. Chao1 tries to do something different than the other richness metrics we've looked at here: it attempts to project what the actual diversity of the environment being sampled is, rather than just computing the diversity of what we observed. This is very appealing, but the way that it does this is not compatible with sequencing-based approaches for studying microbiomes and it shouldn't be used on this type of data. \n",
    "\n",
    "Chao1 integrates the count of **singleton features** in its computation, where a singleton feature is defined as a feature that was only observed one time in a sample. The idea is that if you have observed a lot of singleton features, there are also probably a lot that you haven't observed yet, so the actual diversity of the environment is likely higher than what you observe in the sample. If on the other hand, you observe few or no singleton features, that you have probably come closer to fully capturing the richness of the environment with your sample, so the actual diversity of the environment is close to what you observed. \n",
    "\n",
    "This is a very cool approach, but with sequencing data we often don't trust singletons as they frequently result from sequencing errors. In fact, many analysis workflows explicitly or implicitly filter singleton features out of samples. So, unfortunately, Chao1 shouldn't be applied to microbiome sequence data because the counts of singletons are not reliably telling us anything about the environments we're studying. \n",
    "\n",
    "For an illustration of the effect of sequencing error on Faith's PD, where it is handled well, versus its effect on the Chao1 metric, where it is handled less well, see Figure 1c and 1f of {cite}`Reeder2010-in`. (And, can you identify what's [wrong](PD_whole_tree) with the axis labels of Figure 1f?)\n",
    "\n",
    "## Microbiome evenness\n",
    "\n",
    "## Shannon diversity\n",
    "\n",
    "(alpha-rarefaction)=\n",
    "## Alpha rarefaction\n",
    "\n",
    "## List of works cited\n",
    "\n",
    "```{bibliography} ../references.bib\n",
    ":filter: docname in docnames\n",
    "```"
   ]
  }
 ],
 "metadata": {
  "jupytext": {
   "cell_metadata_filter": "-all",
   "formats": "md:myst",
   "text_representation": {
    "extension": ".md",
    "format_name": "myst",
    "format_version": 0.12,
    "jupytext_version": "1.9.1"
   }
  },
  "kernelspec": {
   "display_name": "Python 3",
   "language": "python",
   "name": "python3"
  },
  "language_info": {
   "codemirror_mode": {
    "name": "ipython",
    "version": 3
   },
   "file_extension": ".py",
   "mimetype": "text/x-python",
   "name": "python",
   "nbconvert_exporter": "python",
   "pygments_lexer": "ipython3",
   "version": "3.6.12"
  },
  "source_map": [
   14,
   39,
   52,
   56,
   67,
   71,
   81,
   114,
   123,
   128,
   132,
   139,
   144,
   148,
   155,
   160,
   166,
   173,
   178,
   195,
   208,
   241,
   271,
   277,
   280,
   284,
   288,
   292,
   297,
   303,
   306,
   310,
   314,
   318,
   323,
   329,
   332,
   336,
   340,
   343,
   348
  ]
 },
 "nbformat": 4,
 "nbformat_minor": 4
}