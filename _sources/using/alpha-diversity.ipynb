{
 "cells": [
  {
   "cell_type": "markdown",
   "metadata": {},
   "source": [
    "(alpha-diversity)=\n",
    "# Alpha diversity\n",
    "\n",
    "In this chapter we'll begin to explore metrics of microbiome diversity. We'll start with metrics of **alpha diversity**, which are measures of \"within-sample\" diversity. The way I typically think of these is as metrics that can be computed on a single sample.\n",
    "\n",
    "The first sub-category of alpha diversity metric that we'll look at will be *richness*. Richness refers to how many different types of organisms are present in a sample. For example, if we're interested in species richness of plants in the Sonoran Desert and the Costa Rican rainforest, we could go to each, count the number of different species of plants that we observe, and have a basic measure of species richness in each environment.\n",
    "\n",
    "```{admonition} Jargon: \"type of organism\"\n",
    "As defined earlier, a \"type of organism\" or a \"type of microbe\" is an arbitrary taxonomic grouping, such as genus, species, strain, or even an amplicon sequence variant.\n",
    "```\n",
    "\n",
    "The next sub-cateogry of alpha diversity metric that we'll discuss in this chapter will be *evenness*. Evenness tells us how consistent the distribution of species abundances are in a given environment. If, for example, the most abundant plant in the Sonoran desert was roughly as common as the least abundant plant (not the case!), we would say that the evenness of plant species was high. On the other hand, if the most abundant plant was thousands of times more common than the least common plant (probably closer to the truth), then we'd say that the evenness of plant species was low.\n",
    "\n",
    "## Measures of microbiome richness\n",
    "\n",
    "We'll begin by looking at two measures of community richness. Both of these are commonly used in practice. \n",
    "\n",
    "### Observed features\n",
    "\n",
    "Observed features is a very simple metric that can be used to quantify microbiome diversity. With this metric, we simply count the features that are observed in a given sample. A feature is considered to have been observed in a sample if it has a frequency of greater than zero. This is a **qualitative** diversity metric meaning that each feature is treated as being either observed or not observed. This metric doesn't consider how many times a feature was observed.\n",
    "\n",
    "Let's define a simple feature table for this analysis:"
   ]
  },
  {
   "cell_type": "code",
   "execution_count": 1,
   "metadata": {
    "tags": [
     "hide-input"
    ]
   },
   "outputs": [
    {
     "data": {
      "text/html": [
       "<style  type=\"text/css\" >\n",
       "</style><table id=\"T_4aff6230_9235_11eb_8b49_000d3a9d2c7f\" ><thead>    <tr>        <th class=\"blank level0\" ></th>        <th class=\"col_heading level0 col0\" >B1</th>        <th class=\"col_heading level0 col1\" >B2</th>        <th class=\"col_heading level0 col2\" >B3</th>        <th class=\"col_heading level0 col3\" >B4</th>        <th class=\"col_heading level0 col4\" >B5</th>        <th class=\"col_heading level0 col5\" >A1</th>        <th class=\"col_heading level0 col6\" >E2</th>    </tr></thead><tbody>\n",
       "                <tr>\n",
       "                        <th id=\"T_4aff6230_9235_11eb_8b49_000d3a9d2c7flevel0_row0\" class=\"row_heading level0 row0\" >4ac2</th>\n",
       "                        <td id=\"T_4aff6230_9235_11eb_8b49_000d3a9d2c7frow0_col0\" class=\"data row0 col0\" >1</td>\n",
       "                        <td id=\"T_4aff6230_9235_11eb_8b49_000d3a9d2c7frow0_col1\" class=\"data row0 col1\" >1</td>\n",
       "                        <td id=\"T_4aff6230_9235_11eb_8b49_000d3a9d2c7frow0_col2\" class=\"data row0 col2\" >3</td>\n",
       "                        <td id=\"T_4aff6230_9235_11eb_8b49_000d3a9d2c7frow0_col3\" class=\"data row0 col3\" >0</td>\n",
       "                        <td id=\"T_4aff6230_9235_11eb_8b49_000d3a9d2c7frow0_col4\" class=\"data row0 col4\" >0</td>\n",
       "                        <td id=\"T_4aff6230_9235_11eb_8b49_000d3a9d2c7frow0_col5\" class=\"data row0 col5\" >0</td>\n",
       "                        <td id=\"T_4aff6230_9235_11eb_8b49_000d3a9d2c7frow0_col6\" class=\"data row0 col6\" >0</td>\n",
       "            </tr>\n",
       "            <tr>\n",
       "                        <th id=\"T_4aff6230_9235_11eb_8b49_000d3a9d2c7flevel0_row1\" class=\"row_heading level0 row1\" >e375</th>\n",
       "                        <td id=\"T_4aff6230_9235_11eb_8b49_000d3a9d2c7frow1_col0\" class=\"data row1 col0\" >1</td>\n",
       "                        <td id=\"T_4aff6230_9235_11eb_8b49_000d3a9d2c7frow1_col1\" class=\"data row1 col1\" >5</td>\n",
       "                        <td id=\"T_4aff6230_9235_11eb_8b49_000d3a9d2c7frow1_col2\" class=\"data row1 col2\" >1</td>\n",
       "                        <td id=\"T_4aff6230_9235_11eb_8b49_000d3a9d2c7frow1_col3\" class=\"data row1 col3\" >2</td>\n",
       "                        <td id=\"T_4aff6230_9235_11eb_8b49_000d3a9d2c7frow1_col4\" class=\"data row1 col4\" >0</td>\n",
       "                        <td id=\"T_4aff6230_9235_11eb_8b49_000d3a9d2c7frow1_col5\" class=\"data row1 col5\" >0</td>\n",
       "                        <td id=\"T_4aff6230_9235_11eb_8b49_000d3a9d2c7frow1_col6\" class=\"data row1 col6\" >1</td>\n",
       "            </tr>\n",
       "            <tr>\n",
       "                        <th id=\"T_4aff6230_9235_11eb_8b49_000d3a9d2c7flevel0_row2\" class=\"row_heading level0 row2\" >4gd8</th>\n",
       "                        <td id=\"T_4aff6230_9235_11eb_8b49_000d3a9d2c7frow2_col0\" class=\"data row2 col0\" >3</td>\n",
       "                        <td id=\"T_4aff6230_9235_11eb_8b49_000d3a9d2c7frow2_col1\" class=\"data row2 col1\" >0</td>\n",
       "                        <td id=\"T_4aff6230_9235_11eb_8b49_000d3a9d2c7frow2_col2\" class=\"data row2 col2\" >0</td>\n",
       "                        <td id=\"T_4aff6230_9235_11eb_8b49_000d3a9d2c7frow2_col3\" class=\"data row2 col3\" >0</td>\n",
       "                        <td id=\"T_4aff6230_9235_11eb_8b49_000d3a9d2c7frow2_col4\" class=\"data row2 col4\" >0</td>\n",
       "                        <td id=\"T_4aff6230_9235_11eb_8b49_000d3a9d2c7frow2_col5\" class=\"data row2 col5\" >3</td>\n",
       "                        <td id=\"T_4aff6230_9235_11eb_8b49_000d3a9d2c7frow2_col6\" class=\"data row2 col6\" >1</td>\n",
       "            </tr>\n",
       "    </tbody></table>"
      ],
      "text/plain": [
       "<pandas.io.formats.style.Styler at 0x7f4cfdc752e8>"
      ]
     },
     "execution_count": 1,
     "metadata": {},
     "output_type": "execute_result"
    }
   ],
   "source": [
    "import pandas as pd\n",
    "import numpy as np\n",
    "\n",
    "sample_ids = ['4ac2', 'e375', '4gd8']\n",
    "feature_ids = ['B1','B2','B3','B4','B5','A1','E2']\n",
    "data = np.array([[1, 1, 3, 0, 0, 0, 0],\n",
    "                 [1, 5, 1, 2, 0, 0, 1],\n",
    "                 [3, 0, 0, 0, 0, 3, 1]])\n",
    "\n",
    "feature_table_1 = pd.DataFrame(data, index=sample_ids, columns=feature_ids)\n",
    "feature_table_1.style"
   ]
  },
  {
   "cell_type": "markdown",
   "metadata": {},
   "source": [
    "To compute the value of observed features for each sample in our feature table, we would simply count the number of non-zero counts for each sample. All of the non-zero counts are bolded in the following view of the table."
   ]
  },
  {
   "cell_type": "code",
   "execution_count": 2,
   "metadata": {
    "tags": [
     "hide-input"
    ]
   },
   "outputs": [
    {
     "data": {
      "text/html": [
       "<style  type=\"text/css\" >\n",
       "#T_4b03ec4c_9235_11eb_8b49_000d3a9d2c7frow0_col0,#T_4b03ec4c_9235_11eb_8b49_000d3a9d2c7frow0_col1,#T_4b03ec4c_9235_11eb_8b49_000d3a9d2c7frow0_col2,#T_4b03ec4c_9235_11eb_8b49_000d3a9d2c7frow1_col0,#T_4b03ec4c_9235_11eb_8b49_000d3a9d2c7frow1_col1,#T_4b03ec4c_9235_11eb_8b49_000d3a9d2c7frow1_col2,#T_4b03ec4c_9235_11eb_8b49_000d3a9d2c7frow1_col3,#T_4b03ec4c_9235_11eb_8b49_000d3a9d2c7frow1_col6,#T_4b03ec4c_9235_11eb_8b49_000d3a9d2c7frow2_col0,#T_4b03ec4c_9235_11eb_8b49_000d3a9d2c7frow2_col5,#T_4b03ec4c_9235_11eb_8b49_000d3a9d2c7frow2_col6{\n",
       "            color:  blue;\n",
       "        }#T_4b03ec4c_9235_11eb_8b49_000d3a9d2c7frow0_col3,#T_4b03ec4c_9235_11eb_8b49_000d3a9d2c7frow0_col4,#T_4b03ec4c_9235_11eb_8b49_000d3a9d2c7frow0_col5,#T_4b03ec4c_9235_11eb_8b49_000d3a9d2c7frow0_col6,#T_4b03ec4c_9235_11eb_8b49_000d3a9d2c7frow1_col4,#T_4b03ec4c_9235_11eb_8b49_000d3a9d2c7frow1_col5,#T_4b03ec4c_9235_11eb_8b49_000d3a9d2c7frow2_col1,#T_4b03ec4c_9235_11eb_8b49_000d3a9d2c7frow2_col2,#T_4b03ec4c_9235_11eb_8b49_000d3a9d2c7frow2_col3,#T_4b03ec4c_9235_11eb_8b49_000d3a9d2c7frow2_col4{\n",
       "            color:  black;\n",
       "        }</style><table id=\"T_4b03ec4c_9235_11eb_8b49_000d3a9d2c7f\" ><thead>    <tr>        <th class=\"blank level0\" ></th>        <th class=\"col_heading level0 col0\" >B1</th>        <th class=\"col_heading level0 col1\" >B2</th>        <th class=\"col_heading level0 col2\" >B3</th>        <th class=\"col_heading level0 col3\" >B4</th>        <th class=\"col_heading level0 col4\" >B5</th>        <th class=\"col_heading level0 col5\" >A1</th>        <th class=\"col_heading level0 col6\" >E2</th>    </tr></thead><tbody>\n",
       "                <tr>\n",
       "                        <th id=\"T_4b03ec4c_9235_11eb_8b49_000d3a9d2c7flevel0_row0\" class=\"row_heading level0 row0\" >4ac2</th>\n",
       "                        <td id=\"T_4b03ec4c_9235_11eb_8b49_000d3a9d2c7frow0_col0\" class=\"data row0 col0\" >1</td>\n",
       "                        <td id=\"T_4b03ec4c_9235_11eb_8b49_000d3a9d2c7frow0_col1\" class=\"data row0 col1\" >1</td>\n",
       "                        <td id=\"T_4b03ec4c_9235_11eb_8b49_000d3a9d2c7frow0_col2\" class=\"data row0 col2\" >3</td>\n",
       "                        <td id=\"T_4b03ec4c_9235_11eb_8b49_000d3a9d2c7frow0_col3\" class=\"data row0 col3\" >0</td>\n",
       "                        <td id=\"T_4b03ec4c_9235_11eb_8b49_000d3a9d2c7frow0_col4\" class=\"data row0 col4\" >0</td>\n",
       "                        <td id=\"T_4b03ec4c_9235_11eb_8b49_000d3a9d2c7frow0_col5\" class=\"data row0 col5\" >0</td>\n",
       "                        <td id=\"T_4b03ec4c_9235_11eb_8b49_000d3a9d2c7frow0_col6\" class=\"data row0 col6\" >0</td>\n",
       "            </tr>\n",
       "            <tr>\n",
       "                        <th id=\"T_4b03ec4c_9235_11eb_8b49_000d3a9d2c7flevel0_row1\" class=\"row_heading level0 row1\" >e375</th>\n",
       "                        <td id=\"T_4b03ec4c_9235_11eb_8b49_000d3a9d2c7frow1_col0\" class=\"data row1 col0\" >1</td>\n",
       "                        <td id=\"T_4b03ec4c_9235_11eb_8b49_000d3a9d2c7frow1_col1\" class=\"data row1 col1\" >5</td>\n",
       "                        <td id=\"T_4b03ec4c_9235_11eb_8b49_000d3a9d2c7frow1_col2\" class=\"data row1 col2\" >1</td>\n",
       "                        <td id=\"T_4b03ec4c_9235_11eb_8b49_000d3a9d2c7frow1_col3\" class=\"data row1 col3\" >2</td>\n",
       "                        <td id=\"T_4b03ec4c_9235_11eb_8b49_000d3a9d2c7frow1_col4\" class=\"data row1 col4\" >0</td>\n",
       "                        <td id=\"T_4b03ec4c_9235_11eb_8b49_000d3a9d2c7frow1_col5\" class=\"data row1 col5\" >0</td>\n",
       "                        <td id=\"T_4b03ec4c_9235_11eb_8b49_000d3a9d2c7frow1_col6\" class=\"data row1 col6\" >1</td>\n",
       "            </tr>\n",
       "            <tr>\n",
       "                        <th id=\"T_4b03ec4c_9235_11eb_8b49_000d3a9d2c7flevel0_row2\" class=\"row_heading level0 row2\" >4gd8</th>\n",
       "                        <td id=\"T_4b03ec4c_9235_11eb_8b49_000d3a9d2c7frow2_col0\" class=\"data row2 col0\" >3</td>\n",
       "                        <td id=\"T_4b03ec4c_9235_11eb_8b49_000d3a9d2c7frow2_col1\" class=\"data row2 col1\" >0</td>\n",
       "                        <td id=\"T_4b03ec4c_9235_11eb_8b49_000d3a9d2c7frow2_col2\" class=\"data row2 col2\" >0</td>\n",
       "                        <td id=\"T_4b03ec4c_9235_11eb_8b49_000d3a9d2c7frow2_col3\" class=\"data row2 col3\" >0</td>\n",
       "                        <td id=\"T_4b03ec4c_9235_11eb_8b49_000d3a9d2c7frow2_col4\" class=\"data row2 col4\" >0</td>\n",
       "                        <td id=\"T_4b03ec4c_9235_11eb_8b49_000d3a9d2c7frow2_col5\" class=\"data row2 col5\" >3</td>\n",
       "                        <td id=\"T_4b03ec4c_9235_11eb_8b49_000d3a9d2c7frow2_col6\" class=\"data row2 col6\" >1</td>\n",
       "            </tr>\n",
       "    </tbody></table>"
      ],
      "text/plain": [
       "<pandas.io.formats.style.Styler at 0x7f4cfdc4f9e8>"
      ]
     },
     "execution_count": 2,
     "metadata": {},
     "output_type": "execute_result"
    }
   ],
   "source": [
    "def non_zero_blue(frequency):\n",
    "    if frequency > 0:\n",
    "        color = 'blue'\n",
    "    else:\n",
    "        color = 'black'\n",
    "    return 'color: %s' % color\n",
    "\n",
    "feature_table_1.style.applymap(non_zero_blue)"
   ]
  },
  {
   "cell_type": "markdown",
   "metadata": {},
   "source": [
    "Counting non-zero values for each sample would result in the following values of observed features for each sample:"
   ]
  },
  {
   "cell_type": "code",
   "execution_count": 3,
   "metadata": {
    "tags": [
     "hide-input"
    ]
   },
   "outputs": [
    {
     "data": {
      "text/html": [
       "<style  type=\"text/css\" >\n",
       "</style><table id=\"T_4c64bc56_9235_11eb_8b49_000d3a9d2c7f\" ><thead>    <tr>        <th class=\"blank level0\" ></th>        <th class=\"col_heading level0 col0\" >observed-features</th>    </tr></thead><tbody>\n",
       "                <tr>\n",
       "                        <th id=\"T_4c64bc56_9235_11eb_8b49_000d3a9d2c7flevel0_row0\" class=\"row_heading level0 row0\" >4ac2</th>\n",
       "                        <td id=\"T_4c64bc56_9235_11eb_8b49_000d3a9d2c7frow0_col0\" class=\"data row0 col0\" >3</td>\n",
       "            </tr>\n",
       "            <tr>\n",
       "                        <th id=\"T_4c64bc56_9235_11eb_8b49_000d3a9d2c7flevel0_row1\" class=\"row_heading level0 row1\" >e375</th>\n",
       "                        <td id=\"T_4c64bc56_9235_11eb_8b49_000d3a9d2c7frow1_col0\" class=\"data row1 col0\" >5</td>\n",
       "            </tr>\n",
       "            <tr>\n",
       "                        <th id=\"T_4c64bc56_9235_11eb_8b49_000d3a9d2c7flevel0_row2\" class=\"row_heading level0 row2\" >4gd8</th>\n",
       "                        <td id=\"T_4c64bc56_9235_11eb_8b49_000d3a9d2c7frow2_col0\" class=\"data row2 col0\" >3</td>\n",
       "            </tr>\n",
       "    </tbody></table>"
      ],
      "text/plain": [
       "<pandas.io.formats.style.Styler at 0x7f4cdb489f60>"
      ]
     },
     "execution_count": 3,
     "metadata": {},
     "output_type": "execute_result"
    }
   ],
   "source": [
    "import qiime2\n",
    "import qiime2.plugins.diversity as div\n",
    "\n",
    "feature_table_1a = qiime2.Artifact.import_data(\"FeatureTable[Frequency]\", feature_table_1)\n",
    "\n",
    "observed_features_1a = div.actions.alpha(feature_table_1a, metric='observed_features').alpha_diversity\n",
    "observed_features_1 = observed_features_1a.view(pd.Series).to_frame(name='observed-features')\n",
    "observed_features_1.style"
   ]
  },
  {
   "cell_type": "markdown",
   "metadata": {},
   "source": [
    "Based on the observed features metric, we could consider samples `4ac2` and `4gd8` to have equal feature richness, and sample `e375` to have a higher feature richness. Also note that while `4ac2` and `4gd8` have the same feature richness, different features are present in the two samples. Richness tells us only about how many different features are present, but nothing about which features are present.\n",
    "\n",
    "Simple counting of features, as we're doing here, is common but there are a few limitations to be aware of. \n",
    "\n",
    "### Even sampling\n",
    "\n",
    "Imagine again that we're going on a sampling trip to count plants in the Sonoran Desert and the Costa Rican rainforest. We're interested in getting an idea of the plant richness in each environment. In the Sonoran Desert, we survey a square kilometer area, and count 150 species of plants. In the rainforest, we survey a square meter, and count 15 species of plants. On the basis of our survey we decide that plant species richness is higher in the desert than in the rainforest. Where did we go wrong?\n",
    "\n",
    "We expended a lot more sampling effort in the desert than we did in the rainforest, so it shouldn't be surprising that we observed more species there. If we expended the same effort in the rainforest, we'd probably observe a lot more than 15 or 150 plant species, and we'd have a more sound comparison.\n",
    "\n",
    "In sequencing-based studies of microbiomes, the analog of sampling area is sequencing depth. If we collect 100 sequences from one sample, and 10,000 sequences from another sample, we can't directly compare the number of observed features across these samples because we expended a lot more sampling effort on the sample with 10,000 sequences than on the sample with 100 sequences. \n",
    "\n",
    "The ideal way to normalize tables for computation of these metrics is a subject of ongoing research, and most likely differs depending on what you want to do with the feature table. We'll cover this topic in {ref}`feature-table-normalization`. At present, when computing alpha and {ref}`beta diversity <beta-diversity>` metics, the way this is typically handled is by randomly subsampling sequences without replacement at a fixed total frequency across all samples. This process is referred to as **rarefaction**. Continuing from the example above, if we randomly select 100 sequences to represent the sample with 10,000 sequences (i.e., we rarefy that sample to a depth of 100 sequences) we can compute its richness based on that random subsample. That richness value will serve as a more relevant comparison to the richness value for the sample that we only obtained 100 sequences from. \n",
    "\n",
    "```{warning}\n",
    "Rarefaction is not ideal. I think of it as a necessary evil to faciliate these comparisons. Our field needs to move toward improved solutions that are easily accessible to users to get beyond the need to rarefy data. Until we have that, you **must** rarefy your data before computing alpha and beta diversity unless the metric you're using specifically does not require equal sampling effort across samples. \n",
    "```\n",
    "\n",
    "Because rarefaction involves taking a _random_ subsample of sequences from each sample, rarefying the same feature table multiple times will yield different rarefied feature tables. This is sometimes managed by computing multiple rarefied feature tables, computing diversity metrics on each table, and then averaging the diversity value computed for each sample. We'll explore this below in {ref}`alpha-rarefaction`. The following are three different rarefied versions of our example feature table from above. Notice that the total frequency for each sample is now four - our rarefaction depth.\n",
    "\n",
    "````{margin}\n",
    "```{note}\n",
    "When feature tables are rarefied in QIIME 2, features that are not observed in any samples are dropped from the table. This doesn't impact downstream analysis and results in tables with smaller file size. You can observe this in the rarefied feature tables presented in this section.\n",
    "```\n",
    "````"
   ]
  },
  {
   "cell_type": "code",
   "execution_count": 4,
   "metadata": {
    "tags": [
     "hide-input"
    ]
   },
   "outputs": [
    {
     "data": {
      "text/html": [
       "<style  type=\"text/css\" >\n",
       "</style><table id=\"T_4c6f0db4_9235_11eb_8b49_000d3a9d2c7f\" ><thead>    <tr>        <th class=\"blank level0\" ></th>        <th class=\"col_heading level0 col0\" >B1</th>        <th class=\"col_heading level0 col1\" >B2</th>        <th class=\"col_heading level0 col2\" >B3</th>        <th class=\"col_heading level0 col3\" >B4</th>        <th class=\"col_heading level0 col4\" >A1</th>    </tr></thead><tbody>\n",
       "                <tr>\n",
       "                        <th id=\"T_4c6f0db4_9235_11eb_8b49_000d3a9d2c7flevel0_row0\" class=\"row_heading level0 row0\" >4ac2</th>\n",
       "                        <td id=\"T_4c6f0db4_9235_11eb_8b49_000d3a9d2c7frow0_col0\" class=\"data row0 col0\" >0</td>\n",
       "                        <td id=\"T_4c6f0db4_9235_11eb_8b49_000d3a9d2c7frow0_col1\" class=\"data row0 col1\" >1</td>\n",
       "                        <td id=\"T_4c6f0db4_9235_11eb_8b49_000d3a9d2c7frow0_col2\" class=\"data row0 col2\" >3</td>\n",
       "                        <td id=\"T_4c6f0db4_9235_11eb_8b49_000d3a9d2c7frow0_col3\" class=\"data row0 col3\" >0</td>\n",
       "                        <td id=\"T_4c6f0db4_9235_11eb_8b49_000d3a9d2c7frow0_col4\" class=\"data row0 col4\" >0</td>\n",
       "            </tr>\n",
       "            <tr>\n",
       "                        <th id=\"T_4c6f0db4_9235_11eb_8b49_000d3a9d2c7flevel0_row1\" class=\"row_heading level0 row1\" >e375</th>\n",
       "                        <td id=\"T_4c6f0db4_9235_11eb_8b49_000d3a9d2c7frow1_col0\" class=\"data row1 col0\" >1</td>\n",
       "                        <td id=\"T_4c6f0db4_9235_11eb_8b49_000d3a9d2c7frow1_col1\" class=\"data row1 col1\" >2</td>\n",
       "                        <td id=\"T_4c6f0db4_9235_11eb_8b49_000d3a9d2c7frow1_col2\" class=\"data row1 col2\" >0</td>\n",
       "                        <td id=\"T_4c6f0db4_9235_11eb_8b49_000d3a9d2c7frow1_col3\" class=\"data row1 col3\" >1</td>\n",
       "                        <td id=\"T_4c6f0db4_9235_11eb_8b49_000d3a9d2c7frow1_col4\" class=\"data row1 col4\" >0</td>\n",
       "            </tr>\n",
       "            <tr>\n",
       "                        <th id=\"T_4c6f0db4_9235_11eb_8b49_000d3a9d2c7flevel0_row2\" class=\"row_heading level0 row2\" >4gd8</th>\n",
       "                        <td id=\"T_4c6f0db4_9235_11eb_8b49_000d3a9d2c7frow2_col0\" class=\"data row2 col0\" >2</td>\n",
       "                        <td id=\"T_4c6f0db4_9235_11eb_8b49_000d3a9d2c7frow2_col1\" class=\"data row2 col1\" >0</td>\n",
       "                        <td id=\"T_4c6f0db4_9235_11eb_8b49_000d3a9d2c7frow2_col2\" class=\"data row2 col2\" >0</td>\n",
       "                        <td id=\"T_4c6f0db4_9235_11eb_8b49_000d3a9d2c7frow2_col3\" class=\"data row2 col3\" >0</td>\n",
       "                        <td id=\"T_4c6f0db4_9235_11eb_8b49_000d3a9d2c7frow2_col4\" class=\"data row2 col4\" >2</td>\n",
       "            </tr>\n",
       "    </tbody></table>"
      ],
      "text/plain": [
       "<pandas.io.formats.style.Styler at 0x7f4cdb4895f8>"
      ]
     },
     "execution_count": 4,
     "metadata": {},
     "output_type": "execute_result"
    }
   ],
   "source": [
    "import qiime2.plugins.feature_table as ft\n",
    "\n",
    "rarefied_feature_table_1a = ft.actions.rarefy(table=feature_table_1a, sampling_depth=4).rarefied_table\n",
    "rarefied_feature_table1 = rarefied_feature_table_1a.view(pd.DataFrame).astype(int)\n",
    "rarefied_feature_table1.style"
   ]
  },
  {
   "cell_type": "code",
   "execution_count": 5,
   "metadata": {
    "tags": [
     "hide-input"
    ]
   },
   "outputs": [
    {
     "data": {
      "text/html": [
       "<style  type=\"text/css\" >\n",
       "</style><table id=\"T_4c797e34_9235_11eb_8b49_000d3a9d2c7f\" ><thead>    <tr>        <th class=\"blank level0\" ></th>        <th class=\"col_heading level0 col0\" >B1</th>        <th class=\"col_heading level0 col1\" >B2</th>        <th class=\"col_heading level0 col2\" >B3</th>        <th class=\"col_heading level0 col3\" >B4</th>        <th class=\"col_heading level0 col4\" >A1</th>        <th class=\"col_heading level0 col5\" >E2</th>    </tr></thead><tbody>\n",
       "                <tr>\n",
       "                        <th id=\"T_4c797e34_9235_11eb_8b49_000d3a9d2c7flevel0_row0\" class=\"row_heading level0 row0\" >4ac2</th>\n",
       "                        <td id=\"T_4c797e34_9235_11eb_8b49_000d3a9d2c7frow0_col0\" class=\"data row0 col0\" >1</td>\n",
       "                        <td id=\"T_4c797e34_9235_11eb_8b49_000d3a9d2c7frow0_col1\" class=\"data row0 col1\" >1</td>\n",
       "                        <td id=\"T_4c797e34_9235_11eb_8b49_000d3a9d2c7frow0_col2\" class=\"data row0 col2\" >2</td>\n",
       "                        <td id=\"T_4c797e34_9235_11eb_8b49_000d3a9d2c7frow0_col3\" class=\"data row0 col3\" >0</td>\n",
       "                        <td id=\"T_4c797e34_9235_11eb_8b49_000d3a9d2c7frow0_col4\" class=\"data row0 col4\" >0</td>\n",
       "                        <td id=\"T_4c797e34_9235_11eb_8b49_000d3a9d2c7frow0_col5\" class=\"data row0 col5\" >0</td>\n",
       "            </tr>\n",
       "            <tr>\n",
       "                        <th id=\"T_4c797e34_9235_11eb_8b49_000d3a9d2c7flevel0_row1\" class=\"row_heading level0 row1\" >e375</th>\n",
       "                        <td id=\"T_4c797e34_9235_11eb_8b49_000d3a9d2c7frow1_col0\" class=\"data row1 col0\" >0</td>\n",
       "                        <td id=\"T_4c797e34_9235_11eb_8b49_000d3a9d2c7frow1_col1\" class=\"data row1 col1\" >2</td>\n",
       "                        <td id=\"T_4c797e34_9235_11eb_8b49_000d3a9d2c7frow1_col2\" class=\"data row1 col2\" >1</td>\n",
       "                        <td id=\"T_4c797e34_9235_11eb_8b49_000d3a9d2c7frow1_col3\" class=\"data row1 col3\" >1</td>\n",
       "                        <td id=\"T_4c797e34_9235_11eb_8b49_000d3a9d2c7frow1_col4\" class=\"data row1 col4\" >0</td>\n",
       "                        <td id=\"T_4c797e34_9235_11eb_8b49_000d3a9d2c7frow1_col5\" class=\"data row1 col5\" >0</td>\n",
       "            </tr>\n",
       "            <tr>\n",
       "                        <th id=\"T_4c797e34_9235_11eb_8b49_000d3a9d2c7flevel0_row2\" class=\"row_heading level0 row2\" >4gd8</th>\n",
       "                        <td id=\"T_4c797e34_9235_11eb_8b49_000d3a9d2c7frow2_col0\" class=\"data row2 col0\" >0</td>\n",
       "                        <td id=\"T_4c797e34_9235_11eb_8b49_000d3a9d2c7frow2_col1\" class=\"data row2 col1\" >0</td>\n",
       "                        <td id=\"T_4c797e34_9235_11eb_8b49_000d3a9d2c7frow2_col2\" class=\"data row2 col2\" >0</td>\n",
       "                        <td id=\"T_4c797e34_9235_11eb_8b49_000d3a9d2c7frow2_col3\" class=\"data row2 col3\" >0</td>\n",
       "                        <td id=\"T_4c797e34_9235_11eb_8b49_000d3a9d2c7frow2_col4\" class=\"data row2 col4\" >3</td>\n",
       "                        <td id=\"T_4c797e34_9235_11eb_8b49_000d3a9d2c7frow2_col5\" class=\"data row2 col5\" >1</td>\n",
       "            </tr>\n",
       "    </tbody></table>"
      ],
      "text/plain": [
       "<pandas.io.formats.style.Styler at 0x7f4cd5095fd0>"
      ]
     },
     "execution_count": 5,
     "metadata": {},
     "output_type": "execute_result"
    }
   ],
   "source": [
    "rarefied_feature_table_2a = ft.actions.rarefy(table=feature_table_1a, sampling_depth=4).rarefied_table\n",
    "rarefied_feature_table2 = rarefied_feature_table_2a.view(pd.DataFrame).astype(int)\n",
    "rarefied_feature_table2.style"
   ]
  },
  {
   "cell_type": "code",
   "execution_count": 6,
   "metadata": {
    "tags": [
     "hide-input"
    ]
   },
   "outputs": [
    {
     "data": {
      "text/html": [
       "<style  type=\"text/css\" >\n",
       "</style><table id=\"T_4c831e3a_9235_11eb_8b49_000d3a9d2c7f\" ><thead>    <tr>        <th class=\"blank level0\" ></th>        <th class=\"col_heading level0 col0\" >B1</th>        <th class=\"col_heading level0 col1\" >B2</th>        <th class=\"col_heading level0 col2\" >B3</th>        <th class=\"col_heading level0 col3\" >B4</th>        <th class=\"col_heading level0 col4\" >A1</th>        <th class=\"col_heading level0 col5\" >E2</th>    </tr></thead><tbody>\n",
       "                <tr>\n",
       "                        <th id=\"T_4c831e3a_9235_11eb_8b49_000d3a9d2c7flevel0_row0\" class=\"row_heading level0 row0\" >4ac2</th>\n",
       "                        <td id=\"T_4c831e3a_9235_11eb_8b49_000d3a9d2c7frow0_col0\" class=\"data row0 col0\" >0</td>\n",
       "                        <td id=\"T_4c831e3a_9235_11eb_8b49_000d3a9d2c7frow0_col1\" class=\"data row0 col1\" >1</td>\n",
       "                        <td id=\"T_4c831e3a_9235_11eb_8b49_000d3a9d2c7frow0_col2\" class=\"data row0 col2\" >3</td>\n",
       "                        <td id=\"T_4c831e3a_9235_11eb_8b49_000d3a9d2c7frow0_col3\" class=\"data row0 col3\" >0</td>\n",
       "                        <td id=\"T_4c831e3a_9235_11eb_8b49_000d3a9d2c7frow0_col4\" class=\"data row0 col4\" >0</td>\n",
       "                        <td id=\"T_4c831e3a_9235_11eb_8b49_000d3a9d2c7frow0_col5\" class=\"data row0 col5\" >0</td>\n",
       "            </tr>\n",
       "            <tr>\n",
       "                        <th id=\"T_4c831e3a_9235_11eb_8b49_000d3a9d2c7flevel0_row1\" class=\"row_heading level0 row1\" >e375</th>\n",
       "                        <td id=\"T_4c831e3a_9235_11eb_8b49_000d3a9d2c7frow1_col0\" class=\"data row1 col0\" >0</td>\n",
       "                        <td id=\"T_4c831e3a_9235_11eb_8b49_000d3a9d2c7frow1_col1\" class=\"data row1 col1\" >3</td>\n",
       "                        <td id=\"T_4c831e3a_9235_11eb_8b49_000d3a9d2c7frow1_col2\" class=\"data row1 col2\" >0</td>\n",
       "                        <td id=\"T_4c831e3a_9235_11eb_8b49_000d3a9d2c7frow1_col3\" class=\"data row1 col3\" >1</td>\n",
       "                        <td id=\"T_4c831e3a_9235_11eb_8b49_000d3a9d2c7frow1_col4\" class=\"data row1 col4\" >0</td>\n",
       "                        <td id=\"T_4c831e3a_9235_11eb_8b49_000d3a9d2c7frow1_col5\" class=\"data row1 col5\" >0</td>\n",
       "            </tr>\n",
       "            <tr>\n",
       "                        <th id=\"T_4c831e3a_9235_11eb_8b49_000d3a9d2c7flevel0_row2\" class=\"row_heading level0 row2\" >4gd8</th>\n",
       "                        <td id=\"T_4c831e3a_9235_11eb_8b49_000d3a9d2c7frow2_col0\" class=\"data row2 col0\" >2</td>\n",
       "                        <td id=\"T_4c831e3a_9235_11eb_8b49_000d3a9d2c7frow2_col1\" class=\"data row2 col1\" >0</td>\n",
       "                        <td id=\"T_4c831e3a_9235_11eb_8b49_000d3a9d2c7frow2_col2\" class=\"data row2 col2\" >0</td>\n",
       "                        <td id=\"T_4c831e3a_9235_11eb_8b49_000d3a9d2c7frow2_col3\" class=\"data row2 col3\" >0</td>\n",
       "                        <td id=\"T_4c831e3a_9235_11eb_8b49_000d3a9d2c7frow2_col4\" class=\"data row2 col4\" >1</td>\n",
       "                        <td id=\"T_4c831e3a_9235_11eb_8b49_000d3a9d2c7frow2_col5\" class=\"data row2 col5\" >1</td>\n",
       "            </tr>\n",
       "    </tbody></table>"
      ],
      "text/plain": [
       "<pandas.io.formats.style.Styler at 0x7f4cd505e898>"
      ]
     },
     "execution_count": 6,
     "metadata": {},
     "output_type": "execute_result"
    }
   ],
   "source": [
    "rarefied_feature_table_3a = ft.actions.rarefy(table=feature_table_1a, sampling_depth=4).rarefied_table\n",
    "rarefied_feature_table3 = rarefied_feature_table_3a.view(pd.DataFrame).astype(int)\n",
    "rarefied_feature_table3.style"
   ]
  },
  {
   "cell_type": "markdown",
   "metadata": {},
   "source": [
    "If instead of choosing to rarefy at four sequences per sample (which is lower than the total frequency of any of our samples) we rarefied at six sequences per sample (which is higher than the total frequency of sample `4ac2`), sample `4ac2` will be dropped from the resulting feature table."
   ]
  },
  {
   "cell_type": "code",
   "execution_count": 7,
   "metadata": {
    "tags": [
     "hide-input"
    ]
   },
   "outputs": [
    {
     "data": {
      "text/html": [
       "<style  type=\"text/css\" >\n",
       "</style><table id=\"T_4c8c4654_9235_11eb_8b49_000d3a9d2c7f\" ><thead>    <tr>        <th class=\"blank level0\" ></th>        <th class=\"col_heading level0 col0\" >B1</th>        <th class=\"col_heading level0 col1\" >B2</th>        <th class=\"col_heading level0 col2\" >B3</th>        <th class=\"col_heading level0 col3\" >B4</th>        <th class=\"col_heading level0 col4\" >A1</th>        <th class=\"col_heading level0 col5\" >E2</th>    </tr></thead><tbody>\n",
       "                <tr>\n",
       "                        <th id=\"T_4c8c4654_9235_11eb_8b49_000d3a9d2c7flevel0_row0\" class=\"row_heading level0 row0\" >e375</th>\n",
       "                        <td id=\"T_4c8c4654_9235_11eb_8b49_000d3a9d2c7frow0_col0\" class=\"data row0 col0\" >0</td>\n",
       "                        <td id=\"T_4c8c4654_9235_11eb_8b49_000d3a9d2c7frow0_col1\" class=\"data row0 col1\" >2</td>\n",
       "                        <td id=\"T_4c8c4654_9235_11eb_8b49_000d3a9d2c7frow0_col2\" class=\"data row0 col2\" >1</td>\n",
       "                        <td id=\"T_4c8c4654_9235_11eb_8b49_000d3a9d2c7frow0_col3\" class=\"data row0 col3\" >2</td>\n",
       "                        <td id=\"T_4c8c4654_9235_11eb_8b49_000d3a9d2c7frow0_col4\" class=\"data row0 col4\" >0</td>\n",
       "                        <td id=\"T_4c8c4654_9235_11eb_8b49_000d3a9d2c7frow0_col5\" class=\"data row0 col5\" >1</td>\n",
       "            </tr>\n",
       "            <tr>\n",
       "                        <th id=\"T_4c8c4654_9235_11eb_8b49_000d3a9d2c7flevel0_row1\" class=\"row_heading level0 row1\" >4gd8</th>\n",
       "                        <td id=\"T_4c8c4654_9235_11eb_8b49_000d3a9d2c7frow1_col0\" class=\"data row1 col0\" >3</td>\n",
       "                        <td id=\"T_4c8c4654_9235_11eb_8b49_000d3a9d2c7frow1_col1\" class=\"data row1 col1\" >0</td>\n",
       "                        <td id=\"T_4c8c4654_9235_11eb_8b49_000d3a9d2c7frow1_col2\" class=\"data row1 col2\" >0</td>\n",
       "                        <td id=\"T_4c8c4654_9235_11eb_8b49_000d3a9d2c7frow1_col3\" class=\"data row1 col3\" >0</td>\n",
       "                        <td id=\"T_4c8c4654_9235_11eb_8b49_000d3a9d2c7frow1_col4\" class=\"data row1 col4\" >2</td>\n",
       "                        <td id=\"T_4c8c4654_9235_11eb_8b49_000d3a9d2c7frow1_col5\" class=\"data row1 col5\" >1</td>\n",
       "            </tr>\n",
       "    </tbody></table>"
      ],
      "text/plain": [
       "<pandas.io.formats.style.Styler at 0x7f4cd5063518>"
      ]
     },
     "execution_count": 7,
     "metadata": {},
     "output_type": "execute_result"
    }
   ],
   "source": [
    "rarefied_feature_table_4a = ft.actions.rarefy(table=feature_table_1a, sampling_depth=6).rarefied_table\n",
    "rarefied_feature_table4 = rarefied_feature_table_4a.view(pd.DataFrame).astype(int)\n",
    "rarefied_feature_table4.style"
   ]
  },
  {
   "cell_type": "markdown",
   "metadata": {},
   "source": [
    "#### A limitation of feature counting\n",
    "\n",
    "Imagine that we have the same table, but some additional information about the features in the table. Specifically, we've computed the following phylogenetic tree. And, for the sake of illustration, imagine that we've also assigned taxonomy to each of the features and found that our samples contain representatives from the archaea, bacteria, and eukaryotes (their labels begin with `A`, `B`, and `E`, respectively).\n",
    "\n",
    "First, let's define a phylogenetic tree using the Newick format (which is described [here](http://evolution.genetics.washington.edu/phylip/newicktree.html), and more formally defined [here](http://evolution.genetics.washington.edu/phylip/newick_doc.html)). We'll then load that up using [scikit-bio](http://scikit-bio.org)'s [TreeNode](http://scikit-bio.org/generated/skbio.core.tree.TreeNode.html#skbio.core.tree.TreeNode) object, and visualize it with [ete3](http://etetoolkit.org).\n",
    "\n",
    "```\n",
    "import ete3\n",
    "ts = ete3.TreeStyle()\n",
    "ts.show_leaf_name = True\n",
    "ts.scale = 250\n",
    "ts.branch_vertical_margin = 15\n",
    "ts.show_branch_length = True\n",
    "```\n",
    "\n",
    "```\n",
    "from io import StringIO\n",
    "newick_tree = StringIO('((B1:0.2,B2:0.3):0.3,((B3:0.5,B4:0.3):0.2,B5:0.9):0.3,'\n",
    "                      '((A1:0.2,A2:0.3):0.3,'\n",
    "                      ' (E1:0.3,E2:0.4):0.7):0.55);')\n",
    "\n",
    "from skbio.tree import TreeNode\n",
    "\n",
    "tree = TreeNode.read(newick_tree)\n",
    "tree = tree.root_at_midpoint()\n",
    "```\n",
    "\n",
    "```\n",
    "t = ete3.Tree.from_skbio(tree, map_attributes=[\"value\"])\n",
    "t.render(\"%%inline\", tree_style=ts)\n",
    "\n",
    "```\n",
    "\n",
    "Pairing this with the table we defined above (displayed again in the cell below), given what you now know about these features, which would you consider the most diverse? Are you happy with the $\\alpha$ diversity conclusion that you obtained when computing the number of observed features in each sample?\n",
    "\n",
    "```\n",
    "table2\n",
    "```\n",
    "\n",
    "### Phylogenetic Diversity (PD)\n",
    "\n",
    "Phylogenetic Diversity (PD) is a metric that was developed by Dan Faith in the early 1990s (find the original paper [here](http://www.sciencedirect.com/science/article/pii/0006320792912013)). Like many of the measures that are used in microbial community ecology, it wasn't initially designed for studying microbial communities, but rather communities of \"macro-organisms\" (macrobes?). Some of these metrics, including PD, do translate well to microbial community analysis, while some don't translate as well. (For an illustration of the effect of sequencing error on PD, where it is handled well, versus its effect on the Chao1 metric, where it is handled less well, see Figure 1 of [Reeder and Knight (2010)](http://www.nature.com/nmeth/journal/v7/n9/full/nmeth0910-668b.html)).\n",
    "\n",
    "PD is relatively simple to calculate. It is computed simply as the sum of the branch length in a phylogenetic tree that is \"covered\" or represented in a given sample. Let's look at an example to see how this works.\n",
    "\n",
    "I'll now define a couple of functions that we'll use to compute PD.\n",
    "\n",
    "```\n",
    "def get_observed_nodes(tree, table, sample_id, verbose=False):\n",
    "   observed_features = [obs_id for obs_id in table.index\n",
    "               if table[sample_id][obs_id] > 0]\n",
    "   observed_nodes = set()\n",
    "   # iterate over the observed features\n",
    "   for feature in observed_features:\n",
    "       t = tree.find(feature)\n",
    "       observed_nodes.add(t)\n",
    "       if verbose:\n",
    "           print(t.name, t.length, end=' ')\n",
    "       for internal_node in t.ancestors():\n",
    "           if internal_node.length is None:\n",
    "               # we've hit the root\n",
    "               if verbose:\n",
    "                   print('')\n",
    "           else:\n",
    "               if verbose and internal_node not in observed_nodes:\n",
    "                   print(internal_node.length, end=' ')\n",
    "               observed_nodes.add(internal_node)\n",
    "   return observed_nodes\n",
    "\n",
    "def phylogenetic_diversity(tree, table, sample_id, verbose=False):\n",
    "   observed_nodes = get_observed_nodes(tree, table, sample_id, verbose=verbose)\n",
    "   result = sum(o.length for o in observed_nodes)\n",
    "   return result\n",
    "```\n",
    "\n",
    "And then apply those to compute the PD of our three samples. For each computation, we're also printing out the branch lengths of the branches that are observed *for the first time* when looking at a given feature. When computing PD, we include the length of each branch only one time.\n",
    "\n",
    "```\n",
    "pd_A = phylogenetic_diversity(tree, table2, 'A', verbose=True)\n",
    "print(pd_A)\n",
    "\n",
    "```\n",
    "\n",
    "```\n",
    "pd_B = phylogenetic_diversity(tree, table2, 'B', verbose=True)\n",
    "print(pd_B)\n",
    "\n",
    "```\n",
    "\n",
    "```\n",
    "pd_C = phylogenetic_diversity(tree, table2, 'C', verbose=True)\n",
    "print(pd_C)\n",
    "\n",
    "```\n",
    "\n",
    "How does this result compare to what we observed above with the Observed features metric? Based on your knowledge of biology, which do you think is a better representation of the relative diversities of these samples?\n",
    "\n",
    "\n",
    "\n",
    "### Rarefaction\n",
    "\n",
    "#### Even sampling\n",
    "\n",
    "(alpha-rarefaction)=\n",
    "#### Alpha rarefaction"
   ]
  }
 ],
 "metadata": {
  "jupytext": {
   "cell_metadata_filter": "-all",
   "formats": "md:myst",
   "text_representation": {
    "extension": ".md",
    "format_name": "myst",
    "format_version": 0.12,
    "jupytext_version": "1.9.1"
   }
  },
  "kernelspec": {
   "display_name": "Python 3",
   "language": "python",
   "name": "python3"
  },
  "language_info": {
   "codemirror_mode": {
    "name": "ipython",
    "version": 3
   },
   "file_extension": ".py",
   "mimetype": "text/x-python",
   "name": "python",
   "nbconvert_exporter": "python",
   "pygments_lexer": "ipython3",
   "version": "3.6.12"
  },
  "source_map": [
   14,
   39,
   52,
   56,
   67,
   71,
   81,
   109,
   118,
   125,
   130,
   134,
   139
  ]
 },
 "nbformat": 4,
 "nbformat_minor": 4
}