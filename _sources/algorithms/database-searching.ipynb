{
 "cells": [
  {
   "cell_type": "markdown",
   "metadata": {},
   "source": [
    "# Sequence homology searching \n",
    "\n",
    "In this chapter we'll talk about using pairwise alignment to search databases of biological sequences with the goal of identifying sequence homology. We previously defined homology between a pair of sequences to mean that those sequences are derived from a common ancestral sequence. Homology searching is an essential part of making inferences about where a biological sequence came from, and/or what it does. In most cases, if you have an unannotated biological sequence, such as the following protein sequence, it's very hard (really, impossible) to know what it is without more information.\n",
    "\n",
    "What a researcher will often do is search this sequence, their **query**, against some **reference database** of annotated sequences to learn what function the sequence performs (if the reference database contains functional annotation of sequences) and/or what organisms are likely to encode this sequence in their genome (if the reference database contains taxonomic annotation of sequences).\n",
    "\n",
    "````{admonition} Exercise\n",
    "Whose genome is the following sequence encoded in? What is its function? Take a minute now to answer these questions using the [Protein BLAST homology search tool on the NCBI website](https://blast.ncbi.nlm.nih.gov/Blast.cgi?PROGRAM=blastp&PAGE_TYPE=BlastSearch&LINK_LOC=blasthome).\n",
    "\n",
    "```\n",
    ">mystery-sequence1\n",
    "MFVFLVLLPLVSSQCVNLTTRTQLPPAYTNSFTRGVYYPDKVFRSSVLHSTQDLFLPFFS\n",
    "NVTWFHAIHVSGTNGTKRFDNPVLPFNDGVYFASTEKSNIIRGWIFGTTLDSKTQSLLIV\n",
    "NNATNVVIKVCEFQFCNDPFLGVYYHKNNKSWMESEFRVYSSANNCTFEYVSQPFLMDLE\n",
    "GKQGNFKNLREFVFKNIDGYFKIYSKHTPINLVRDLPQGFSALEPLVDLPIGINITRFQT\n",
    "LLALHRSYLTPGDSSSGWTAGAAAYYVGYLQPRTFLLKYNENGTITDAVDCALDPLSETK\n",
    "CTLKSFTVEKGIYQTSNFRVQPTESIVRFPNITNLCPFGEVFNATRFASVYAWNRKRISN\n",
    "CVADYSVLYNSASFSTFKCYGVSPTKLNDLCFTNVYADSFVIRGDEVRQIAPGQTGKIAD\n",
    "YNYKLPDDFTGCVIAWNSNNLDSKVGGNYNYLYRLFRKSNLKPFERDISTEIYQAGSTPC\n",
    "NGVEGFNCYFPLQSYGFQPTNGVGYQPYRVVVLSFELLHAPATVCGPKKSTNLVKNKCVN\n",
    "FNFNGLTGTGVLTESNKKFLPFQQFGRDIADTTDAVRDPQTLEILDITPCSFGGVSVITP\n",
    "GTNTSNQVAVLYQDVNCTEVPVAIHADQLTPTWRVYSTGSNVFQTRAGCLIGAEHVNNSY\n",
    "ECDIPIGAGICASYQTQTNSPRRARSVASQSIIAYTMSLGAENSVAYSNNSIAIPTNFTI\n",
    "SVTTEILPVSMTKTSVDCTMYICGDSTECSNLLLQYGSFCTQLNRALTGIAVEQDKNTQE\n",
    "VFAQVKQIYKTPPIKDFGGFNFSQILPDPSKPSKRSFIEDLLFNKVTLADAGFIKQYGDC\n",
    "LGDIAARDLICAQKFNGLTVLPPLLTDEMIAQYTSALLAGTITSGWTFGAGAALQIPFAM\n",
    "QMAYRFNGIGVTQNVLYENQKLIANQFNSAIGKIQDSLSSTASALGKLQDVVNQNAQALN\n",
    "TLVKQLSSNFGAISSVLNDILSRLDKVEAEVQIDRLITGRLQSLQTYVTQQLIRAAEIRA\n",
    "SANLAATKMSECVLGQSKRVDFCGKGYHLMSFPQSAPHGVVFLHVTYVPAQEKNFTTAPA\n",
    "ICHDGKAHFPREGVFVSNGTHWFVTQRNFYEPQIITTDNTFVSGNCDVVIGIVNNTVYDP\n",
    "LQPELDSFKEELDKYFKNHTSPDVDLGDISGINASVVNIQKEIDRLNEVAKNLNESLIDL\n",
    "QELGKYEQYIKWPWYIWLGFIAGLIAIVMVTIMLCCMTSCCSCLKGCCSCGSCCKFDEDD\n",
    "SEPVLKGVKLHYT\n",
    "```\n",
    "\n",
    "````\n",
    "\n",
    "In the context of database searching, a query sequence and a reference sequence that we hypothesize to be homologous can be identical to one another, or they can differ as a result of mutation events. When sequences differ, we're often then interested in how much they differ, or their pairwise similarity, which can help us identify the most closely related of several homologs in the reference database. There is an important distinction in the terms **homology** and **similarity**: homology is a discrete variable, and similarity is a continuous variable. A pair of biological sequences either *are* or *are not* derived from a common ancestor, but they can be more or less similar to each other. Saying that two sequences are 80% homologous doesn't make sense. What people generally mean when they say this is that two sequences are 80% similar, and as a result they are hypothesizing homology between the sequences.\n",
    "\n",
    "**Similarity** between a pair of sequences can be computed in a few different ways. In this text, unless otherwise noted, we'll compute similar as: $Similarity = 1 - Hamming\\ distance$. Recall that Hamming distance is the fraction of positions that differ between aligned sequences. Similarity is therefore the inverse of that: the fraction of positions that do not differ between aligned sequences.\n",
    "\n",
    "## Defining the problem \n",
    "\n",
    "As mentioned above, if we want to perform a homology search we'll have one or more **query sequences**, and for each we want to know which sequence(s) in a reference database it is most similar to.\n",
    "\n",
    "Sequence homology searching can be implemented in a few ways. In this chapter, we'll use the local alignment function that we worked with in the Pairwise Alignment chapter, ``local_pairwise_align_ssw``, run it many times to search one query sequence against many reference sequences, and investigate the highest scoring alignment(s) to identify the best database match. Remember that you can always get help with a function by passing it as an argument to ``help``:"
   ]
  },
  {
   "cell_type": "code",
   "execution_count": 1,
   "metadata": {},
   "outputs": [
    {
     "name": "stdout",
     "output_type": "stream",
     "text": [
      "Help on function local_pairwise_align_ssw in module skbio.alignment._pairwise:\n",
      "\n",
      "local_pairwise_align_ssw(sequence1, sequence2, **kwargs)\n",
      "    Align query and target sequences with Striped Smith-Waterman.\n",
      "    \n",
      "    State: Experimental as of 0.4.0.\n",
      "    \n",
      "    Parameters\n",
      "    ----------\n",
      "    sequence1 : DNA, RNA, or Protein\n",
      "        The first unaligned sequence\n",
      "    sequence2 : DNA, RNA, or Protein\n",
      "        The second unaligned sequence\n",
      "    \n",
      "    Returns\n",
      "    -------\n",
      "    tuple\n",
      "        ``TabularMSA`` object containing the aligned sequences, alignment score\n",
      "        (float), and start/end positions of each input sequence (iterable\n",
      "        of two-item tuples). Note that start/end positions are indexes into the\n",
      "        unaligned sequences.\n",
      "    \n",
      "    Notes\n",
      "    -----\n",
      "    This is a wrapper for the SSW package [1]_.\n",
      "    \n",
      "    For a complete list of optional keyword-arguments that can be provided,\n",
      "    see ``skbio.alignment.StripedSmithWaterman``.\n",
      "    \n",
      "    The following kwargs will not have any effect: `suppress_sequences`,\n",
      "    `zero_index`, and `protein`\n",
      "    \n",
      "    If an alignment does not meet a provided filter, `None` will be returned.\n",
      "    \n",
      "    References\n",
      "    ----------\n",
      "    .. [1] Zhao, Mengyao, Wan-Ping Lee, Erik P. Garrison, & Gabor T.\n",
      "       Marth. \"SSW Library: An SIMD Smith-Waterman C/C++ Library for\n",
      "       Applications\". PLOS ONE (2013). Web. 11 July 2014.\n",
      "       http://www.plosone.org/article/info:doi/10.1371/journal.pone.0082138\n",
      "    \n",
      "    See Also\n",
      "    --------\n",
      "    skbio.alignment.StripedSmithWaterman\n",
      "\n"
     ]
    }
   ],
   "source": [
    "from skbio.alignment import local_pairwise_align_ssw\n",
    "help(local_pairwise_align_ssw)"
   ]
  },
  {
   "cell_type": "markdown",
   "metadata": {},
   "source": [
    "When our reference database starts getting hundreds of millions of bases long (as would be the case if we were searching against 97% OTUs from the [Greengenes small-subunit ribosomal RNA (SSU rRNA) reference database](http://www.ncbi.nlm.nih.gov/pubmed/22134646)), billions of bases long (as would be the case if we were searching against [the human genome](https://genome.ucsc.edu/cgi-bin/hgGateway)) or trillions of bases long (as would be the case if we were searching against the [NCBI non-redundant nucleotide database](http://www.ncbi.nlm.nih.gov/refseq/)), runtime becomes an important consideration. For that reason, learning about *heuristic algorithms* is an essential part of learning about sequence homology searching. Heuristic algorithms apply some rules (i.e., heuristics) to approximate the correct solution to a problem in a fraction of the runtime that would be required if we wanted to be guaranteed to find the correct solution. Heuristic algorithms are very common in bioinformatics, and we'll use them in several other places in this book.\n",
    "\n",
    "While we'll be aligning nucleotide sequences in this chapter, the same concepts apply to protein homology searching.\n",
    "\n",
    "(load-qdr)=\n",
    "## Loading annotated sequences \n",
    "\n",
    "````{margin}\n",
    "```{note}\n",
    "We're accessing Greengenes sequences here through the [QIIME default reference project](https://github.com/biocore/qiime-default-reference). The QIIME default reference project isn't actually used by recent versions of QIIME but it's a convenient resource for accessing a collection of 16S sequences from Python. This resource is handy if you need some sequences for experimental purposes, but is outdated and shouldn't be used in practice.\n",
    "```\n",
    "````\n",
    "\n",
    "The first thing we'll do as we learn about sequence homology searching is load some annotated sequences. The sequences that we're going to work with are derived from the [Greengenes](http://greengenes.secondgenome.com/) database. Greengenes is a database of 16S rRNA gene sequences, a component of the archaeal and bacterial [ribosome](http://www.nature.com/scitable/definition/ribosome-194) (the molecular machine that drives translation of mRNA to proteins). This gene is of a lot of interest to biologists because it's one of about 200 genes that are encoded in the genomes of all known cellular organisms. The sequences in Greengenes are taxonomically annotated, meaning that we'll have a collection of gene sequences and the taxonomic identity of the organism whose genome the sequence is found in. If we search an unannotated 16S rRNA query sequence against this database, we can make inferences about what organism our query sequence is from.\n",
    "\n",
    "First, let's load Greengenes into a list of ``skbio.DNA`` sequence objects, and associate the taxonomy of each sequence as sequence metadata."
   ]
  },
  {
   "cell_type": "code",
   "execution_count": 2,
   "metadata": {
    "tags": [
     "hide-cell"
    ]
   },
   "outputs": [
    {
     "name": "stdout",
     "output_type": "stream",
     "text": [
      "Populating the interactive namespace from numpy and matplotlib\n"
     ]
    }
   ],
   "source": [
    "# This cell performs some configuration for this notebook. It's hidden by\n",
    "# default because it's not relevant to the content of this chapter. You'll\n",
    "# occasionally notice that I hide this type of information so it's not \n",
    "# distracting.\n",
    "\n",
    "%pylab inline\n",
    "\n",
    "from IPython.core import page\n",
    "page.page = print"
   ]
  },
  {
   "cell_type": "code",
   "execution_count": 3,
   "metadata": {
    "tags": [
     "hide-cell"
    ]
   },
   "outputs": [],
   "source": [
    "import qiime_default_reference as qdr\n",
    "import skbio\n",
    "\n",
    "def load_taxonomy_reference_database(verbose=True):\n",
    "    # Load the taxonomic data\n",
    "    reference_taxonomy = {}\n",
    "    for e in open(qdr.get_reference_taxonomy()):\n",
    "        seq_id, seq_tax = e.strip().split('\\t')\n",
    "        reference_taxonomy[seq_id] = seq_tax\n",
    "\n",
    "    # Load the reference sequences, and associate the taxonomic annotation with\n",
    "    # each as metadata\n",
    "    reference_db = []\n",
    "    for e in skbio.io.read(qdr.get_reference_sequences(), format='fasta', constructor=skbio.DNA):\n",
    "        if e.has_degenerates():\n",
    "            # For the purpose of this lesson, we're going to ignore sequences that contain\n",
    "            # degenerate characters (i.e., characters other than A, C, G, or T)\n",
    "            continue\n",
    "        seq_tax = reference_taxonomy[e.metadata['id']]\n",
    "        e.metadata['taxonomy'] = seq_tax\n",
    "        reference_db.append(e)\n",
    "\n",
    "    if verbose:\n",
    "        print(\"%s sequences were loaded from the reference database.\" % len(reference_db))\n",
    "\n",
    "    return reference_taxonomy, reference_db"
   ]
  },
  {
   "cell_type": "code",
   "execution_count": 4,
   "metadata": {},
   "outputs": [
    {
     "name": "stdout",
     "output_type": "stream",
     "text": [
      "88452 sequences were loaded from the reference database.\n"
     ]
    }
   ],
   "source": [
    "reference_taxonomy, reference_db = load_taxonomy_reference_database()"
   ]
  },
  {
   "cell_type": "markdown",
   "metadata": {},
   "source": [
    "Next, we'll just inspect a couple of the sequences we loaded. Notice how the specificity of our taxonomic annotations (i.e., how many taxonomic levels are annotated and unknown) differs for different sequences."
   ]
  },
  {
   "cell_type": "code",
   "execution_count": 5,
   "metadata": {},
   "outputs": [
    {
     "data": {
      "text/plain": [
       "DNA\n",
       "-----------------------------------------------------------------------\n",
       "Metadata:\n",
       "    'description': ''\n",
       "    'id': '1111883'\n",
       "    'taxonomy': 'k__Bacteria; p__Gemmatimonadetes; c__Gemm-1; o__; f__;\n",
       "                 g__; s__'\n",
       "Stats:\n",
       "    length: 1428\n",
       "    has gaps: False\n",
       "    has degenerates: False\n",
       "    has definites: True\n",
       "    GC-content: 61.90%\n",
       "-----------------------------------------------------------------------\n",
       "0    GCTGGCGGCG TGCCTAACAC ATGTAAGTCG AACGGGACTG GGGGCAACTC CAGTTCAGTG\n",
       "60   GCAGACGGGT GCGTAACACG TGAGCAACTT GTCCGACGGC GGGGGATAGC CGGCCCAACG\n",
       "...\n",
       "1320 GCCGCGGTGA ATACGTTCCC GGGCCTTGTA CACACCGCCC GTCACGCCAT GGAAGCCGGA\n",
       "1380 GGGACCCGAA ACCGGTGGGC CAACCGCAAG GGGGCAGCCG TCTAAGGT"
      ]
     },
     "execution_count": 5,
     "metadata": {},
     "output_type": "execute_result"
    }
   ],
   "source": [
    "reference_db[0]"
   ]
  },
  {
   "cell_type": "code",
   "execution_count": 6,
   "metadata": {},
   "outputs": [
    {
     "data": {
      "text/plain": [
       "DNA\n",
       "----------------------------------------------------------------------\n",
       "Metadata:\n",
       "    'description': ''\n",
       "    'id': '4483258'\n",
       "    'taxonomy': 'k__Archaea; p__Crenarchaeota; c__Thermoprotei;\n",
       "                 o__Thermoproteales; f__Thermoproteaceae; g__; s__'\n",
       "Stats:\n",
       "    length: 2123\n",
       "    has gaps: False\n",
       "    has degenerates: False\n",
       "    has definites: True\n",
       "    GC-content: 58.36%\n",
       "----------------------------------------------------------------------\n",
       "0    CTGGTTGATC CTGCCGGACC CGACCGCTAT CGGGGTGGGG CTTAGCCATG CGAGTCAAGC\n",
       "60   GCCCCAGGGA CCCGCTGGGG TGCGGCGCAC GGCTCAGTAA CACGTGGCCA ACCTACCCTC\n",
       "...\n",
       "2040 ATAATCTCCT TATTGTCTGA TCCTTATGCA TTTTCCTTTG GCCCATCCCG TGAATACGCG\n",
       "2100 CGGTGAATAC GTCCCTGCCC CTT"
      ]
     },
     "execution_count": 6,
     "metadata": {},
     "output_type": "execute_result"
    }
   ],
   "source": [
    "reference_db[-1]"
   ]
  },
  {
   "cell_type": "markdown",
   "metadata": {},
   "source": [
    "For the sake of runtime, we're going to work through this chapter using a random sample of sequences from this database. Here we'll use Python's [random module](https://docs.python.org/3/library/random.html) to select sequences at random."
   ]
  },
  {
   "cell_type": "code",
   "execution_count": 7,
   "metadata": {},
   "outputs": [
    {
     "name": "stdout",
     "output_type": "stream",
     "text": [
      "5000 sequences are present in the subsampled database.\n"
     ]
    }
   ],
   "source": [
    "import random\n",
    "\n",
    "reference_db = random.sample(reference_db, k=5000)\n",
    "print(\"%s sequences are present in the subsampled database.\" % len(reference_db))"
   ]
  },
  {
   "cell_type": "markdown",
   "metadata": {},
   "source": [
    "We'll also extract some sequences from Greengenes to use as query sequences in our database searches. This time we won't annotate them (to simulate not knowing what organisms they're from). We'll also trim these sequences so they're shorter than the full length references. This will simulate obtaining a partial gene sequence, as is most common with the current sequencing technologies (as of this writing), but will also help to make the examples run faster.\n",
    "\n",
    "Note that some of our query sequences may also be in our subsampled reference database and some won't. This is realistic: sometimes we're working with sequences that are exact matches to known sequences, and sometimes we're working with sequences that don't match any known sequences (or at least any in the reference database that we're working with)."
   ]
  },
  {
   "cell_type": "code",
   "execution_count": 8,
   "metadata": {
    "tags": [
     "hide-cell"
    ]
   },
   "outputs": [],
   "source": [
    "def load_taxonomy_query_sequences(start_position=100, length=200):\n",
    "    queries = []\n",
    "    for e in skbio.io.read(qdr.get_reference_sequences(), format='fasta', constructor=skbio.DNA):\n",
    "        if e.has_degenerates():\n",
    "            # For the purpose of this lesson, we're going to ignore sequences that contain\n",
    "            # degenerate characters (i.e., characters other than A, C, G, or T)\n",
    "            continue\n",
    "        e = e[start_position:start_position + length]\n",
    "        queries.append(e)\n",
    "\n",
    "    return queries"
   ]
  },
  {
   "cell_type": "code",
   "execution_count": 9,
   "metadata": {},
   "outputs": [],
   "source": [
    "queries = load_taxonomy_query_sequences()\n",
    "queries = random.sample(queries, k=50)"
   ]
  },
  {
   "cell_type": "markdown",
   "metadata": {},
   "source": [
    "Let's inspect a couple of the query sequences that we'll work with."
   ]
  },
  {
   "cell_type": "code",
   "execution_count": 10,
   "metadata": {},
   "outputs": [
    {
     "data": {
      "text/plain": [
       "DNA\n",
       "---------------------------------------------------------------------\n",
       "Metadata:\n",
       "    'description': ''\n",
       "    'id': '551942'\n",
       "Stats:\n",
       "    length: 200\n",
       "    has gaps: False\n",
       "    has degenerates: False\n",
       "    has definites: True\n",
       "    GC-content: 65.50%\n",
       "---------------------------------------------------------------------\n",
       "0   ATCCTTGTGC GGGGGACAAC CCGGGGAAAC CCGGGCTAAT ACCGCATGGT CCGGAGCCTC\n",
       "60  GAGCGGGGCA CCGGGGAAAG ATGGCCTCTT CGCAATGCTA TCGCGCAGGG AGGGGCTCGC\n",
       "120 GGGCTATCAG CTAGTTGGTG GGGTAATGGC CCACCAAGGC GGCGACGGCT ACGGGGTCTG\n",
       "180 AGAGGACGAC CCCGCACATT"
      ]
     },
     "execution_count": 10,
     "metadata": {},
     "output_type": "execute_result"
    }
   ],
   "source": [
    "queries[0]"
   ]
  },
  {
   "cell_type": "code",
   "execution_count": 11,
   "metadata": {},
   "outputs": [
    {
     "data": {
      "text/plain": [
       "DNA\n",
       "---------------------------------------------------------------------\n",
       "Metadata:\n",
       "    'description': ''\n",
       "    'id': '4346108'\n",
       "Stats:\n",
       "    length: 200\n",
       "    has gaps: False\n",
       "    has degenerates: False\n",
       "    has definites: True\n",
       "    GC-content: 55.50%\n",
       "---------------------------------------------------------------------\n",
       "0   ACCTTCAGGC GAGGGACAAC GGGTCGAAAG ACCCGCTAAT ACCTCATAAG ACCACAGGGT\n",
       "60  CCTCGGACCT CGGGGTAAAA GGCTTCGGCC ACCGGAAGAT GAGTCCGCGC ACCATTAGCT\n",
       "120 TGTTGGTGAG GTAACGGCTC ACCAAGGCAA AGATGGTTAG CTGGTCTGAG AGGACGATCA\n",
       "180 GCAACACTGG AACTGAGACA"
      ]
     },
     "execution_count": 11,
     "metadata": {},
     "output_type": "execute_result"
    }
   ],
   "source": [
    "queries[-1]"
   ]
  },
  {
   "cell_type": "markdown",
   "metadata": {},
   "source": [
    "## Defining the problem \n",
    "\n",
    "The problem that we are going to address here is as follows. We now have a query sequence ($q_i$) which is not taxonomically annotated (meaning we don't know the taxonomy of the organism whose genome it is found in), and a reference database ($R$) of taxonomically annotated sequences ($r_1, r_2, r_3, ... r_n$). We want to infer a taxonomic annotation for $q_i$. We'll do this by identifying the most similar sequence(s) in $R$ and associating their taxonomy with $q_i$. Because we actually do know the taxonomy of $q_i$ (to the extent that we trust the annotations in $R$), we can evaluate how well this approach works.\n",
    "\n",
    "There are a few realistic features of the situation that we've set up here that I want you to be aware of.\n",
    "\n",
    "1. All of the query and reference sequences are homologous. In this case, they are all sequences of the 16S rRNA gene from archaea and bacteria. This may or may not be the case in real-world applications. Sometimes you'll work with gene-specific databases such as Greengenes, and sometimes you'll work with non-specific databases such as the NCBI nucleotide database (nr). Regardless, the search process is similar.\n",
    "2. The distance between each query sequence and its most closely related sequences in $R$ will vary widely. Sometimes $q$ will be an exact match to a reference sequence $r_i$, and sometimes we may have as little as $50\\%$ similarity.\n",
    "\n",
    "As we work through the next sections, imagine that we're exploring scaling this system up, so that instead of searching just one or a few query sequences against the reference database, we ultimately want to apply this to search millions of sequences against the database. This would be the real-world problem we faced if we had collected 16S rRNA sequences from the environment (which would of course be unannotated) using high-throughput DNA sequencing.\n",
    "\n",
    "## A complete homology search function \n",
    "\n",
    "Let's define a homology search function that aligns each provided query sequences $q_i$ with each of our reference database sequences ($r_1, r_2, r_3, ... r_n$). This function will take as input one or more query sequences, and the reference database. We'll call the top scoring alignments for each $q_i$ the *best hits*, and we'll specifically request some number (`n`) of best hits for each $q_i$. The output of this function will be a summary of the `n` best hits for each query sequence, including some technical information about the alignment and the taxonomy associated with the corresponding reference sequence. We'll then review the taxonomy annotations for our best hits, and from those make an inference about the taxonomy annotation for $q_i$.\n",
    "\n",
    "Spend a minute looking at this function and try to understand what it's doing."
   ]
  },
  {
   "cell_type": "code",
   "execution_count": 12,
   "metadata": {},
   "outputs": [],
   "source": [
    "import pandas as pd\n",
    "from skbio.alignment import local_pairwise_align_ssw\n",
    "\n",
    "def local_alignment_search(queries, reference_db, n=5,\n",
    "                           aligner=local_pairwise_align_ssw):\n",
    "    results = []\n",
    "    indices = []\n",
    "    for q in queries:\n",
    "        # first we'll compute all of the alignments and their associated scores\n",
    "        hits = []\n",
    "        for r in reference_db:\n",
    "            aln, score, _ = aligner(q, r)\n",
    "            hits.append([r.metadata['id'], score, aln,\n",
    "                         r.metadata['taxonomy']])\n",
    "        # then we reverse-sort them by score, and return the n highest\n",
    "        # scoring alignments (this needs to be updated so we only\n",
    "        # ever keep track of the n highest scoring alignments)\n",
    "        best_hits = sorted(hits, key=lambda e: e[1], reverse=True)[:n]\n",
    "        if len(best_hits) == 0:\n",
    "            # if there are no hits, log that information\n",
    "            indices.append((q.metadata['id'], \"no matches\"))\n",
    "            results.append((\"n/a\", np.nan, np.nan, np.nan))\n",
    "        else:\n",
    "            # otherwise compile and track some information about the n\n",
    "            # best hits\n",
    "            for r_id, score, aln, r_tax in best_hits:\n",
    "                percent_similarity = (100 * (1. - aln[0].distance(aln[1])))\n",
    "                aln_length = aln.shape[1]\n",
    "                indices.append((q.metadata['id'], r_id))\n",
    "                results.append((r_tax, percent_similarity,\n",
    "                                aln_length, score))\n",
    "    index = pd.MultiIndex.from_tuples(indices, names=['query', 'reference'])\n",
    "    columns = ['reference taxonomy', 'percent similarity',\n",
    "               'alignment length', 'score']\n",
    "    results = pd.DataFrame(results, index=index, columns=columns)\n",
    "    return results\n"
   ]
  },
  {
   "cell_type": "markdown",
   "metadata": {},
   "source": [
    "Now let's perform some database searches. You can run the remaining code cells in this section a few times to experiment with searching different query sequences against the same reference database.\n",
    "\n",
    "This next cell, which is the one that actually performs the database searches, will take a little bit of time to run (maybe up to a minute or two). There is some code in this cell that will track the runtime. As it's running, think about how many query sequences we're searching against how many reference sequences, and refer back to the number of sequences in the full reference database. Does this strategy seem scalable to millions of sequences, which as mentioned above might be our ultimate goal? When you know the per-sequence runtime of this search, estimate how long it would take to do this in seconds for one million sequences. Convert the time in seconds to a unit that will be more meaningful to you."
   ]
  },
  {
   "cell_type": "code",
   "execution_count": 13,
   "metadata": {},
   "outputs": [
    {
     "name": "stdout",
     "output_type": "stream",
     "text": [
      "Runtime: 5.3489 sec per query\n"
     ]
    },
    {
     "data": {
      "text/html": [
       "<div>\n",
       "<style scoped>\n",
       "    .dataframe tbody tr th:only-of-type {\n",
       "        vertical-align: middle;\n",
       "    }\n",
       "\n",
       "    .dataframe tbody tr th {\n",
       "        vertical-align: top;\n",
       "    }\n",
       "\n",
       "    .dataframe thead th {\n",
       "        text-align: right;\n",
       "    }\n",
       "</style>\n",
       "<table border=\"1\" class=\"dataframe\">\n",
       "  <thead>\n",
       "    <tr style=\"text-align: right;\">\n",
       "      <th></th>\n",
       "      <th></th>\n",
       "      <th>reference taxonomy</th>\n",
       "      <th>percent similarity</th>\n",
       "      <th>alignment length</th>\n",
       "      <th>score</th>\n",
       "    </tr>\n",
       "    <tr>\n",
       "      <th>query</th>\n",
       "      <th>reference</th>\n",
       "      <th></th>\n",
       "      <th></th>\n",
       "      <th></th>\n",
       "      <th></th>\n",
       "    </tr>\n",
       "  </thead>\n",
       "  <tbody>\n",
       "    <tr>\n",
       "      <th rowspan=\"5\" valign=\"top\">314162</th>\n",
       "      <th>534978</th>\n",
       "      <td>k__Bacteria; p__Proteobacteria; c__Gammaproteo...</td>\n",
       "      <td>87.128713</td>\n",
       "      <td>202</td>\n",
       "      <td>266</td>\n",
       "    </tr>\n",
       "    <tr>\n",
       "      <th>251900</th>\n",
       "      <td>k__Bacteria; p__Proteobacteria; c__Gammaproteo...</td>\n",
       "      <td>86.069652</td>\n",
       "      <td>201</td>\n",
       "      <td>260</td>\n",
       "    </tr>\n",
       "    <tr>\n",
       "      <th>831455</th>\n",
       "      <td>k__Bacteria; p__Proteobacteria; c__Gammaproteo...</td>\n",
       "      <td>86.069652</td>\n",
       "      <td>201</td>\n",
       "      <td>258</td>\n",
       "    </tr>\n",
       "    <tr>\n",
       "      <th>237001</th>\n",
       "      <td>k__Bacteria; p__Proteobacteria; c__Gammaproteo...</td>\n",
       "      <td>85.500000</td>\n",
       "      <td>200</td>\n",
       "      <td>254</td>\n",
       "    </tr>\n",
       "    <tr>\n",
       "      <th>144099</th>\n",
       "      <td>k__Bacteria; p__Proteobacteria; c__Gammaproteo...</td>\n",
       "      <td>85.000000</td>\n",
       "      <td>200</td>\n",
       "      <td>250</td>\n",
       "    </tr>\n",
       "    <tr>\n",
       "      <th rowspan=\"5\" valign=\"top\">4346108</th>\n",
       "      <th>4476808</th>\n",
       "      <td>k__Bacteria; p__Proteobacteria; c__Deltaproteo...</td>\n",
       "      <td>83.644860</td>\n",
       "      <td>214</td>\n",
       "      <td>255</td>\n",
       "    </tr>\n",
       "    <tr>\n",
       "      <th>3758893</th>\n",
       "      <td>k__Bacteria; p__Proteobacteria; c__Deltaproteo...</td>\n",
       "      <td>80.000000</td>\n",
       "      <td>200</td>\n",
       "      <td>200</td>\n",
       "    </tr>\n",
       "    <tr>\n",
       "      <th>309636</th>\n",
       "      <td>k__Bacteria; p__Proteobacteria; c__Deltaproteo...</td>\n",
       "      <td>82.222222</td>\n",
       "      <td>180</td>\n",
       "      <td>199</td>\n",
       "    </tr>\n",
       "    <tr>\n",
       "      <th>1105528</th>\n",
       "      <td>k__Bacteria; p__Proteobacteria; c__Deltaproteo...</td>\n",
       "      <td>79.899497</td>\n",
       "      <td>199</td>\n",
       "      <td>198</td>\n",
       "    </tr>\n",
       "    <tr>\n",
       "      <th>1884558</th>\n",
       "      <td>k__Bacteria; p__Proteobacteria; c__Deltaproteo...</td>\n",
       "      <td>81.666667</td>\n",
       "      <td>180</td>\n",
       "      <td>197</td>\n",
       "    </tr>\n",
       "    <tr>\n",
       "      <th rowspan=\"5\" valign=\"top\">259595</th>\n",
       "      <th>183117</th>\n",
       "      <td>k__Bacteria; p__Firmicutes; c__Clostridia; o__...</td>\n",
       "      <td>100.000000</td>\n",
       "      <td>200</td>\n",
       "      <td>400</td>\n",
       "    </tr>\n",
       "    <tr>\n",
       "      <th>172464</th>\n",
       "      <td>k__Bacteria; p__Firmicutes; c__Clostridia; o__...</td>\n",
       "      <td>94.444444</td>\n",
       "      <td>198</td>\n",
       "      <td>339</td>\n",
       "    </tr>\n",
       "    <tr>\n",
       "      <th>298387</th>\n",
       "      <td>k__Bacteria; p__Firmicutes; c__Clostridia; o__...</td>\n",
       "      <td>93.034826</td>\n",
       "      <td>201</td>\n",
       "      <td>328</td>\n",
       "    </tr>\n",
       "    <tr>\n",
       "      <th>335183</th>\n",
       "      <td>k__Bacteria; p__Firmicutes; c__Clostridia; o__...</td>\n",
       "      <td>93.298969</td>\n",
       "      <td>194</td>\n",
       "      <td>323</td>\n",
       "    </tr>\n",
       "    <tr>\n",
       "      <th>353954</th>\n",
       "      <td>k__Bacteria; p__Firmicutes; c__Clostridia; o__...</td>\n",
       "      <td>93.298969</td>\n",
       "      <td>194</td>\n",
       "      <td>323</td>\n",
       "    </tr>\n",
       "    <tr>\n",
       "      <th rowspan=\"5\" valign=\"top\">551942</th>\n",
       "      <th>248455</th>\n",
       "      <td>k__Bacteria; p__Gemmatimonadetes; c__Gemm-5; o...</td>\n",
       "      <td>85.929648</td>\n",
       "      <td>199</td>\n",
       "      <td>256</td>\n",
       "    </tr>\n",
       "    <tr>\n",
       "      <th>113526</th>\n",
       "      <td>k__Bacteria; p__Gemmatimonadetes; c__Gemm-5; o...</td>\n",
       "      <td>83.823529</td>\n",
       "      <td>204</td>\n",
       "      <td>229</td>\n",
       "    </tr>\n",
       "    <tr>\n",
       "      <th>688760</th>\n",
       "      <td>k__Bacteria; p__Gemmatimonadetes; c__Gemm-5; o...</td>\n",
       "      <td>83.248731</td>\n",
       "      <td>197</td>\n",
       "      <td>226</td>\n",
       "    </tr>\n",
       "    <tr>\n",
       "      <th>1138891</th>\n",
       "      <td>k__Bacteria; p__Gemmatimonadetes; c__Gemm-3; o...</td>\n",
       "      <td>78.217822</td>\n",
       "      <td>202</td>\n",
       "      <td>182</td>\n",
       "    </tr>\n",
       "    <tr>\n",
       "      <th>939457</th>\n",
       "      <td>k__Bacteria; p__Gemmatimonadetes; c__Gemm-2; o...</td>\n",
       "      <td>77.777778</td>\n",
       "      <td>207</td>\n",
       "      <td>175</td>\n",
       "    </tr>\n",
       "  </tbody>\n",
       "</table>\n",
       "</div>"
      ],
      "text/plain": [
       "                                                  reference taxonomy  \\\n",
       "query   reference                                                      \n",
       "314162  534978     k__Bacteria; p__Proteobacteria; c__Gammaproteo...   \n",
       "        251900     k__Bacteria; p__Proteobacteria; c__Gammaproteo...   \n",
       "        831455     k__Bacteria; p__Proteobacteria; c__Gammaproteo...   \n",
       "        237001     k__Bacteria; p__Proteobacteria; c__Gammaproteo...   \n",
       "        144099     k__Bacteria; p__Proteobacteria; c__Gammaproteo...   \n",
       "4346108 4476808    k__Bacteria; p__Proteobacteria; c__Deltaproteo...   \n",
       "        3758893    k__Bacteria; p__Proteobacteria; c__Deltaproteo...   \n",
       "        309636     k__Bacteria; p__Proteobacteria; c__Deltaproteo...   \n",
       "        1105528    k__Bacteria; p__Proteobacteria; c__Deltaproteo...   \n",
       "        1884558    k__Bacteria; p__Proteobacteria; c__Deltaproteo...   \n",
       "259595  183117     k__Bacteria; p__Firmicutes; c__Clostridia; o__...   \n",
       "        172464     k__Bacteria; p__Firmicutes; c__Clostridia; o__...   \n",
       "        298387     k__Bacteria; p__Firmicutes; c__Clostridia; o__...   \n",
       "        335183     k__Bacteria; p__Firmicutes; c__Clostridia; o__...   \n",
       "        353954     k__Bacteria; p__Firmicutes; c__Clostridia; o__...   \n",
       "551942  248455     k__Bacteria; p__Gemmatimonadetes; c__Gemm-5; o...   \n",
       "        113526     k__Bacteria; p__Gemmatimonadetes; c__Gemm-5; o...   \n",
       "        688760     k__Bacteria; p__Gemmatimonadetes; c__Gemm-5; o...   \n",
       "        1138891    k__Bacteria; p__Gemmatimonadetes; c__Gemm-3; o...   \n",
       "        939457     k__Bacteria; p__Gemmatimonadetes; c__Gemm-2; o...   \n",
       "\n",
       "                   percent similarity  alignment length  score  \n",
       "query   reference                                               \n",
       "314162  534978              87.128713               202    266  \n",
       "        251900              86.069652               201    260  \n",
       "        831455              86.069652               201    258  \n",
       "        237001              85.500000               200    254  \n",
       "        144099              85.000000               200    250  \n",
       "4346108 4476808             83.644860               214    255  \n",
       "        3758893             80.000000               200    200  \n",
       "        309636              82.222222               180    199  \n",
       "        1105528             79.899497               199    198  \n",
       "        1884558             81.666667               180    197  \n",
       "259595  183117             100.000000               200    400  \n",
       "        172464              94.444444               198    339  \n",
       "        298387              93.034826               201    328  \n",
       "        335183              93.298969               194    323  \n",
       "        353954              93.298969               194    323  \n",
       "551942  248455              85.929648               199    256  \n",
       "        113526              83.823529               204    229  \n",
       "        688760              83.248731               197    226  \n",
       "        1138891             78.217822               202    182  \n",
       "        939457              77.777778               207    175  "
      ]
     },
     "execution_count": 13,
     "metadata": {},
     "output_type": "execute_result"
    }
   ],
   "source": [
    "import time\n",
    "\n",
    "start_time = time.time()\n",
    "current_queries = random.sample(queries, k=4)\n",
    "results = local_alignment_search(current_queries, reference_db)\n",
    "stop_time = time.time()\n",
    "print(\"Runtime: %1.4f sec per query\" % ((stop_time - start_time) / len(current_queries)))\n",
    "results"
   ]
  },
  {
   "cell_type": "markdown",
   "metadata": {},
   "source": [
    "Now, let's try to answer our initial question: what is the most likely taxonomic annotation for each of our query sequences? Spend a few minutes reviewing this information, and write down what you think the most likely taxonomic annotation is for each of the query sequences. Here are some hints to help you out:\n",
    "\n",
    " * The ``k``, ``p``, ``c``, ``o``, ``f``, ``g``, and ``s`` refer to *kingdom*, *phylum*, *class*, *order*, *family*, *genus*, and *species*, respectively. If you see an annotation for a reference sequence that looks like ``g__``, that means that the genus is unknown for that sequence.\n",
    " * Just as the reference taxonomy annotations don't always go down to the species level, your taxonomic annotations don't have to either. Not assigning at a given level implies that you're uncertain about what the annotation should be at that level, and it's usually better just to indicate that you're uncertain rather than make a bad guess. If you're uncertain of what the species is, assign the query ``s__`` and try to decide what the most likely genus is. If you're uncertain of the genus, assign ``g__``, and try to decide what the most likely family is...\n",
    " * As you look at each of the reference taxonomy annotations below, refer back to the table above to look at the percent similarity between each query and reference, and maybe the length of the alignments and their scores. These values give you an idea of how confident you should be in each of your taxonomic annotations."
   ]
  },
  {
   "cell_type": "code",
   "execution_count": 14,
   "metadata": {},
   "outputs": [
    {
     "name": "stdout",
     "output_type": "stream",
     "text": [
      "Closest taxonomies for query 314162 (in order):\n",
      "  k__Bacteria; p__Proteobacteria; c__Gammaproteobacteria; o__Chromatiales; f__Chromatiaceae; g__; s__\n",
      "  k__Bacteria; p__Proteobacteria; c__Gammaproteobacteria; o__Chromatiales; f__Ectothiorhodospiraceae; g__; s__\n",
      "  k__Bacteria; p__Proteobacteria; c__Gammaproteobacteria; o__Thiotrichales; f__Piscirickettsiaceae; g__; s__\n",
      "  k__Bacteria; p__Proteobacteria; c__Gammaproteobacteria; o__Legionellales; f__Coxiellaceae; g__; s__\n",
      "  k__Bacteria; p__Proteobacteria; c__Gammaproteobacteria; o__; f__; g__; s__\n",
      "\n",
      "Closest taxonomies for query 4346108 (in order):\n",
      "  k__Bacteria; p__Proteobacteria; c__Deltaproteobacteria; o__; f__; g__; s__\n",
      "  k__Bacteria; p__Proteobacteria; c__Deltaproteobacteria; o__Desulfuromonadales; f__Geobacteraceae; g__Geobacter; s__\n",
      "  k__Bacteria; p__Proteobacteria; c__Deltaproteobacteria; o__NB1-j; f__NB1-i; g__; s__\n",
      "  k__Bacteria; p__Proteobacteria; c__Deltaproteobacteria; o__Bdellovibrionales; f__Bdellovibrionaceae; g__Bdellovibrio; s__\n",
      "  k__Bacteria; p__Proteobacteria; c__Deltaproteobacteria; o__NB1-j; f__NB1-i; g__; s__\n",
      "\n",
      "Closest taxonomies for query 259595 (in order):\n",
      "  k__Bacteria; p__Firmicutes; c__Clostridia; o__Clostridiales; f__; g__; s__\n",
      "  k__Bacteria; p__Firmicutes; c__Clostridia; o__Clostridiales; f__; g__; s__\n",
      "  k__Bacteria; p__Firmicutes; c__Clostridia; o__Clostridiales; f__Lachnospiraceae; g__; s__\n",
      "  k__Bacteria; p__Firmicutes; c__Clostridia; o__Clostridiales; f__; g__; s__\n",
      "  k__Bacteria; p__Firmicutes; c__Clostridia; o__Clostridiales; f__; g__; s__\n",
      "\n",
      "Closest taxonomies for query 551942 (in order):\n",
      "  k__Bacteria; p__Gemmatimonadetes; c__Gemm-5; o__; f__; g__; s__\n",
      "  k__Bacteria; p__Gemmatimonadetes; c__Gemm-5; o__; f__; g__; s__\n",
      "  k__Bacteria; p__Gemmatimonadetes; c__Gemm-5; o__; f__; g__; s__\n",
      "  k__Bacteria; p__Gemmatimonadetes; c__Gemm-3; o__; f__; g__; s__\n",
      "  k__Bacteria; p__Gemmatimonadetes; c__Gemm-2; o__; f__; g__; s__\n",
      "\n"
     ]
    }
   ],
   "source": [
    "for q in current_queries:\n",
    "    q_id = q.metadata['id']\n",
    "    print('Closest taxonomies for query %s (in order):' % q_id)\n",
    "    for e in results['reference taxonomy'][q_id]:\n",
    "        print(' ', e)\n",
    "    print()"
   ]
  },
  {
   "cell_type": "markdown",
   "metadata": {},
   "source": [
    "Because we have taxonomic annotations for all of the Greengenes sequences (though as you probably have noticed by now, they differ in their specificity), we can next look at taxonomy associated with each of our queries in Greengenes. How do your annotations compare to those from Greengenes, which we'll print out in the next cell?"
   ]
  },
  {
   "cell_type": "code",
   "execution_count": 15,
   "metadata": {},
   "outputs": [
    {
     "name": "stdout",
     "output_type": "stream",
     "text": [
      "Known taxonomy for query 314162:\n",
      " k__Bacteria; p__Proteobacteria; c__Gammaproteobacteria; o__Legionellales; f__Coxiellaceae; g__; s__\n",
      "\n",
      "Known taxonomy for query 4346108:\n",
      " k__Bacteria; p__Proteobacteria; c__Deltaproteobacteria; o__; f__; g__; s__\n",
      "\n",
      "Known taxonomy for query 259595:\n",
      " k__Bacteria; p__Firmicutes; c__Clostridia; o__Clostridiales; f__; g__; s__\n",
      "\n",
      "Known taxonomy for query 551942:\n",
      " k__Bacteria; p__Gemmatimonadetes; c__Gemm-5; o__; f__; g__; s__\n",
      "\n"
     ]
    }
   ],
   "source": [
    "for q in current_queries:\n",
    "    q_id = q.metadata['id']\n",
    "    print('Known taxonomy for query %s:\\n %s' % (q_id, reference_taxonomy[q_id]))\n",
    "    print()"
   ]
  },
  {
   "cell_type": "markdown",
   "metadata": {},
   "source": [
    "## Reducing the runtime for database searches \n",
    "\n",
    "In the examples above, it's taking on the order of 5-15 seconds to search a single sequence against our subset of Greengenes. This makes sense when you think about the computations that are being performed. For every sequence in our reference database (5000, if you haven't modified the database subsampling step) it is computing the $F$ and $T$ matrices described in the Pairwise Alignment chapter, and then tracing back the matrix to compute the aligned sequences. Given all of that, the fact that computation only takes 5-15 seconds is pretty incredible. However, that doesn't change the fact that this doesn't scale to real-world applications because we'd have to wait way too long for results. Performing all pairwise alignments is prohibitively expensive for database searching.\n",
    "\n",
    "As we discussed in the previous chapter, the run time of pairwise alignment scales quadratically with sequence length. Database searching, at least in the example we're exploring in this chapter, is a bit of a different problem however. Our sequence lengths aren't changing, but rather it takes a long time because we're performing a computationally expensive step, pairwise alignment, many times. Our database is fixed in that the number of sequences in it doesn't change and the sequences themselves don't change. Our query sequences are all exactly the same length in this example (remember that we set that above, when we sliced a single region from reference database sequences to create our query sequences). Let's explore how the runtime of this database search scales under these constraints."
   ]
  },
  {
   "cell_type": "code",
   "execution_count": 16,
   "metadata": {},
   "outputs": [
    {
     "data": {
      "text/html": [
       "<div>\n",
       "<style scoped>\n",
       "    .dataframe tbody tr th:only-of-type {\n",
       "        vertical-align: middle;\n",
       "    }\n",
       "\n",
       "    .dataframe tbody tr th {\n",
       "        vertical-align: top;\n",
       "    }\n",
       "\n",
       "    .dataframe thead th {\n",
       "        text-align: right;\n",
       "    }\n",
       "</style>\n",
       "<table border=\"1\" class=\"dataframe\">\n",
       "  <thead>\n",
       "    <tr style=\"text-align: right;\">\n",
       "      <th></th>\n",
       "      <th>Number of query seqs</th>\n",
       "      <th>Number of reference seqs</th>\n",
       "      <th>Median query seq length</th>\n",
       "      <th>Median reference seq length</th>\n",
       "      <th>Runtime (s)</th>\n",
       "    </tr>\n",
       "  </thead>\n",
       "  <tbody>\n",
       "    <tr>\n",
       "      <th>0</th>\n",
       "      <td>1.0</td>\n",
       "      <td>100.0</td>\n",
       "      <td>200.0</td>\n",
       "      <td>1402.5</td>\n",
       "      <td>0.107516</td>\n",
       "    </tr>\n",
       "    <tr>\n",
       "      <th>1</th>\n",
       "      <td>1.0</td>\n",
       "      <td>100.0</td>\n",
       "      <td>200.0</td>\n",
       "      <td>1413.0</td>\n",
       "      <td>0.115458</td>\n",
       "    </tr>\n",
       "    <tr>\n",
       "      <th>2</th>\n",
       "      <td>1.0</td>\n",
       "      <td>100.0</td>\n",
       "      <td>200.0</td>\n",
       "      <td>1425.5</td>\n",
       "      <td>0.105529</td>\n",
       "    </tr>\n",
       "    <tr>\n",
       "      <th>3</th>\n",
       "      <td>5.0</td>\n",
       "      <td>100.0</td>\n",
       "      <td>200.0</td>\n",
       "      <td>1422.0</td>\n",
       "      <td>0.603844</td>\n",
       "    </tr>\n",
       "    <tr>\n",
       "      <th>4</th>\n",
       "      <td>5.0</td>\n",
       "      <td>100.0</td>\n",
       "      <td>200.0</td>\n",
       "      <td>1432.0</td>\n",
       "      <td>0.525639</td>\n",
       "    </tr>\n",
       "    <tr>\n",
       "      <th>5</th>\n",
       "      <td>5.0</td>\n",
       "      <td>100.0</td>\n",
       "      <td>200.0</td>\n",
       "      <td>1428.0</td>\n",
       "      <td>0.551292</td>\n",
       "    </tr>\n",
       "    <tr>\n",
       "      <th>6</th>\n",
       "      <td>10.0</td>\n",
       "      <td>100.0</td>\n",
       "      <td>200.0</td>\n",
       "      <td>1444.5</td>\n",
       "      <td>1.084111</td>\n",
       "    </tr>\n",
       "    <tr>\n",
       "      <th>7</th>\n",
       "      <td>10.0</td>\n",
       "      <td>100.0</td>\n",
       "      <td>200.0</td>\n",
       "      <td>1433.5</td>\n",
       "      <td>1.066373</td>\n",
       "    </tr>\n",
       "    <tr>\n",
       "      <th>8</th>\n",
       "      <td>10.0</td>\n",
       "      <td>100.0</td>\n",
       "      <td>200.0</td>\n",
       "      <td>1415.0</td>\n",
       "      <td>1.058018</td>\n",
       "    </tr>\n",
       "    <tr>\n",
       "      <th>9</th>\n",
       "      <td>15.0</td>\n",
       "      <td>100.0</td>\n",
       "      <td>200.0</td>\n",
       "      <td>1445.5</td>\n",
       "      <td>1.598910</td>\n",
       "    </tr>\n",
       "    <tr>\n",
       "      <th>10</th>\n",
       "      <td>15.0</td>\n",
       "      <td>100.0</td>\n",
       "      <td>200.0</td>\n",
       "      <td>1446.0</td>\n",
       "      <td>1.646123</td>\n",
       "    </tr>\n",
       "    <tr>\n",
       "      <th>11</th>\n",
       "      <td>15.0</td>\n",
       "      <td>100.0</td>\n",
       "      <td>200.0</td>\n",
       "      <td>1442.5</td>\n",
       "      <td>1.568323</td>\n",
       "    </tr>\n",
       "  </tbody>\n",
       "</table>\n",
       "</div>"
      ],
      "text/plain": [
       "    Number of query seqs  Number of reference seqs  Median query seq length  \\\n",
       "0                    1.0                     100.0                    200.0   \n",
       "1                    1.0                     100.0                    200.0   \n",
       "2                    1.0                     100.0                    200.0   \n",
       "3                    5.0                     100.0                    200.0   \n",
       "4                    5.0                     100.0                    200.0   \n",
       "5                    5.0                     100.0                    200.0   \n",
       "6                   10.0                     100.0                    200.0   \n",
       "7                   10.0                     100.0                    200.0   \n",
       "8                   10.0                     100.0                    200.0   \n",
       "9                   15.0                     100.0                    200.0   \n",
       "10                  15.0                     100.0                    200.0   \n",
       "11                  15.0                     100.0                    200.0   \n",
       "\n",
       "    Median reference seq length  Runtime (s)  \n",
       "0                        1402.5     0.107516  \n",
       "1                        1413.0     0.115458  \n",
       "2                        1425.5     0.105529  \n",
       "3                        1422.0     0.603844  \n",
       "4                        1432.0     0.525639  \n",
       "5                        1428.0     0.551292  \n",
       "6                        1444.5     1.084111  \n",
       "7                        1433.5     1.066373  \n",
       "8                        1415.0     1.058018  \n",
       "9                        1445.5     1.598910  \n",
       "10                       1446.0     1.646123  \n",
       "11                       1442.5     1.568323  "
      ]
     },
     "execution_count": 16,
     "metadata": {},
     "output_type": "execute_result"
    }
   ],
   "source": [
    "import pandas as pd\n",
    "import itertools\n",
    "\n",
    "def tabulate_local_alignment_search_runtime(queries, reference_db, n_query_sequences,\n",
    "                                            n_reference_sequences, search_function):\n",
    "    data = []\n",
    "    # we'll iterate over the pairs of number of query sequences\n",
    "    # and number of reference sequences, and compute the runtime\n",
    "    # of the database search three times for each pair (so we\n",
    "    # have some idea of the variance in the runtimes). this is\n",
    "    # achieved here with a nested for loop (i.e., a for loop\n",
    "    # within a for loop).\n",
    "    for nq, nr in itertools.product(n_query_sequences, n_reference_sequences):\n",
    "        for i in range(3):\n",
    "            # select nq query sequences at random\n",
    "            current_queries = random.sample(queries, k=nq)\n",
    "            # select nr reference sequences at random\n",
    "            temp_reference_db = random.sample(reference_db, k=nr)\n",
    "            # run the search and store its runtime\n",
    "            start_time = time.time()\n",
    "            _ = search_function(current_queries, temp_reference_db)\n",
    "            stop_time = time.time()\n",
    "            median_query_sequence_len = np.median([len(q) for q in current_queries])\n",
    "            median_reference_sequence_len = np.median([len(r) for r in temp_reference_db])\n",
    "            data.append((nq, nr, median_query_sequence_len, median_reference_sequence_len,\n",
    "                         stop_time - start_time))\n",
    "    runtimes = pd.DataFrame(data=np.asarray(data),\n",
    "                            columns=[\"Number of query seqs\", \"Number of reference seqs\",\n",
    "                                     \"Median query seq length\", \"Median reference seq length\",\n",
    "                                     \"Runtime (s)\"] )\n",
    "    return runtimes\n",
    "\n",
    "# we'll temporarily work with a smaller reference database\n",
    "# so this will run a lot faster. this will be of fixed size.\n",
    "n_reference_sequences = [100]\n",
    "# since our database is smaller, we can work with some slightly\n",
    "# larger numbers of sequences.\n",
    "n_query_sequences = [1, 5, 10, 15]\n",
    "\n",
    "local_alignment_search_runtimes = tabulate_local_alignment_search_runtime(queries, reference_db,\n",
    "                                                                          n_query_sequences, n_reference_sequences,\n",
    "                                                                          local_alignment_search)\n",
    "local_alignment_search_runtimes"
   ]
  },
  {
   "cell_type": "markdown",
   "metadata": {},
   "source": [
    "This table shows that we've tried a few variations on number of query sequences but kept the number of reference sequences constant. There is no variance in the query sequence length, and there is a relatively small amount of variance in reference sequence length (they're all of the same order of magnitude). There is also relatively little variance in runtime for fixed numbers of query and reference sequences.\n",
    "\n",
    "This table clearly shows that there is an increase in runtime with an increasing number of query sequences, which we'd of course expect. What we care about is how runtime is increasing as a function of number of query sequences. Let's plot runtime versus the number of query sequences to help us understand that relationship."
   ]
  },
  {
   "cell_type": "code",
   "execution_count": 17,
   "metadata": {},
   "outputs": [
    {
     "data": {
      "text/plain": [
       "<matplotlib.axes._subplots.AxesSubplot at 0x7fe998db3390>"
      ]
     },
     "execution_count": 17,
     "metadata": {},
     "output_type": "execute_result"
    },
    {
     "data": {
      "image/png": "[encoded data removed]",
      "text/plain": [
       "<Figure size 432x288 with 1 Axes>"
      ]
     },
     "metadata": {
      "filenames": {
       "image/png": "/home/runner/work/q2book/q2book/book/_build/jupyter_execute/algorithms/database-searching_28_1.png"
      },
      "needs_background": "light"
     },
     "output_type": "display_data"
    }
   ],
   "source": [
    "import seaborn as sns\n",
    "ax = sns.regplot(x=\"Number of query seqs\", y=\"Runtime (s)\", data=local_alignment_search_runtimes)\n",
    "ax.set_xlim(0)\n",
    "ax.set_ylim(0)\n",
    "ax"
   ]
  },
  {
   "cell_type": "markdown",
   "metadata": {},
   "source": [
    "What we see here is pretty clearly a linear relationship: $runtime \\approx constant \\times number\\ of\\ query\\ sequences$. This is because as we increase the number of query sequences, we're increasing the number of pairwise alignments that we need to perform. If we have 5 queries and 10 reference sequences, we compute $5 \\times 10 = 50$ pairwise alignments. If we have 10 queries and 100 reference sequences, we compute $10 \\times 100 = 1000$ pairwise alignments. There are a few practical ways to reduce the runtime of a process like this.\n",
    "\n",
    "The first seems obvious, and even silly at first: perform fewer alignments. This could be achieved in a few ways. You could reduce the number of query sequences, though this might be something a researcher is resistant to: they have some collection of unknown sequences, and they want to know what they all are. You could alternatively reduce the number of reference sequences, but you might run into the same issues there: we wouldn't want to exclude reference sequences that might provide us with useful information about our query sequences. Finally, we might be able to figure out some ways to perform fewer alignments by not searching all of the query sequences against all of the reference sequences. If we could come up with some procedure to approximate which pairwise alignments were likely to be good (i.e., high scoring) and which were likely to be bad (i.e., low scoring) that is faster than performing the pairwise alignments, we could apply that procedure and only align a pair of sequences when we expect to get a high score. That could potentially allow us to reduce the number of alignments we need to perform, and therefore the runtime of the algorithm.\n",
    "\n",
    "Another approach to reducing the runtime of this process would be to create a faster implementation of the algorithm (though at some point that won't be possible anymore), use a faster computer, or run the process in parallel on multiple processors. All of these would be ways to reduce the runtime of the search by some factor $f$, where $new\\ runtime \\approx \\frac{runtime}{f}$.\n",
    "\n",
    "In practice, for a production-scale sequence database search application like BLAST, we'd combine these approaches. In the next section we'll explore ways to reduce the runtime of database searching for a fixed number of query sequences and a fixed number of reference sequences by reducing the number of pairwise alignments that the search function will perform.\n",
    "\n",
    "## Heuristic algorithms \n",
    "\n",
    "As mentioned above, it just takes too long to search individual query sequences against a large database. This problem also isn't going away anytime soon. While computers are getting faster (or cheaper), the size of our sequences collections are getting bigger because sequencing is getting cheaper. In fact, many people think that obtaining DNA sequences is getting cheaper faster than computers are getting cheaper. As our number of query sequences increases because we are able to obtain more for the same amount of money, and the size of our reference databases increases (because we're continuously obtaining more sequence data) this will increasingly become a bigger problem. Figures 1 and 2, respectively, illustrate that these are both real-world issues. Notice that the axes are on a log scale in both cases."
   ]
  },
  {
   "cell_type": "code",
   "execution_count": 18,
   "metadata": {},
   "outputs": [
    {
     "data": {
      "text/html": [
       "\n",
       "<iframe\n",
       "    width=\"600\"\n",
       "    height=\"394\"\n",
       "    src=\"https://docs.google.com/spreadsheets/d/1vUkUuZsRlLW5U05rXXUn8B2sDYwShkClRMGa8Wiu6bc/pubchart?oid=1844125885&amp;format=interactive\"\n",
       "    frameborder=\"0\"\n",
       "    allowfullscreen\n",
       "></iframe>\n"
      ],
      "text/plain": [
       "<IPython.lib.display.IFrame at 0x7fe998ebbd30>"
      ]
     },
     "execution_count": 18,
     "metadata": {},
     "output_type": "execute_result"
    }
   ],
   "source": [
    "import IPython.display\n",
    "IPython.display.IFrame(width=\"600\", height=\"394\", src=\"https://docs.google.com/spreadsheets/d/1vUkUuZsRlLW5U05rXXUn8B2sDYwShkClRMGa8Wiu6bc/pubchart?oid=1844125885&amp;format=interactive\")"
   ]
  },
  {
   "cell_type": "markdown",
   "metadata": {},
   "source": [
    "Figure 1: Genome sequencing costs."
   ]
  },
  {
   "cell_type": "code",
   "execution_count": 19,
   "metadata": {},
   "outputs": [
    {
     "data": {
      "text/html": [
       "\n",
       "<iframe\n",
       "    width=\"763\"\n",
       "    height=\"371\"\n",
       "    src=\"https://docs.google.com/spreadsheets/d/1vUkUuZsRlLW5U05rXXUn8B2sDYwShkClRMGa8Wiu6bc/pubchart?oid=2103353397&amp;format=interactive\"\n",
       "    frameborder=\"0\"\n",
       "    allowfullscreen\n",
       "></iframe>\n"
      ],
      "text/plain": [
       "<IPython.lib.display.IFrame at 0x7fe998ebb208>"
      ]
     },
     "execution_count": 19,
     "metadata": {},
     "output_type": "execute_result"
    }
   ],
   "source": [
    "import IPython.display\n",
    "IPython.display.IFrame(width=\"763\", height=\"371\", src=\"https://docs.google.com/spreadsheets/d/1vUkUuZsRlLW5U05rXXUn8B2sDYwShkClRMGa8Wiu6bc/pubchart?oid=2103353397&amp;format=interactive\")"
   ]
  },
  {
   "cell_type": "markdown",
   "metadata": {},
   "source": [
    "Figure 2: Size of GenBank.\n",
    "\n",
    "One way that we can deal with this problem is by recognizing that most of the alignments that are performed in a database search are unlikely to be very good alignments. An algorithm developer could therefore improve runtime by defining a heuristic (or a rule) that is applied to determine which reference sequences are likely to result in good alignments, and only aligning the query against those. For it to be useful, making the decision to align or not (i.e., applying the heuristic) must be *much faster* than actually performing the pairwise alignment. The heuristic also needs to make *good* choices about which reference sequences to align the query against. If the algorithm chooses to not align against a specific reference, that reference is ruled out as a possible result of the database search. A good heuristic for sequence homology searching would therefore be very unlikely to exclude the best alignment(s). When thinking about heuristic algorithms in general, there are some important considerations:\n",
    "\n",
    "1. How often does the heuristic algorithm fail to get the right answer (in our case, does it make good choices about which reference sequences to align against)?\n",
    "2. How much faster is the heuristic than the \"complete\" approach, and is that reduction in runtime enough to justify not being guaranteed to get the best answer?\n",
    "\n",
    "We'll now look at a few heuristics in the context of these questions.\n",
    "\n",
    "### Random reference sequence selection \n",
    "\n",
    "Our first heuristic will be a [straw man](https://en.wikipedia.org/wiki/Straw_man) that we use as a baseline. We'll select a random $p\\%$ of the reference sequences to align our query against. This will clearly result in a large decrease in the number of sequence alignments that we need to perform because we'll go from performing $R_s$ (the reference database size) sequence alignments to $p \\times R_s$ sequence alignments for each query sequence $q_i$.\n",
    "\n",
    "Here's the source code for this. You can see that we're just wrapping our ``local_alignment_search`` function in a function that samples down to $p\\%$ of the reference sequences."
   ]
  },
  {
   "cell_type": "code",
   "execution_count": 20,
   "metadata": {},
   "outputs": [],
   "source": [
    "import random\n",
    "\n",
    "def heuristic_local_alignment_search_random(\n",
    "        queries, reference_db, p, n=5, aligner=local_pairwise_align_ssw):\n",
    "    k = int(p * len(reference_db))\n",
    "    database_subset = random.sample(reference_db, k)\n",
    "    return local_alignment_search(queries, database_subset, n=n, aligner=aligner)"
   ]
  },
  {
   "cell_type": "markdown",
   "metadata": {},
   "source": [
    "Let's select some new queries and see how the results compare to our known taxonomies."
   ]
  },
  {
   "cell_type": "code",
   "execution_count": 21,
   "metadata": {},
   "outputs": [],
   "source": [
    "current_queries = random.sample(queries, k=10)"
   ]
  },
  {
   "cell_type": "code",
   "execution_count": 22,
   "metadata": {},
   "outputs": [
    {
     "name": "stdout",
     "output_type": "stream",
     "text": [
      "Closest taxonomies for query 4357275 (in order):\n",
      "  k__Bacteria; p__Firmicutes; c__Bacilli; o__Bacillales; f__Bacillaceae; g__Anoxybacillus; s__kestanbolensis\n",
      "  k__Bacteria; p__Firmicutes; c__Bacilli; o__Bacillales; f__Bacillaceae; g__Anoxybacillus; s__kestanbolensis\n",
      "  k__Bacteria; p__Firmicutes; c__Bacilli; o__Bacillales; f__Bacillaceae; g__Anoxybacillus; s__kestanbolensis\n",
      "  k__Bacteria; p__Firmicutes; c__Clostridia; o__Clostridiales; f__Ruminococcaceae; g__; s__\n",
      "  k__Bacteria; p__Firmicutes; c__Clostridia; o__Clostridiales; f__; g__; s__\n",
      "\n",
      "Closest taxonomies for query 4354266 (in order):\n",
      "  k__Bacteria; p__Proteobacteria; c__Alphaproteobacteria; o__Sphingomonadales; f__Sphingomonadaceae; g__; s__\n",
      "  k__Bacteria; p__Proteobacteria; c__Alphaproteobacteria; o__Sphingomonadales; f__Sphingomonadaceae; g__; s__\n",
      "  k__Bacteria; p__Proteobacteria; c__Alphaproteobacteria; o__Sphingomonadales; f__Sphingomonadaceae; g__Sphingomonas; s__\n",
      "  k__Bacteria; p__Proteobacteria; c__Alphaproteobacteria; o__Sphingomonadales; f__; g__; s__\n",
      "  k__Bacteria; p__Proteobacteria; c__Alphaproteobacteria; o__Rhodospirillales; f__Rhodospirillaceae; g__; s__\n",
      "\n",
      "Closest taxonomies for query 147981 (in order):\n",
      "  k__Bacteria; p__Firmicutes; c__Clostridia; o__Clostridiales; f__Lachnospiraceae; g__; s__\n",
      "  k__Bacteria; p__Firmicutes; c__Clostridia; o__Clostridiales; f__Lachnospiraceae; g__; s__\n",
      "  k__Bacteria; p__Firmicutes; c__Clostridia; o__Clostridiales; f__Lachnospiraceae; g__; s__\n",
      "  k__Bacteria; p__Firmicutes; c__Clostridia; o__Clostridiales; f__Lachnospiraceae; g__; s__\n",
      "  k__Bacteria; p__Firmicutes; c__Clostridia; o__Clostridiales; f__Lachnospiraceae; g__Dorea; s__\n",
      "\n",
      "Closest taxonomies for query 840275 (in order):\n",
      "  k__Bacteria; p__Actinobacteria; c__Acidimicrobiia; o__Acidimicrobiales; f__C111; g__; s__\n",
      "  k__Bacteria; p__Actinobacteria; c__Acidimicrobiia; o__Acidimicrobiales; f__; g__; s__\n",
      "  k__Bacteria; p__Actinobacteria; c__Acidimicrobiia; o__Acidimicrobiales; f__SC3-41; g__; s__\n",
      "  k__Bacteria; p__Actinobacteria; c__Actinobacteria; o__Actinomycetales; f__Nocardiopsaceae; g__; s__\n",
      "  k__Bacteria; p__Actinobacteria; c__Actinobacteria; o__Actinomycetales; f__Micrococcaceae; g__Arthrobacter; s__\n",
      "\n",
      "Closest taxonomies for query 82365 (in order):\n",
      "  k__Bacteria; p__Proteobacteria; c__Betaproteobacteria; o__Burkholderiales; f__Comamonadaceae; g__; s__\n",
      "  k__Bacteria; p__Proteobacteria; c__Betaproteobacteria; o__Rhodocyclales; f__Rhodocyclaceae; g__Sterolibacterium; s__\n",
      "  k__Bacteria; p__Proteobacteria; c__Betaproteobacteria; o__Burkholderiales; f__Comamonadaceae; g__Tepidimonas; s__\n",
      "  k__Bacteria; p__Proteobacteria; c__Betaproteobacteria; o__Burkholderiales; f__Comamonadaceae; g__; s__\n",
      "  k__Bacteria; p__Proteobacteria; c__Betaproteobacteria; o__Burkholderiales; f__Oxalobacteraceae; g__Polynucleobacter; s__\n",
      "\n",
      "Closest taxonomies for query 229941 (in order):\n",
      "  k__Bacteria; p__Firmicutes; c__Clostridia; o__Clostridiales; f__Ruminococcaceae; g__Ruminococcus; s__bromii\n",
      "  k__Bacteria; p__Firmicutes; c__Clostridia; o__Clostridiales; f__Ruminococcaceae; g__; s__\n",
      "  k__Bacteria; p__Firmicutes; c__Clostridia; o__Clostridiales; f__Ruminococcaceae; g__Oscillospira; s__\n",
      "  k__Bacteria; p__Firmicutes; c__Clostridia; o__Clostridiales; f__Ruminococcaceae; g__; s__\n",
      "  k__Bacteria; p__Firmicutes; c__Clostridia; o__Clostridiales; f__; g__; s__\n",
      "\n",
      "Closest taxonomies for query 548949 (in order):\n",
      "  k__Bacteria; p__Proteobacteria; c__Gammaproteobacteria; o__Enterobacteriales; f__Enterobacteriaceae; g__; s__\n",
      "  k__Bacteria; p__Proteobacteria; c__Gammaproteobacteria; o__Vibrionales; f__Vibrionaceae; g__Enterovibrio; s__\n",
      "  k__Bacteria; p__Proteobacteria; c__Gammaproteobacteria; o__Enterobacteriales; f__Enterobacteriaceae; g__; s__\n",
      "  k__Bacteria; p__Proteobacteria; c__Gammaproteobacteria; o__Alteromonadales; f__Colwelliaceae; g__; s__\n",
      "  k__Bacteria; p__Proteobacteria; c__Gammaproteobacteria; o__Alteromonadales; f__Shewanellaceae; g__Shewanella; s__\n",
      "\n",
      "Closest taxonomies for query 274787 (in order):\n",
      "  k__Bacteria; p__Firmicutes; c__Clostridia; o__Clostridiales; f__[Acidaminobacteraceae]; g__Acidaminobacter; s__\n",
      "  k__Bacteria; p__Firmicutes; c__Clostridia; o__Clostridiales; f__[Mogibacteriaceae]; g__Mogibacterium; s__\n",
      "  k__Bacteria; p__Firmicutes; c__Clostridia; o__Clostridiales; f__[Mogibacteriaceae]; g__; s__\n",
      "  k__Bacteria; p__Firmicutes; c__Clostridia; o__Clostridiales; f__[Mogibacteriaceae]; g__Mogibacterium; s__\n",
      "  k__Bacteria; p__Firmicutes; c__Clostridia; o__Clostridiales; f__Lachnospiraceae; g__; s__\n",
      "\n",
      "Closest taxonomies for query 4346108 (in order):\n",
      "  k__Bacteria; p__Proteobacteria; c__Deltaproteobacteria; o__Desulfuromonadales; f__Geobacteraceae; g__Geobacter; s__\n",
      "  k__Bacteria; p__Proteobacteria; c__Deltaproteobacteria; o__Bdellovibrionales; f__Bdellovibrionaceae; g__Bdellovibrio; s__\n",
      "  k__Bacteria; p__Proteobacteria; c__Deltaproteobacteria; o__NB1-j; f__NB1-i; g__; s__\n",
      "  k__Bacteria; p__Actinobacteria; c__Thermoleophilia; o__Solirubrobacterales; f__; g__; s__\n",
      "  k__Bacteria; p__Proteobacteria; c__Deltaproteobacteria; o__Myxococcales; f__Nannocystaceae; g__Plesiocystis; s__\n",
      "\n",
      "Closest taxonomies for query 174847 (in order):\n",
      "  k__Bacteria; p__Firmicutes; c__Clostridia; o__Clostridiales; f__Lachnospiraceae; g__; s__\n",
      "  k__Bacteria; p__Firmicutes; c__Clostridia; o__Clostridiales; f__Lachnospiraceae; g__; s__\n",
      "  k__Bacteria; p__Firmicutes; c__Clostridia; o__Clostridiales; f__; g__; s__\n",
      "  k__Bacteria; p__Firmicutes; c__Clostridia; o__Clostridiales; f__Lachnospiraceae; g__; s__\n",
      "  k__Bacteria; p__Firmicutes; c__Clostridia; o__Clostridiales; f__; g__; s__\n",
      "\n"
     ]
    }
   ],
   "source": [
    "results = heuristic_local_alignment_search_random(current_queries, reference_db, p=0.10)\n",
    "\n",
    "for q in current_queries:\n",
    "    q_id = q.metadata['id']\n",
    "    print('Closest taxonomies for query %s (in order):' % q_id)\n",
    "    for e in results['reference taxonomy'][q_id]:\n",
    "        print(' ', e)\n",
    "    print()"
   ]
  },
  {
   "cell_type": "code",
   "execution_count": 23,
   "metadata": {},
   "outputs": [
    {
     "name": "stdout",
     "output_type": "stream",
     "text": [
      "Known taxonomy for query 4357275:\n",
      " k__Bacteria; p__Firmicutes; c__Clostridia; o__Clostridiales; f__Gracilibacteraceae; g__Gracilibacter; s__\n",
      "Known taxonomy for query 4354266:\n",
      " k__Bacteria; p__Proteobacteria; c__Alphaproteobacteria; o__Rickettsiales; f__mitochondria; g__Pelargonium; s__candicans\n",
      "Known taxonomy for query 147981:\n",
      " k__Bacteria; p__Firmicutes; c__Clostridia; o__Clostridiales; f__Lachnospiraceae; g__; s__\n",
      "Known taxonomy for query 840275:\n",
      " k__Bacteria; p__Actinobacteria; c__Acidimicrobiia; o__Acidimicrobiales; f__; g__; s__\n",
      "Known taxonomy for query 82365:\n",
      " k__Bacteria; p__Proteobacteria; c__Betaproteobacteria; o__Burkholderiales; f__Comamonadaceae; g__Rhodoferax; s__\n",
      "Known taxonomy for query 229941:\n",
      " k__Bacteria; p__Firmicutes; c__Clostridia; o__Clostridiales; f__Lachnospiraceae; g__Blautia; s__\n",
      "Known taxonomy for query 548949:\n",
      " k__Bacteria; p__Proteobacteria; c__Gammaproteobacteria; o__Vibrionales; f__Vibrionaceae; g__Vibrio; s__\n",
      "Known taxonomy for query 274787:\n",
      " k__Bacteria; p__Firmicutes; c__Clostridia; o__Clostridiales; f__[Mogibacteriaceae]; g__; s__\n",
      "Known taxonomy for query 4346108:\n",
      " k__Bacteria; p__Proteobacteria; c__Deltaproteobacteria; o__; f__; g__; s__\n",
      "Known taxonomy for query 174847:\n",
      " k__Bacteria; p__Firmicutes; c__Clostridia; o__Clostridiales; f__; g__; s__\n"
     ]
    }
   ],
   "source": [
    "for q in current_queries:\n",
    "    q_id = q.metadata['id']\n",
    "    print('Known taxonomy for query %s:\\n %s' % (q_id, reference_taxonomy[q_id]))"
   ]
  },
  {
   "cell_type": "markdown",
   "metadata": {},
   "source": [
    "What we need now is a way to know how often we get the \"right answer\", and how long this heuristic algorithm takes relative to the complete algorithm. We therefore first need to define what the \"right answer\" is. How about this: if the most common taxonomy assignment resulting from the database search at `taxonomy_levels` levels of taxonomy (i.e., how deep or specific our assignment is) matches the known taxonomy, then our algorithm has achieved the right answer. We can vary `taxonomy_levels` to see how the different heuristics perform at different levels.\n",
    "\n",
    "Here's what this would look like:"
   ]
  },
  {
   "cell_type": "code",
   "execution_count": 24,
   "metadata": {},
   "outputs": [],
   "source": [
    "import collections\n",
    "\n",
    "def evaluate_search(queries, reference_db, reference_taxonomy, search_function, taxonomy_levels, n=5, aligner=local_pairwise_align_ssw):\n",
    "    start_time = time.time()\n",
    "    search_results = search_function(current_queries, reference_db, n=n, aligner=aligner)\n",
    "    stop_time = time.time()\n",
    "    runtime = stop_time - start_time\n",
    "    per_query_runtime = runtime/len(queries)\n",
    "    data = []\n",
    "    indices = []\n",
    "    for q in queries:\n",
    "        q_id = q.metadata['id']\n",
    "        indices.append(q_id)\n",
    "        q_known_taxonomy = tuple(reference_taxonomy[q_id].split('; ')[:taxonomy_levels])\n",
    "        q_observed_taxonomies = collections.Counter()\n",
    "        for e in search_results['reference taxonomy'][q_id]:\n",
    "            q_observed_taxonomies[tuple(e.split('; ')[:taxonomy_levels])] += 1\n",
    "        q_observed_taxonomy = q_observed_taxonomies.most_common()[0][0]\n",
    "        data.append((q_known_taxonomy, q_observed_taxonomy))\n",
    "    index = pd.Index(indices, name='Query ID')\n",
    "    data = pd.DataFrame(data, index=index, columns=['Known taxonomy', 'Observed taxonomy'])\n",
    "    number_correct = np.sum(data['Known taxonomy'] == data['Observed taxonomy'])\n",
    "    fraction_correct = number_correct / data.shape[0]\n",
    "    return per_query_runtime, fraction_correct, data"
   ]
  },
  {
   "cell_type": "markdown",
   "metadata": {},
   "source": [
    "First let's see how this works for our full database search algorithm. What's the runtime, and how often do we get the correct answer? We'll start with five levels of taxonomy (which corresponds to the family level). **This step will take a couple of minutes to run, because it's doing the full database search.**"
   ]
  },
  {
   "cell_type": "code",
   "execution_count": 25,
   "metadata": {},
   "outputs": [],
   "source": [
    "taxonomy_levels = 5"
   ]
  },
  {
   "cell_type": "code",
   "execution_count": 26,
   "metadata": {},
   "outputs": [
    {
     "name": "stdout",
     "output_type": "stream",
     "text": [
      "5.30 seconds per query sequence\n",
      "50.00% correct answers\n",
      "Result details:\n",
      "4357275\n",
      "  ('k__Bacteria', 'p__Firmicutes', 'c__Clostridia', 'o__Clostridiales', 'f__Gracilibacteraceae')\n",
      "  ('k__Bacteria', 'p__Firmicutes', 'c__Bacilli', 'o__Bacillales', 'f__Bacillaceae')\n",
      "\n",
      "4354266\n",
      "  ('k__Bacteria', 'p__Proteobacteria', 'c__Alphaproteobacteria', 'o__Rickettsiales', 'f__mitochondria')\n",
      "  ('k__Bacteria', 'p__Proteobacteria', 'c__Alphaproteobacteria', 'o__Sphingomonadales', 'f__Sphingomonadaceae')\n",
      "\n",
      "147981\n",
      "  ('k__Bacteria', 'p__Firmicutes', 'c__Clostridia', 'o__Clostridiales', 'f__Lachnospiraceae')\n",
      "  ('k__Bacteria', 'p__Firmicutes', 'c__Clostridia', 'o__Clostridiales', 'f__Lachnospiraceae')\n",
      "\n",
      "840275\n",
      "  ('k__Bacteria', 'p__Actinobacteria', 'c__Acidimicrobiia', 'o__Acidimicrobiales', 'f__')\n",
      "  ('k__Bacteria', 'p__Actinobacteria', 'c__Acidimicrobiia', 'o__Acidimicrobiales', 'f__')\n",
      "\n",
      "82365\n",
      "  ('k__Bacteria', 'p__Proteobacteria', 'c__Betaproteobacteria', 'o__Burkholderiales', 'f__Comamonadaceae')\n",
      "  ('k__Bacteria', 'p__Proteobacteria', 'c__Betaproteobacteria', 'o__Burkholderiales', 'f__Comamonadaceae')\n",
      "\n",
      "229941\n",
      "  ('k__Bacteria', 'p__Firmicutes', 'c__Clostridia', 'o__Clostridiales', 'f__Lachnospiraceae')\n",
      "  ('k__Bacteria', 'p__Firmicutes', 'c__Clostridia', 'o__Clostridiales', 'f__Ruminococcaceae')\n",
      "\n",
      "548949\n",
      "  ('k__Bacteria', 'p__Proteobacteria', 'c__Gammaproteobacteria', 'o__Vibrionales', 'f__Vibrionaceae')\n",
      "  ('k__Bacteria', 'p__Proteobacteria', 'c__Gammaproteobacteria', 'o__Vibrionales', 'f__Vibrionaceae')\n",
      "\n",
      "274787\n",
      "  ('k__Bacteria', 'p__Firmicutes', 'c__Clostridia', 'o__Clostridiales', 'f__[Mogibacteriaceae]')\n",
      "  ('k__Bacteria', 'p__Firmicutes', 'c__Clostridia', 'o__Clostridiales', 'f__[Mogibacteriaceae]')\n",
      "\n",
      "4346108\n",
      "  ('k__Bacteria', 'p__Proteobacteria', 'c__Deltaproteobacteria', 'o__', 'f__')\n",
      "  ('k__Bacteria', 'p__Proteobacteria', 'c__Deltaproteobacteria', 'o__NB1-j', 'f__NB1-i')\n",
      "\n",
      "174847\n",
      "  ('k__Bacteria', 'p__Firmicutes', 'c__Clostridia', 'o__Clostridiales', 'f__')\n",
      "  ('k__Bacteria', 'p__Firmicutes', 'c__Clostridia', 'o__Clostridiales', 'f__Lachnospiraceae')\n",
      "\n"
     ]
    }
   ],
   "source": [
    "runtime, fraction_correct, data = evaluate_search(current_queries, reference_db, reference_taxonomy,\n",
    "                                                  local_alignment_search, taxonomy_levels=taxonomy_levels)\n",
    "print('%1.2f seconds per query sequence' % runtime)\n",
    "print('%1.2f%% correct answers' % (fraction_correct * 100.0))\n",
    "print('Result details:')\n",
    "for q_id in data.index:\n",
    "    print(q_id)\n",
    "    print(' ', data['Known taxonomy'][q_id])\n",
    "    print(' ', data['Observed taxonomy'][q_id])\n",
    "    print()"
   ]
  },
  {
   "cell_type": "markdown",
   "metadata": {},
   "source": [
    "Next let's see how this compares to our random heuristic search algorithm. Try running this a few times, as you might get different answers due to different random selections of the database."
   ]
  },
  {
   "cell_type": "code",
   "execution_count": 27,
   "metadata": {},
   "outputs": [
    {
     "name": "stdout",
     "output_type": "stream",
     "text": [
      "0.53 seconds per query sequence\n",
      "40.00% correct answers\n",
      "Result details:\n",
      "4357275\n",
      "  ('k__Bacteria', 'p__Firmicutes', 'c__Clostridia', 'o__Clostridiales', 'f__Gracilibacteraceae')\n",
      "  ('k__Bacteria', 'p__Firmicutes', 'c__Clostridia', 'o__Clostridiales', 'f__')\n",
      "\n",
      "4354266\n",
      "  ('k__Bacteria', 'p__Proteobacteria', 'c__Alphaproteobacteria', 'o__Rickettsiales', 'f__mitochondria')\n",
      "  ('k__Bacteria', 'p__Proteobacteria', 'c__Alphaproteobacteria', 'o__Rhodospirillales', 'f__Rhodospirillaceae')\n",
      "\n",
      "147981\n",
      "  ('k__Bacteria', 'p__Firmicutes', 'c__Clostridia', 'o__Clostridiales', 'f__Lachnospiraceae')\n",
      "  ('k__Bacteria', 'p__Firmicutes', 'c__Clostridia', 'o__Clostridiales', 'f__Lachnospiraceae')\n",
      "\n",
      "840275\n",
      "  ('k__Bacteria', 'p__Actinobacteria', 'c__Acidimicrobiia', 'o__Acidimicrobiales', 'f__')\n",
      "  ('k__Bacteria', 'p__Actinobacteria', 'c__Acidimicrobiia', 'o__Acidimicrobiales', 'f__')\n",
      "\n",
      "82365\n",
      "  ('k__Bacteria', 'p__Proteobacteria', 'c__Betaproteobacteria', 'o__Burkholderiales', 'f__Comamonadaceae')\n",
      "  ('k__Bacteria', 'p__Proteobacteria', 'c__Betaproteobacteria', 'o__Burkholderiales', 'f__Comamonadaceae')\n",
      "\n",
      "229941\n",
      "  ('k__Bacteria', 'p__Firmicutes', 'c__Clostridia', 'o__Clostridiales', 'f__Lachnospiraceae')\n",
      "  ('k__Bacteria', 'p__Firmicutes', 'c__Clostridia', 'o__Clostridiales', 'f__Ruminococcaceae')\n",
      "\n",
      "548949\n",
      "  ('k__Bacteria', 'p__Proteobacteria', 'c__Gammaproteobacteria', 'o__Vibrionales', 'f__Vibrionaceae')\n",
      "  ('k__Bacteria', 'p__Proteobacteria', 'c__Gammaproteobacteria', 'o__Enterobacteriales', 'f__Enterobacteriaceae')\n",
      "\n",
      "274787\n",
      "  ('k__Bacteria', 'p__Firmicutes', 'c__Clostridia', 'o__Clostridiales', 'f__[Mogibacteriaceae]')\n",
      "  ('k__Bacteria', 'p__Firmicutes', 'c__Clostridia', 'o__Clostridiales', 'f__[Mogibacteriaceae]')\n",
      "\n",
      "4346108\n",
      "  ('k__Bacteria', 'p__Proteobacteria', 'c__Deltaproteobacteria', 'o__', 'f__')\n",
      "  ('k__Bacteria', 'p__Proteobacteria', 'c__Deltaproteobacteria', 'o__Desulfobacterales', 'f__Desulfobacteraceae')\n",
      "\n",
      "174847\n",
      "  ('k__Bacteria', 'p__Firmicutes', 'c__Clostridia', 'o__Clostridiales', 'f__')\n",
      "  ('k__Bacteria', 'p__Firmicutes', 'c__Clostridia', 'o__Clostridiales', 'f__Lachnospiraceae')\n",
      "\n"
     ]
    }
   ],
   "source": [
    "import functools\n",
    "\n",
    "heuristic_local_alignment_search_random_10 = functools.partial(heuristic_local_alignment_search_random, p=0.10)\n",
    "\n",
    "runtime, fraction_correct, data = evaluate_search(current_queries, reference_db, reference_taxonomy,\n",
    "                                                  heuristic_local_alignment_search_random_10, taxonomy_levels=taxonomy_levels)\n",
    "\n",
    "print('%1.2f seconds per query sequence' % runtime)\n",
    "print('%1.2f%% correct answers' % (fraction_correct * 100.0))\n",
    "print('Result details:')\n",
    "for q_id in data.index:\n",
    "    print(q_id)\n",
    "    print(' ', data['Known taxonomy'][q_id])\n",
    "    print(' ', data['Observed taxonomy'][q_id])\n",
    "    print()"
   ]
  },
  {
   "cell_type": "markdown",
   "metadata": {},
   "source": [
    "Again, what's the runtime, and how often do we get the correct answer? Based on comparison to the full search, what do you think: is this a good heuristic?\n",
    "\n",
    "After performing many trials of the above searches, I get the correct genus-level assignment about half as often with the random reference database heuristic relative to the full database search. Your results might differ from that due to differences in the random selection of query and reference sequences. Try running all the cells in this section a few times.\n",
    "\n",
    "Go back to the beginning of this section and try running this check based on fewer levels of taxonomy (i.e., decreased taxonomic specificity, such as the phylum) and on more levels of taxonomy (i.e., increased taxonomic specificity, such as the species level). How does that impact how often we get the right answer?\n",
    "\n",
    "### Composition-based reference sequence collection \n",
    "\n",
    "While the random selection of database sequences can vastly reduce the runtime for database searching, we don't get the right answer very often. Let's try some heuristics that are a bit smarter. How about this: if the overall nucleotide composition of a query sequence is very different than the overall nucleotide composition of a reference sequence, it's unlikely that the best alignment will result from that pairwise alignment, so don't align the query to that reference sequence. Given that, how do we define \"overall nucleotide composition\" in a useful way?\n",
    "\n",
    "#### GC content \n",
    "\n",
    "One metric of sequence composition that we can compute quickly (because remember, this has to be a lot faster than computing the alignment for it to be worth it) is GC content. Let's define a heuristic that only performs a pairwise alignment for the reference sequences that have the most similar GC content to the query sequence. The number of alignments that we'll perform will be defined as ``database_subset_size``."
   ]
  },
  {
   "cell_type": "code",
   "execution_count": 28,
   "metadata": {},
   "outputs": [],
   "source": [
    "database_subset_size = 500"
   ]
  },
  {
   "cell_type": "code",
   "execution_count": 29,
   "metadata": {},
   "outputs": [],
   "source": [
    "def heuristic_local_alignment_search_gc(\n",
    "        queries, reference_db, database_subset_size, n=5,\n",
    "        reference_db_gc_contents=None,\n",
    "        aligner=local_pairwise_align_ssw):\n",
    "    results = []\n",
    "    if reference_db_gc_contents is None:\n",
    "        reference_db_gc_contents = \\\n",
    "         {r.metadata['id'] : r.gc_content() for r in reference_db}\n",
    "    for q in queries:\n",
    "        query_gc_content = q.gc_content()\n",
    "        database_subset = []\n",
    "        for r in reference_db:\n",
    "            ref_gc_content = reference_db_gc_contents[r.metadata['id']]\n",
    "            # find the difference in GC content between the reference and\n",
    "            # query. we'll sort and select our reference sequences by this\n",
    "            # value\n",
    "            database_subset.append((abs(ref_gc_content - query_gc_content), r))\n",
    "        database_subset.sort(key=lambda x: x[0])\n",
    "        database_subset = [e[1] for e in database_subset[:database_subset_size]]\n",
    "        results.append(local_alignment_search(\n",
    "            [q], database_subset, n=n, aligner=aligner))\n",
    "    return pd.concat(results)"
   ]
  },
  {
   "cell_type": "markdown",
   "metadata": {},
   "source": [
    "If we run our queries again, how often do we get the right answer? How much did we reduce runtime? Do you think this is a better or worse heuristic than what we implemented above?"
   ]
  },
  {
   "cell_type": "code",
   "execution_count": 30,
   "metadata": {},
   "outputs": [
    {
     "name": "stdout",
     "output_type": "stream",
     "text": [
      "0.57 seconds per query sequence\n",
      "50.00% correct answers\n",
      "Result details:\n",
      "4357275\n",
      "  ('k__Bacteria', 'p__Firmicutes', 'c__Clostridia', 'o__Clostridiales', 'f__Gracilibacteraceae')\n",
      "  ('k__Bacteria', 'p__Firmicutes', 'c__Bacilli', 'o__Bacillales', 'f__Staphylococcaceae')\n",
      "\n",
      "4354266\n",
      "  ('k__Bacteria', 'p__Proteobacteria', 'c__Alphaproteobacteria', 'o__Rickettsiales', 'f__mitochondria')\n",
      "  ('k__Bacteria', 'p__Proteobacteria', 'c__Alphaproteobacteria', 'o__Sphingomonadales', 'f__Sphingomonadaceae')\n",
      "\n",
      "147981\n",
      "  ('k__Bacteria', 'p__Firmicutes', 'c__Clostridia', 'o__Clostridiales', 'f__Lachnospiraceae')\n",
      "  ('k__Bacteria', 'p__Firmicutes', 'c__Clostridia', 'o__Clostridiales', 'f__Lachnospiraceae')\n",
      "\n",
      "840275\n",
      "  ('k__Bacteria', 'p__Actinobacteria', 'c__Acidimicrobiia', 'o__Acidimicrobiales', 'f__')\n",
      "  ('k__Bacteria', 'p__Actinobacteria', 'c__Acidimicrobiia', 'o__Acidimicrobiales', 'f__')\n",
      "\n",
      "82365\n",
      "  ('k__Bacteria', 'p__Proteobacteria', 'c__Betaproteobacteria', 'o__Burkholderiales', 'f__Comamonadaceae')\n",
      "  ('k__Bacteria', 'p__Proteobacteria', 'c__Betaproteobacteria', 'o__Burkholderiales', 'f__Comamonadaceae')\n",
      "\n",
      "229941\n",
      "  ('k__Bacteria', 'p__Firmicutes', 'c__Clostridia', 'o__Clostridiales', 'f__Lachnospiraceae')\n",
      "  ('k__Bacteria', 'p__Firmicutes', 'c__Clostridia', 'o__Clostridiales', 'f__Ruminococcaceae')\n",
      "\n",
      "548949\n",
      "  ('k__Bacteria', 'p__Proteobacteria', 'c__Gammaproteobacteria', 'o__Vibrionales', 'f__Vibrionaceae')\n",
      "  ('k__Bacteria', 'p__Proteobacteria', 'c__Gammaproteobacteria', 'o__Vibrionales', 'f__Vibrionaceae')\n",
      "\n",
      "274787\n",
      "  ('k__Bacteria', 'p__Firmicutes', 'c__Clostridia', 'o__Clostridiales', 'f__[Mogibacteriaceae]')\n",
      "  ('k__Bacteria', 'p__Firmicutes', 'c__Clostridia', 'o__Clostridiales', 'f__[Acidaminobacteraceae]')\n",
      "\n",
      "4346108\n",
      "  ('k__Bacteria', 'p__Proteobacteria', 'c__Deltaproteobacteria', 'o__', 'f__')\n",
      "  ('k__Bacteria', 'p__Proteobacteria', 'c__Deltaproteobacteria', 'o__Desulfuromonadales', 'f__Geobacteraceae')\n",
      "\n",
      "174847\n",
      "  ('k__Bacteria', 'p__Firmicutes', 'c__Clostridia', 'o__Clostridiales', 'f__')\n",
      "  ('k__Bacteria', 'p__Firmicutes', 'c__Clostridia', 'o__Clostridiales', 'f__')\n",
      "\n"
     ]
    }
   ],
   "source": [
    "heuristic_local_alignment_search_gc_2 = functools.partial(heuristic_local_alignment_search_gc, database_subset_size=database_subset_size)\n",
    "\n",
    "runtime, fraction_correct, data = evaluate_search(current_queries, reference_db, reference_taxonomy,\n",
    "                                                  heuristic_local_alignment_search_gc_2, taxonomy_levels=taxonomy_levels)\n",
    "\n",
    "print('%1.2f seconds per query sequence' % runtime)\n",
    "print('%1.2f%% correct answers' % (fraction_correct * 100.0))\n",
    "print('Result details:')\n",
    "for q_id in data.index:\n",
    "    print(q_id)\n",
    "    print(' ', data['Known taxonomy'][q_id])\n",
    "    print(' ', data['Observed taxonomy'][q_id])\n",
    "    print()"
   ]
  },
  {
   "cell_type": "markdown",
   "metadata": {},
   "source": [
    "Try increasing and decreasing the number of sequences we'll align by increasing or decreasing ``database_subset_size``. How does this impact the runtime and fraction of time that we get the correct answer?\n",
    "\n",
    "(kmer)=\n",
    "#### kmer content \n",
    "\n",
    "Another metric of sequence composition is *kmer composition*. A kmer is simply a word (or list of adjacent characters) of length *k* found within a sequence. Here are the kmer frequencies in a short DNA sequence. The ``overlap=True`` parameter here means that our kmers can overlap one another."
   ]
  },
  {
   "cell_type": "code",
   "execution_count": 31,
   "metadata": {},
   "outputs": [
    {
     "data": {
      "text/plain": [
       "{'ACCGT': 1,\n",
       " 'CCGTG': 1,\n",
       " 'CGTGA': 1,\n",
       " 'GTGAC': 1,\n",
       " 'TGACC': 2,\n",
       " 'GACCA': 2,\n",
       " 'ACCAG': 2,\n",
       " 'CCAGT': 2,\n",
       " 'CAGTT': 2,\n",
       " 'AGTTA': 1,\n",
       " 'GTTAC': 1,\n",
       " 'TTACC': 1,\n",
       " 'TACCA': 1,\n",
       " 'AGTTT': 1,\n",
       " 'GTTTG': 1,\n",
       " 'TTTGA': 1,\n",
       " 'TTGAC': 1,\n",
       " 'ACCAA': 1}"
      ]
     },
     "execution_count": 31,
     "metadata": {},
     "output_type": "execute_result"
    }
   ],
   "source": [
    "import skbio\n",
    "\n",
    "skbio.DNA('ACCGTGACCAGTTACCAGTTTGACCAA').kmer_frequencies(k=5, overlap=True)"
   ]
  },
  {
   "cell_type": "markdown",
   "metadata": {},
   "source": [
    "In our next heuristic, we'll only align our query to the reference sequences with the largest fraction of the kmers that are observed in the query sequence are also present in the reference sequence. This makes a lot of sense to use as an alignment heuristic: we're only aligning sequences when it looks like they'll have multiple length-``k`` stretches of nucleotides that are not interrupted by substitutions or insertion/deletion mutations.\n",
    "\n",
    "In our next heuristic, we'll only align our query to the reference sequences with the largest fraction of the kmers that are observed in the query sequence. This makes a lot of sense to use as an alignment heuristic: we're only aligning sequences when it looks like they'll have multiple length-``k`` stretches of nucleotides that are not interrupted by substitutions or insertion/deletion mutations.\n",
    "\n",
    "\n",
    "Here's the source code:"
   ]
  },
  {
   "cell_type": "code",
   "execution_count": 32,
   "metadata": {},
   "outputs": [],
   "source": [
    "def fraction_shared_kmers(kmer_freqs1, kmer_freqs2):\n",
    "    \"\"\"Compute the fraction of kmers in kmer_freqs1 that are also in kmer_freqs2\n",
    "    Parameters\n",
    "    ----------\n",
    "    kmer_freqs1, kmer_freqs2\n",
    "    Returns\n",
    "    -------\n",
    "    float\n",
    "    Raises\n",
    "    ------\n",
    "    ValueError\n",
    "        If k < 1.\n",
    "    Notes\n",
    "    -----\n",
    "    k-mer counts are not incorporated in this distance metric.\n",
    "    \"\"\"\n",
    "    sequence1_kmers = set(kmer_freqs1)\n",
    "    num_sequence1_kmers = len(sequence1_kmers)\n",
    "    sequence2_kmers = set(kmer_freqs2)\n",
    "    shared_kmers = sequence1_kmers & sequence2_kmers\n",
    "    return len(shared_kmers) / num_sequence1_kmers\n",
    "\n",
    "def heuristic_local_alignment_search_kmers(\n",
    "        queries, reference_db, database_subset_size, k, n=5,\n",
    "        reference_db_kmer_frequencies=None,\n",
    "        aligner=local_pairwise_align_ssw):\n",
    "    results = []\n",
    "    if reference_db_kmer_frequencies is None:\n",
    "        reference_db_kmer_frequencies = \\\n",
    "         {r.metadata['id'] : r.kmer_frequencies(k=k, overlap=True) for r in reference_db}\n",
    "    for q in queries:\n",
    "        query_kmer_frequency = q.kmer_frequencies(k=k, overlap=True)\n",
    "        database_subset = []\n",
    "        for r in reference_db:\n",
    "            ref_kmer_frequency = reference_db_kmer_frequencies[r.metadata['id']]\n",
    "            s = fraction_shared_kmers(query_kmer_frequency, ref_kmer_frequency)\n",
    "            database_subset.append((s, r))\n",
    "        database_subset.sort(key=lambda x: x[0], reverse=True)\n",
    "        database_subset = [e[1] for e in database_subset[:database_subset_size]]\n",
    "        results.append(local_alignment_search(\n",
    "            [q], database_subset, n=n, aligner=aligner))\n",
    "    return pd.concat(results)"
   ]
  },
  {
   "cell_type": "code",
   "execution_count": 33,
   "metadata": {},
   "outputs": [],
   "source": [
    "k = 7"
   ]
  },
  {
   "cell_type": "markdown",
   "metadata": {},
   "source": [
    "Let's apply this and see how it does. How does the runtime and fraction of correct assignments compare to our GC content-based search and our full database search?"
   ]
  },
  {
   "cell_type": "code",
   "execution_count": 34,
   "metadata": {},
   "outputs": [
    {
     "name": "stdout",
     "output_type": "stream",
     "text": [
      "6.45 seconds per query sequence\n",
      "60.00% correct answers\n",
      "Result details:\n",
      "4357275\n",
      "  ('k__Bacteria', 'p__Firmicutes', 'c__Clostridia', 'o__Clostridiales', 'f__Gracilibacteraceae')\n",
      "  ('k__Bacteria', 'p__Firmicutes', 'c__Bacilli', 'o__Bacillales', 'f__Bacillaceae')\n",
      "\n",
      "4354266\n",
      "  ('k__Bacteria', 'p__Proteobacteria', 'c__Alphaproteobacteria', 'o__Rickettsiales', 'f__mitochondria')\n",
      "  ('k__Bacteria', 'p__Proteobacteria', 'c__Alphaproteobacteria', 'o__Sphingomonadales', 'f__Sphingomonadaceae')\n",
      "\n",
      "147981\n",
      "  ('k__Bacteria', 'p__Firmicutes', 'c__Clostridia', 'o__Clostridiales', 'f__Lachnospiraceae')\n",
      "  ('k__Bacteria', 'p__Firmicutes', 'c__Clostridia', 'o__Clostridiales', 'f__Lachnospiraceae')\n",
      "\n",
      "840275\n",
      "  ('k__Bacteria', 'p__Actinobacteria', 'c__Acidimicrobiia', 'o__Acidimicrobiales', 'f__')\n",
      "  ('k__Bacteria', 'p__Actinobacteria', 'c__Acidimicrobiia', 'o__Acidimicrobiales', 'f__')\n",
      "\n",
      "82365\n",
      "  ('k__Bacteria', 'p__Proteobacteria', 'c__Betaproteobacteria', 'o__Burkholderiales', 'f__Comamonadaceae')\n",
      "  ('k__Bacteria', 'p__Proteobacteria', 'c__Betaproteobacteria', 'o__Burkholderiales', 'f__Comamonadaceae')\n",
      "\n",
      "229941\n",
      "  ('k__Bacteria', 'p__Firmicutes', 'c__Clostridia', 'o__Clostridiales', 'f__Lachnospiraceae')\n",
      "  ('k__Bacteria', 'p__Firmicutes', 'c__Clostridia', 'o__Clostridiales', 'f__Ruminococcaceae')\n",
      "\n",
      "548949\n",
      "  ('k__Bacteria', 'p__Proteobacteria', 'c__Gammaproteobacteria', 'o__Vibrionales', 'f__Vibrionaceae')\n",
      "  ('k__Bacteria', 'p__Proteobacteria', 'c__Gammaproteobacteria', 'o__Vibrionales', 'f__Vibrionaceae')\n",
      "\n",
      "274787\n",
      "  ('k__Bacteria', 'p__Firmicutes', 'c__Clostridia', 'o__Clostridiales', 'f__[Mogibacteriaceae]')\n",
      "  ('k__Bacteria', 'p__Firmicutes', 'c__Clostridia', 'o__Clostridiales', 'f__[Mogibacteriaceae]')\n",
      "\n",
      "4346108\n",
      "  ('k__Bacteria', 'p__Proteobacteria', 'c__Deltaproteobacteria', 'o__', 'f__')\n",
      "  ('k__Bacteria', 'p__Proteobacteria', 'c__Deltaproteobacteria', 'o__', 'f__')\n",
      "\n",
      "174847\n",
      "  ('k__Bacteria', 'p__Firmicutes', 'c__Clostridia', 'o__Clostridiales', 'f__')\n",
      "  ('k__Bacteria', 'p__Firmicutes', 'c__Clostridia', 'o__Clostridiales', 'f__Lachnospiraceae')\n",
      "\n"
     ]
    }
   ],
   "source": [
    "heuristic_local_alignment_search_kmers_50 = \\\n",
    "functools.partial(heuristic_local_alignment_search_kmers, k=k, database_subset_size=database_subset_size)\n",
    "\n",
    "runtime, fraction_correct, data = evaluate_search(current_queries, reference_db, reference_taxonomy,\n",
    "                                                  heuristic_local_alignment_search_kmers_50,\n",
    "                                                  taxonomy_levels=taxonomy_levels)\n",
    "\n",
    "print('%1.2f seconds per query sequence' % runtime)\n",
    "print('%1.2f%% correct answers' % (fraction_correct * 100.0))\n",
    "print('Result details:')\n",
    "for q_id in data.index:\n",
    "    print(q_id)\n",
    "    print(' ', data['Known taxonomy'][q_id])\n",
    "    print(' ', data['Observed taxonomy'][q_id])\n",
    "    print()"
   ]
  },
  {
   "cell_type": "markdown",
   "metadata": {},
   "source": [
    "#### Further optimizing composition-based approaches by pre-computing reference database information \n",
    "\n",
    "One important feature of composition-based approaches is that, because the reference database doesn't change very often, we can pre-compute features of the reference sequences and re-use them. This can help us to vastly decrease the runtime of our heuristic searches. For example, the computation of all of the reference database kmer frequencies is a lot of work. If we can compute that outside of our database search, we can avoid doing that step for every database search, and therefore remove that computationally expensive (i.e., slow) step of the process.\n",
    "\n",
    "Here we'll compute all of the reference database kmer frequencies. Notice that this step takes about a minute to complete. This is a minute of compute time that we can save on every database search!"
   ]
  },
  {
   "cell_type": "code",
   "execution_count": 35,
   "metadata": {},
   "outputs": [],
   "source": [
    "reference_db_kmer_frequencies = {r.metadata['id']: r.kmer_frequencies(k=k, overlap=True) for r in reference_db}"
   ]
  },
  {
   "cell_type": "markdown",
   "metadata": {},
   "source": [
    "We'll now pass our pre-computed kmer frequencies into our search function. How does the runtime and accuracy of this search compare to the searches above? This last database search that we've implemented here is very similar to how BLAST works."
   ]
  },
  {
   "cell_type": "code",
   "execution_count": 36,
   "metadata": {},
   "outputs": [
    {
     "name": "stdout",
     "output_type": "stream",
     "text": [
      "0.89 seconds per query sequence\n",
      "60.00% correct answers\n",
      "Result details:\n",
      "4357275\n",
      "  ('k__Bacteria', 'p__Firmicutes', 'c__Clostridia', 'o__Clostridiales', 'f__Gracilibacteraceae')\n",
      "  ('k__Bacteria', 'p__Firmicutes', 'c__Bacilli', 'o__Bacillales', 'f__Bacillaceae')\n",
      "\n",
      "4354266\n",
      "  ('k__Bacteria', 'p__Proteobacteria', 'c__Alphaproteobacteria', 'o__Rickettsiales', 'f__mitochondria')\n",
      "  ('k__Bacteria', 'p__Proteobacteria', 'c__Alphaproteobacteria', 'o__Sphingomonadales', 'f__Sphingomonadaceae')\n",
      "\n",
      "147981\n",
      "  ('k__Bacteria', 'p__Firmicutes', 'c__Clostridia', 'o__Clostridiales', 'f__Lachnospiraceae')\n",
      "  ('k__Bacteria', 'p__Firmicutes', 'c__Clostridia', 'o__Clostridiales', 'f__Lachnospiraceae')\n",
      "\n",
      "840275\n",
      "  ('k__Bacteria', 'p__Actinobacteria', 'c__Acidimicrobiia', 'o__Acidimicrobiales', 'f__')\n",
      "  ('k__Bacteria', 'p__Actinobacteria', 'c__Acidimicrobiia', 'o__Acidimicrobiales', 'f__')\n",
      "\n",
      "82365\n",
      "  ('k__Bacteria', 'p__Proteobacteria', 'c__Betaproteobacteria', 'o__Burkholderiales', 'f__Comamonadaceae')\n",
      "  ('k__Bacteria', 'p__Proteobacteria', 'c__Betaproteobacteria', 'o__Burkholderiales', 'f__Comamonadaceae')\n",
      "\n",
      "229941\n",
      "  ('k__Bacteria', 'p__Firmicutes', 'c__Clostridia', 'o__Clostridiales', 'f__Lachnospiraceae')\n",
      "  ('k__Bacteria', 'p__Firmicutes', 'c__Clostridia', 'o__Clostridiales', 'f__Ruminococcaceae')\n",
      "\n",
      "548949\n",
      "  ('k__Bacteria', 'p__Proteobacteria', 'c__Gammaproteobacteria', 'o__Vibrionales', 'f__Vibrionaceae')\n",
      "  ('k__Bacteria', 'p__Proteobacteria', 'c__Gammaproteobacteria', 'o__Vibrionales', 'f__Vibrionaceae')\n",
      "\n",
      "274787\n",
      "  ('k__Bacteria', 'p__Firmicutes', 'c__Clostridia', 'o__Clostridiales', 'f__[Mogibacteriaceae]')\n",
      "  ('k__Bacteria', 'p__Firmicutes', 'c__Clostridia', 'o__Clostridiales', 'f__[Mogibacteriaceae]')\n",
      "\n",
      "4346108\n",
      "  ('k__Bacteria', 'p__Proteobacteria', 'c__Deltaproteobacteria', 'o__', 'f__')\n",
      "  ('k__Bacteria', 'p__Proteobacteria', 'c__Deltaproteobacteria', 'o__', 'f__')\n",
      "\n",
      "174847\n",
      "  ('k__Bacteria', 'p__Firmicutes', 'c__Clostridia', 'o__Clostridiales', 'f__')\n",
      "  ('k__Bacteria', 'p__Firmicutes', 'c__Clostridia', 'o__Clostridiales', 'f__Lachnospiraceae')\n",
      "\n"
     ]
    }
   ],
   "source": [
    "heuristic_local_alignment_search_kmers_50 = \\\n",
    " functools.partial(heuristic_local_alignment_search_kmers, reference_db_kmer_frequencies=reference_db_kmer_frequencies,\n",
    "                   k=k, database_subset_size=database_subset_size)\n",
    "\n",
    "runtime, fraction_correct, data = evaluate_search(current_queries, reference_db, reference_taxonomy,\n",
    "                                                  heuristic_local_alignment_search_kmers_50,\n",
    "                                                  taxonomy_levels=taxonomy_levels)\n",
    "\n",
    "print('%1.2f seconds per query sequence' % runtime)\n",
    "print('%1.2f%% correct answers' % (fraction_correct * 100.0))\n",
    "print('Result details:')\n",
    "for q_id in data.index:\n",
    "    print(q_id)\n",
    "    print(' ', data['Known taxonomy'][q_id])\n",
    "    print(' ', data['Observed taxonomy'][q_id])\n",
    "    print()"
   ]
  },
  {
   "cell_type": "markdown",
   "metadata": {},
   "source": [
    "## Determining the statistical significance of a pairwise alignment \n",
    "\n",
    "One thing you may have noticed is that the score you get back for a pairwise alignment is hard to interpret. It's dependent on the query and reference sequence lengths (and possibly their composition, depending on your substitution matrix). So an important question is how to determine *how good* a given pairwise alignment is. Here we'll learn about a statistical approach for answering that.\n",
    "\n",
    "### Metrics of alignment quality \n",
    "\n",
    "In the examples above, we compared features such as how long the alignment is (relevant for local but not global alignment), the pairwise similarity between the aligned query and reference, and the score. If you've used a system like BLAST, you'll know that there are other values that are often reported about an alignment, like the number of substitutions, or the number of insertion/deletion (or gap) positions. None of these metrics are useful on their own. Let's look at an example to see why.\n",
    "\n",
    "Imagine we're aligning these two sequences:\n",
    "\n",
    "```\n",
    "GAAGCAGCAC\n",
    "GAACAGAAC\n",
    "```\n",
    "\n",
    "If we tell our search algorithm that we're interested in the alignment with the fewest number of substitutions, the following alignment would get us zero substitutions, but there are a lot of bases that look homologous which are not aligned.\n",
    "\n",
    "```\n",
    "GAAGCAGCAC-----\n",
    "GAA------CAGAAC\n",
    "```\n",
    "\n",
    "On the other hand, if we want to find the alignment with the fewest number of gaps, this one would get us that result, but we now have a lot of substitution events, and some regions that clearly look misaligned (such as the ``CAG`` sequence in the middle of both).\n",
    "\n",
    "```\n",
    "GAAGCAGCAC\n",
    "GAACAGA-AC\n",
    "```\n",
    "\n",
    "The alignment score that has been reported by our pairwise aligners helps us to balance these different features, and we can adjust the scoring scheme to weight things differently (e.g., so that gaps are penalized more or less than certain substitutions). The problem is that the scores are hard to interpret, particularly when we have only one or a few of them.\n",
    "\n",
    "### False positives, false negatives, p-values, and alpha  \n",
    "\n",
    "Remember that an alignment of a pair of sequences represents a hypothesis about homology between those sequences. One way that we think about determining if an alignment is good or not is to ask: *what fraction of the time would I obtain a score at least this good if my sequences are not homologous?* This fraction is usually referred to as our *p-value*, and this is computed in many different ways. If our p-value is high (e.g., 25%), then our alignment is probably not very good since it means that many non-homologous pairs of sequences would achieve a score at least that high. If our p-value is low (say 0.001%), then our alignment is probably good since scores that high are achieved only infrequently.\n",
    "\n",
    "Our threshold for defining what we consider to be a high versus low p-value is dependent on how often we're willing to be wrong. We would set this value, which is usually referred to as $\\alpha$, to some fraction, and if our p-value is less than $\\alpha$, we say that the alignment is statistically significant. If our p-value is greater than $\\alpha$, we say that our alignment is not statistically significant.\n",
    "\n",
    "There are a couple of ways that we could be wrong when we do sequence homology searching, and we need to consider these when we determine what value we want to define as $\\alpha$. First, we could say a pair of sequences are homologous when they're not, which would be a *false positive* or a *type 1 error*. Or, we could say that a pair of sequences are not homologous when they are, which would be a *false negative*, or a *type 2 error*.\n",
    "\n",
    "If incurring a false positive about 5% of the time is acceptable (i.e., you're ok with calling a pair of sequences homologous when they actually are not about one in twenty times) then you'd set your $\\alpha$ to 0.05. Setting $\\alpha$ to a value this high likely means that the method will err on the side of false positives, and only infrequently will it say that a pair of sequences are not homologous when they actually are (i.e., achieve a false negative). If $\\alpha$ were set to be very low on the other hand (say, $1 \\times 10^{-50}$), then you will err on the side of false negatives. Only infrequently will you say that a pair of non-homologous sequences are homologous, but you might call many pairs of homologous sequences non-homologous. You should think of $\\alpha$ as a dial. If you turn the dial toward higher values, you'll increase your false positive rate and decrease your false negative rate. If you turn the dial toward lower values, you'll decrease your false positive rate and increase your false negative rate.\n",
    "\n",
    "There is not a hard-and-fast rule for whether false positives or false negatives are better, which makes choosing $\\alpha$ hard. It's application specific, so you need to understand the biological question your asking when making this decision, and the ramifications of false positives versus false negatives. In general, when might you prefer to have false positives? When might you prefer to have false negatives?\n",
    "\n",
    "### Interpreting alignment scores in context \n",
    "\n",
    "In this section, we are going to learn about how to interpret alignment scores by empirically determining if a pairwise alignment that we obtain is better than we would expect if the pair of sequences we're working with were definitely not homologous. For a given pair of sequences that we want to align, we're first going to align them and compute the score of the alignment. We're then going to align many pairs of sequences that are similar to the query and reference, but that we know are not homologous. We'll do this by shuffling or randomizing the order of the bases in the query sequences, and performing another pairwise alignment.\n",
    "\n",
    "First, we'll define a function that can generate random sequences for us. This will take a scikit-bio sequence object (either ``skbio.DNA``, ``skbio.RNA``, or ``skbio.Protein``) and a length, and it will randomly generate a sequence of that type and length for us."
   ]
  },
  {
   "cell_type": "code",
   "execution_count": 37,
   "metadata": {},
   "outputs": [],
   "source": [
    "import random\n",
    "def random_sequence(moltype, length):\n",
    "    result = []\n",
    "    alphabet = list(moltype.nondegenerate_chars)\n",
    "    for e in range(length):\n",
    "        result.append(random.choice(alphabet))\n",
    "    return moltype(''.join(result))"
   ]
  },
  {
   "cell_type": "markdown",
   "metadata": {},
   "source": [
    "We can now run this a few times to generate some random sequences:"
   ]
  },
  {
   "cell_type": "code",
   "execution_count": 38,
   "metadata": {},
   "outputs": [
    {
     "data": {
      "text/plain": [
       "DNA\n",
       "--------------------------------------------------------\n",
       "Stats:\n",
       "    length: 50\n",
       "    has gaps: False\n",
       "    has degenerates: False\n",
       "    has definites: True\n",
       "    GC-content: 50.00%\n",
       "--------------------------------------------------------\n",
       "0 CGGCAGGAGA CACGTGTTAT GGAGCCTATA GAAAGGGTTA AACGAACGTG"
      ]
     },
     "execution_count": 38,
     "metadata": {},
     "output_type": "execute_result"
    }
   ],
   "source": [
    "random_sequence(skbio.DNA, 50)"
   ]
  },
  {
   "cell_type": "code",
   "execution_count": 39,
   "metadata": {},
   "outputs": [
    {
     "data": {
      "text/plain": [
       "DNA\n",
       "--------------------------------------------------------\n",
       "Stats:\n",
       "    length: 50\n",
       "    has gaps: False\n",
       "    has degenerates: False\n",
       "    has definites: True\n",
       "    GC-content: 64.00%\n",
       "--------------------------------------------------------\n",
       "0 GGGCCTGCCA AAGCCAGTAA TCCGCACGGC CCGGATGCTC ACCTGGATAG"
      ]
     },
     "execution_count": 39,
     "metadata": {},
     "output_type": "execute_result"
    }
   ],
   "source": [
    "random_sequence(skbio.DNA, 50)"
   ]
  },
  {
   "cell_type": "markdown",
   "metadata": {},
   "source": [
    "Next, we need a function that will shuffle the characters in a sequence, and give us a new sequence back. We'll use this to generate a sequence that is similar (in length and composition) to our input sequence, but which we know is not homologous. We'll use Pythons `random.shuffle` function, which randomly re-orders the order of the elements in a sequence, but keeps the composition and length of the sequence the same."
   ]
  },
  {
   "cell_type": "code",
   "execution_count": 40,
   "metadata": {},
   "outputs": [],
   "source": [
    "def shuffle_sequence(sequence):\n",
    "    # generate a list of the position indices (numbers) in sequence\n",
    "    randomized_order = list(range(len(sequence)))\n",
    "    # randomly rearrange the order of that list\n",
    "    random.shuffle(randomized_order)\n",
    "    # return a new sequence, where the positions are shuffled\n",
    "    return sequence[randomized_order]"
   ]
  },
  {
   "cell_type": "markdown",
   "metadata": {},
   "source": [
    "Now we can define a random sequence and shuffle it. Notice how the sequences are different (in their order), but their compositions (e.g., length and GC content) are the same. Shuffling will change the order of the bases, but it won't change the frequency at which each base is present - it's exactly analogous to shuffling a deck of cards."
   ]
  },
  {
   "cell_type": "code",
   "execution_count": 41,
   "metadata": {},
   "outputs": [
    {
     "data": {
      "text/plain": [
       "DNA\n",
       "--------------------------------------------------------\n",
       "Stats:\n",
       "    length: 50\n",
       "    has gaps: False\n",
       "    has degenerates: False\n",
       "    has definites: True\n",
       "    GC-content: 52.00%\n",
       "--------------------------------------------------------\n",
       "0 GGCTGTGCTA ATCACCTGCT TCGCAGGGTC GCTTTCTAAG GATCGTATAC"
      ]
     },
     "execution_count": 41,
     "metadata": {},
     "output_type": "execute_result"
    }
   ],
   "source": [
    "seq = random_sequence(skbio.DNA, 50)\n",
    "seq"
   ]
  },
  {
   "cell_type": "code",
   "execution_count": 42,
   "metadata": {},
   "outputs": [
    {
     "data": {
      "text/plain": [
       "DNA\n",
       "--------------------------------------------------------\n",
       "Stats:\n",
       "    length: 50\n",
       "    has gaps: False\n",
       "    has degenerates: False\n",
       "    has definites: True\n",
       "    GC-content: 52.00%\n",
       "--------------------------------------------------------\n",
       "0 CCTCGAACAC TGTGCAGCTT CACTAGTGCG GAGTTTACTT GGTTACCTGG"
      ]
     },
     "execution_count": 42,
     "metadata": {},
     "output_type": "execute_result"
    }
   ],
   "source": [
    "shuffle_sequence(seq)"
   ]
  },
  {
   "cell_type": "markdown",
   "metadata": {},
   "source": [
    "Let's generate a random query sequence and align it against itself to see what that score would be."
   ]
  },
  {
   "cell_type": "code",
   "execution_count": 43,
   "metadata": {},
   "outputs": [
    {
     "name": "stdout",
     "output_type": "stream",
     "text": [
      "Score: 100.00\n"
     ]
    }
   ],
   "source": [
    "query_seq = random_sequence(skbio.DNA, 50)\n",
    "_, actual_score, _ = local_pairwise_align_ssw(query_seq, query_seq)\n",
    "print(\"Score: %1.2f\" % actual_score)"
   ]
  },
  {
   "cell_type": "markdown",
   "metadata": {},
   "source": [
    "Next let's generate 99 random variants of that sequence with ``shuffle_sequence`` and compute the pairwise alignment for each of those variants against the query sequence. We'll then look at the distribution of those scores."
   ]
  },
  {
   "cell_type": "code",
   "execution_count": 44,
   "metadata": {},
   "outputs": [],
   "source": [
    "def generate_random_score_distribution(sequence1,\n",
    "                                       sequence2,\n",
    "                                       n=99,\n",
    "                                       aligner=local_pairwise_align_ssw):\n",
    "    scores = []\n",
    "    # iterate n times\n",
    "    for i in range(n):\n",
    "        # generate a randomized version of the first sequence\n",
    "        random_sequence = shuffle_sequence(sequence1)\n",
    "        # align that randomized sequence against the second sequence\n",
    "        # and save its score\n",
    "        _, score, _ = aligner(random_sequence, sequence2)\n",
    "        scores.append(score)\n",
    "    # return the n randomized alignment scores\n",
    "    return scores"
   ]
  },
  {
   "cell_type": "code",
   "execution_count": 45,
   "metadata": {},
   "outputs": [
    {
     "name": "stdout",
     "output_type": "stream",
     "text": [
      "[10, 9, 13, 10, 10, 10, 10, 11, 13, 15, 16, 15, 12, 12, 11, 8, 12, 11, 9, 17, 10, 10, 12, 12, 12, 17, 18, 13, 10, 12, 12, 12, 13, 10, 12, 10, 18, 13, 16, 14, 10, 10, 16, 10, 10, 14, 10, 22, 12, 11, 11, 14, 10, 13, 13, 12, 11, 16, 9, 11, 10, 9, 10, 14, 12, 12, 14, 12, 12, 16, 13, 15, 11, 12, 13, 12, 10, 10, 12, 11, 10, 12, 11, 12, 10, 10, 12, 9, 14, 11, 10, 12, 16, 10, 11, 11, 14, 14, 12]\n"
     ]
    }
   ],
   "source": [
    "random_scores = generate_random_score_distribution(query_seq, query_seq, 99)\n",
    "print(random_scores)"
   ]
  },
  {
   "cell_type": "markdown",
   "metadata": {},
   "source": [
    "How does the actual score of aligning the sequence to itself compare to the score of aligning it to many similar but non-homologous sequences? Let's plot these to get a better idea."
   ]
  },
  {
   "cell_type": "code",
   "execution_count": 46,
   "metadata": {},
   "outputs": [],
   "source": [
    "import seaborn as sns\n",
    "\n",
    "def plot_score_distribution(actual_score, random_scores):\n",
    "    ax = sns.distplot(random_scores, kde=False, label=\"Random scores\", color=\"b\")\n",
    "    ax.plot([actual_score, actual_score], ax.get_ylim(), '--', label=\"Actual score\")\n",
    "    # set the range of the x axis to be zero through 110% of the actual score\n",
    "    ax.set_xlim(0, actual_score + actual_score * 0.1)\n",
    "    ax.legend(loc=9, fontsize='large')\n",
    "    return ax"
   ]
  },
  {
   "cell_type": "code",
   "execution_count": 47,
   "metadata": {},
   "outputs": [
    {
     "name": "stderr",
     "output_type": "stream",
     "text": [
      "/usr/share/miniconda/envs/q2book/lib/python3.6/site-packages/seaborn/distributions.py:2551: FutureWarning: `distplot` is a deprecated function and will be removed in a future version. Please adapt your code to use either `displot` (a figure-level function with similar flexibility) or `histplot` (an axes-level function for histograms).\n",
      "  warnings.warn(msg, FutureWarning)\n"
     ]
    },
    {
     "data": {
      "text/plain": [
       "<matplotlib.axes._subplots.AxesSubplot at 0x7fe998a5fa90>"
      ]
     },
     "execution_count": 47,
     "metadata": {},
     "output_type": "execute_result"
    },
    {
     "data": {
      "image/png": "[encoded data removed]",
      "text/plain": [
       "<Figure size 432x288 with 1 Axes>"
      ]
     },
     "metadata": {
      "filenames": {
       "image/png": "/home/runner/work/q2book/q2book/book/_build/jupyter_execute/algorithms/database-searching_79_2.png"
      },
      "needs_background": "light"
     },
     "output_type": "display_data"
    }
   ],
   "source": [
    "plot_score_distribution(actual_score, random_scores)"
   ]
  },
  {
   "cell_type": "markdown",
   "metadata": {},
   "source": [
    "What does this tell us about our alignment score and therefore about our alignment? Is it good or bad?\n",
    "\n",
    "We finally have information that we can use to evaluate an alignment score, and therefore to evaluate the quality of an alignment. Let's use this information to quantify the quality of the alignment by computing a p-value. As we described above, this is simply the probability that we would obtain an alignment score at least this good if the sequences being aligned are not homologous. Since we have a lot of scores now from sequences that are similar but not homologous, if we just count how many are at least as high as our actual score and divide by the number of scores we compute, that is an empirical (data-driven) way of determining our p-value.\n",
    "\n",
    "To determine if our alignment is statistically significant, we need to define $\\alpha$ before computing the p-value so the p-value does not impact our choice of $\\alpha$. Let's define $\\alpha$ as 0.05. This choice means if we obtain a p-value less than 0.05 we will consider the alignment statistically significant and accept the hypothesis that the sequences are homologous.\n",
    "\n",
    "Here's what all of this looks like:"
   ]
  },
  {
   "cell_type": "code",
   "execution_count": 48,
   "metadata": {},
   "outputs": [],
   "source": [
    "def generate_random_score_distribution(sequence1,\n",
    "                                       sequence2,\n",
    "                                       n=99,\n",
    "                                       aligner=local_pairwise_align_ssw):\n",
    "    scores = []\n",
    "    # iterate n times\n",
    "    for i in range(n):\n",
    "        # generate a randomized version of the first sequence\n",
    "        random_sequence = shuffle_sequence(sequence1)\n",
    "        # align that randomized sequence against the second sequence\n",
    "        # and save its score\n",
    "        _, score, _ = aligner(random_sequence, sequence2)\n",
    "        scores.append(score)\n",
    "    # return the n randomized alignment scores\n",
    "    return scores\n",
    "\n",
    "def fraction_better_or_equivalent_alignments(sequence1,\n",
    "                                             sequence2,\n",
    "                                             n = 99,\n",
    "                                             aligner=local_pairwise_align_ssw):\n",
    "    # align sequence1 and sequence2 and store the score of the alignment\n",
    "    _, actual_score, _ = aligner(sequence1, sequence2)\n",
    "    # compute the distribution of randomized scores\n",
    "    random_scores = generate_random_score_distribution(sequence1,\n",
    "                                                       sequence2,\n",
    "                                                       n,\n",
    "                                                       aligner=aligner)\n",
    "\n",
    "    # count the number of random scores that are at least as good as our\n",
    "    # actual score\n",
    "    count_better = 0\n",
    "    for s in random_scores:\n",
    "        if s >= actual_score:\n",
    "            count_better += 1\n",
    "    # return the number of times we observe a score at least as good as the\n",
    "    # random score divided by the number of scores we computed. we add one\n",
    "    # to the numerator and denominator to account for our actual_score\n",
    "    return (count_better + 1) / (n + 1)"
   ]
  },
  {
   "cell_type": "code",
   "execution_count": 49,
   "metadata": {},
   "outputs": [
    {
     "name": "stdout",
     "output_type": "stream",
     "text": [
      "Fraction of alignment scores at least as good as the alignment score: 0.01\n"
     ]
    }
   ],
   "source": [
    "print(\"Fraction of alignment scores at least as good as the alignment score: %r\" %\n",
    "      fraction_better_or_equivalent_alignments(query_seq, query_seq, 99))"
   ]
  },
  {
   "cell_type": "markdown",
   "metadata": {},
   "source": [
    "The fraction that we get back here is ``0.01``, which is lower than $\\alpha$, so we would accept the hypothesis that our sequences are homologous.\n",
    "\n",
    "A few notes on these empirically defined p-values. First, here's what the formula for computing this looks like:\n",
    "\n",
    "$p\\ value = \\frac{number\\ of\\ computed\\ aligned\\ scores\\ greater\\ than\\ or\\ equal\\ to\\ the\\ actual\\ alignment\\ score}{number\\ of\\ alignment\\ scores\\ computed}$\n",
    "\n",
    "The numerator and the denominator both include the actual alignment score, so the lowest p-value that can be achieved is $\\frac{1}{99 + 1}$, where the $1$ in the numerator corresponds to our actual alignment score (which is of course equal to itself), where the $99$ in the denominator is the number of permutations, and the $1$ in the denominator is a constant which corresponds the computation of the actual score. If we increase the number of permutations, say to 999, we could achieve greater precision (more significant digits) in our p-value."
   ]
  },
  {
   "cell_type": "code",
   "execution_count": 50,
   "metadata": {},
   "outputs": [
    {
     "name": "stdout",
     "output_type": "stream",
     "text": [
      "Fraction of alignment scores at least as good as the alignment score: 0.001\n"
     ]
    }
   ],
   "source": [
    "print(\"Fraction of alignment scores at least as good as the alignment score: %r\" %\n",
    "      fraction_better_or_equivalent_alignments(query_seq, query_seq, 999))"
   ]
  },
  {
   "cell_type": "markdown",
   "metadata": {},
   "source": [
    "When we achieve the lowest possible value for a given test, as is the case here, we report the p-value as being less than that value, since we've yet to observe a random alignment score at least that high. For example, here we would report something like:\n",
    "\n",
    "*The alignment of our query and reference sequence was statistically significant, as determined by comparing our actual alignment score to random variants ($p < 0.001$).*\n",
    "\n",
    "Let's now try this for some harder cases, where the query and subject sequences are not identical. First, let's generate a longer subject sequence at random. Then, we'll create a random query sequence and compare it. Since we're doing this in two random steps, we know that these sequences are not homologous. Does the resulting p-value reflect that?"
   ]
  },
  {
   "cell_type": "code",
   "execution_count": 51,
   "metadata": {},
   "outputs": [
    {
     "data": {
      "text/plain": [
       "DNA\n",
       "---------------------------------------------------------------------\n",
       "Stats:\n",
       "    length: 250\n",
       "    has gaps: False\n",
       "    has degenerates: False\n",
       "    has definites: True\n",
       "    GC-content: 52.80%\n",
       "---------------------------------------------------------------------\n",
       "0   ACTAGAGACC AGCGAGTATT GACGACCTAT ACCATAAGGA TTGCTCCATT ATATCTTCGA\n",
       "60  GCTGCGAGCA ACGGGCCATC AACTACCCAT CTTGCTCCCA AAGCGAGTAA CCCGGAAGGA\n",
       "120 GTTTCCATTG ACATAACGAA CGGCGCACCG CAACGGTTGG TAGTATACCC TTCACGACTG\n",
       "180 TTGTTATTGC ACGAGGCTGG TACACTCCAG GGGGGTCGGA GGCTCTGCAA AGGCCGCTCG\n",
       "240 GTGAGCATAT"
      ]
     },
     "execution_count": 51,
     "metadata": {},
     "output_type": "execute_result"
    }
   ],
   "source": [
    "sequence1 = random_sequence(skbio.DNA, 250)\n",
    "sequence1"
   ]
  },
  {
   "cell_type": "code",
   "execution_count": 52,
   "metadata": {},
   "outputs": [
    {
     "data": {
      "text/plain": [
       "DNA\n",
       "---------------------------------------------------------------------\n",
       "Stats:\n",
       "    length: 250\n",
       "    has gaps: False\n",
       "    has degenerates: False\n",
       "    has definites: True\n",
       "    GC-content: 47.20%\n",
       "---------------------------------------------------------------------\n",
       "0   GAAGCCTATT AGCGGGTGAC ACGCTGGGAG TTTCCCGTGC GAAGTGTCCT GCTGGACGGA\n",
       "60  AGACCTAATG AGTAGCCTAA TGTCGCTGAC CCAATCATAT AAAGGCCTAA GTGAATCGTC\n",
       "120 CTAGAATTTA CATATCGAAC TTGACTAGCA CGAAGTCAAC AACTTATCTC TCAAGACGTA\n",
       "180 TACGGTGATC GCCGTTAGTT GACTAGCTCC CAGTGCGGAT TTAAGTGAGC ACCTTAATGA\n",
       "240 AGCCTCTAGT"
      ]
     },
     "execution_count": 52,
     "metadata": {},
     "output_type": "execute_result"
    }
   ],
   "source": [
    "sequence2 = random_sequence(skbio.DNA, 250)\n",
    "sequence2"
   ]
  },
  {
   "cell_type": "code",
   "execution_count": 53,
   "metadata": {},
   "outputs": [
    {
     "name": "stdout",
     "output_type": "stream",
     "text": [
      "Fraction of alignment scores at least as good as the alignment score: 0.13\n"
     ]
    }
   ],
   "source": [
    "print(\"Fraction of alignment scores at least as good as the alignment score: %r\" %\n",
    "      fraction_better_or_equivalent_alignments(sequence1,sequence2))"
   ]
  },
  {
   "cell_type": "markdown",
   "metadata": {},
   "source": [
    "We've now looked at two extremes: where sequences are obviously homologous (because they were the same), and where sequences are obviously not homologous (because they were both independently randomly generated). Next, we'll explore the region between these, where this gets interesting. We'll now create a partially randomized sequence to create a pair of sequences where the homology is more obscure. We'll do this again using the Python ``random`` module, but this time we'll introduce mutations only at some positions to create a pair of sequences that are approximately ``percent_id`` identical.\n",
    "\n",
    "Let's define a function to do this, and then compute a sequence that is 95% identical to our ``sequence1``."
   ]
  },
  {
   "cell_type": "code",
   "execution_count": 54,
   "metadata": {},
   "outputs": [],
   "source": [
    "def partially_randomize_sequence(percent_id, sequence):\n",
    "    result = []\n",
    "    for c in sequence:\n",
    "        if random.random() < percent_id:\n",
    "            result.append(str(c))\n",
    "        else:\n",
    "            # choose a base at random that is not the current base\n",
    "            # i.e., simulate a substitution event\n",
    "            result.append(choice([r for r in sequence.nondegenerate_chars if r != c]))\n",
    "    return sequence.__class__(''.join(result))"
   ]
  },
  {
   "cell_type": "code",
   "execution_count": 55,
   "metadata": {},
   "outputs": [],
   "source": [
    "sequence1_95 = partially_randomize_sequence(0.95, sequence1)"
   ]
  },
  {
   "cell_type": "code",
   "execution_count": 56,
   "metadata": {},
   "outputs": [
    {
     "data": {
      "text/plain": [
       "DNA\n",
       "---------------------------------------------------------------------\n",
       "Stats:\n",
       "    length: 250\n",
       "    has gaps: False\n",
       "    has degenerates: False\n",
       "    has definites: True\n",
       "    GC-content: 52.80%\n",
       "---------------------------------------------------------------------\n",
       "0   ACTAGAGACC AGCGAGTATT GACGACCTAT ACCATAAGGA TTGCTCCATT ATATCTTCGA\n",
       "60  GCTGCGAGCA ACGGGCCATC AACTACCCAT CTTGCTCCCA AAGCGAGTAA CCCGGAAGGA\n",
       "120 GTTTCCATTG ACATAACGAA CGGCGCACCG CAACGGTTGG TAGTATACCC TTCACGACTG\n",
       "180 TTGTTATTGC ACGAGGCTGG TACACTCCAG GGGGGTCGGA GGCTCTGCAA AGGCCGCTCG\n",
       "240 GTGAGCATAT"
      ]
     },
     "execution_count": 56,
     "metadata": {},
     "output_type": "execute_result"
    }
   ],
   "source": [
    "sequence1"
   ]
  },
  {
   "cell_type": "code",
   "execution_count": 57,
   "metadata": {},
   "outputs": [
    {
     "data": {
      "text/plain": [
       "DNA\n",
       "---------------------------------------------------------------------\n",
       "Stats:\n",
       "    length: 250\n",
       "    has gaps: False\n",
       "    has degenerates: False\n",
       "    has definites: True\n",
       "    GC-content: 52.00%\n",
       "---------------------------------------------------------------------\n",
       "0   ACTAGAGACC AGCGAGTATT GACGACCTAT ACCATAAGGA GTGCTTCATT ATATCTTCGA\n",
       "60  GCTGCGAGTA ACGGGCCATC AACTACCCAT CTTGCTCCCA AAGCGAGAAA CCTGGAAGGA\n",
       "120 GTTTCCATTG ACATAACGAA CGGCTCACCG CAACGGTTGG TAGTCTACCC TTCACGACTG\n",
       "180 TTGTTATTGG ACGAGGCTGG TACACTCCAG GGGGGTCGGA GGCTCTGCAA AGGCCCCTCG\n",
       "240 GTGAGCAAAT"
      ]
     },
     "execution_count": 57,
     "metadata": {},
     "output_type": "execute_result"
    }
   ],
   "source": [
    "sequence1_95"
   ]
  },
  {
   "cell_type": "markdown",
   "metadata": {},
   "source": [
    "Notice how these sequences are almost identical, but have some differences. Let's apply our approach to determine if it would identify these sequences as being homologous based on $\\alpha = 0.05$."
   ]
  },
  {
   "cell_type": "code",
   "execution_count": 58,
   "metadata": {},
   "outputs": [
    {
     "name": "stdout",
     "output_type": "stream",
     "text": [
      "Fraction of alignment scores at least as good as the alignment score: 0.01\n"
     ]
    }
   ],
   "source": [
    "print(\"Fraction of alignment scores at least as good as the alignment score: %r\" %\n",
    "      fraction_better_or_equivalent_alignments(sequence1, sequence1_95))"
   ]
  },
  {
   "cell_type": "markdown",
   "metadata": {},
   "source": [
    "You likely got a significant p-value there, telling you that the sequences are homologous.\n",
    "\n",
    "Now let's simulate much more distantly related sequences by introducing substitutions at many more sites."
   ]
  },
  {
   "cell_type": "code",
   "execution_count": 59,
   "metadata": {},
   "outputs": [],
   "source": [
    "sequence1_25 = partially_randomize_sequence(0.25, sequence1)"
   ]
  },
  {
   "cell_type": "code",
   "execution_count": 60,
   "metadata": {},
   "outputs": [
    {
     "data": {
      "text/plain": [
       "DNA\n",
       "---------------------------------------------------------------------\n",
       "Stats:\n",
       "    length: 250\n",
       "    has gaps: False\n",
       "    has degenerates: False\n",
       "    has definites: True\n",
       "    GC-content: 52.80%\n",
       "---------------------------------------------------------------------\n",
       "0   ACTAGAGACC AGCGAGTATT GACGACCTAT ACCATAAGGA TTGCTCCATT ATATCTTCGA\n",
       "60  GCTGCGAGCA ACGGGCCATC AACTACCCAT CTTGCTCCCA AAGCGAGTAA CCCGGAAGGA\n",
       "120 GTTTCCATTG ACATAACGAA CGGCGCACCG CAACGGTTGG TAGTATACCC TTCACGACTG\n",
       "180 TTGTTATTGC ACGAGGCTGG TACACTCCAG GGGGGTCGGA GGCTCTGCAA AGGCCGCTCG\n",
       "240 GTGAGCATAT"
      ]
     },
     "execution_count": 60,
     "metadata": {},
     "output_type": "execute_result"
    }
   ],
   "source": [
    "sequence1"
   ]
  },
  {
   "cell_type": "code",
   "execution_count": 61,
   "metadata": {},
   "outputs": [
    {
     "data": {
      "text/plain": [
       "DNA\n",
       "---------------------------------------------------------------------\n",
       "Stats:\n",
       "    length: 250\n",
       "    has gaps: False\n",
       "    has degenerates: False\n",
       "    has definites: True\n",
       "    GC-content: 47.20%\n",
       "---------------------------------------------------------------------\n",
       "0   ACTCTGGTGA CAAGCAATAT GGGAAACTAT AACATAACTA AAAATAGACT AATTTATCGA\n",
       "60  TTCGAGTGCA CAGGGCGAAT AACTCACAAT TGTGCGACTA TAAGACTCAA CTCGAAGGAA\n",
       "120 GTGCTCTTGG GCAAACGCGA CGCACGGACA CATTGTTTCT GGCAGTTTGT TGCCGGATGG\n",
       "180 GACTTATCCA GGTTCGCTGC AGATAAAAAG GCCCGTGTCT GCCTCGGTGA TCGGCCCATC\n",
       "240 GTGCGATGAA"
      ]
     },
     "execution_count": 61,
     "metadata": {},
     "output_type": "execute_result"
    }
   ],
   "source": [
    "sequence1_25"
   ]
  },
  {
   "cell_type": "code",
   "execution_count": 62,
   "metadata": {},
   "outputs": [
    {
     "name": "stdout",
     "output_type": "stream",
     "text": [
      "Fraction of alignment scores at least as good as the alignment score: 0.58\n"
     ]
    }
   ],
   "source": [
    "print(\"Fraction of alignment scores at least as good as the alignment score: %r\" %\n",
    "      fraction_better_or_equivalent_alignments(sequence1, sequence1_25))"
   ]
  },
  {
   "cell_type": "markdown",
   "metadata": {},
   "source": [
    "### Exploring the limit of detection of sequence homology searches \n",
    "\n",
    "In the example above, we know that our input sequences are \"homologous\" because `sequence1_25` and `sequence1_95` are both derived from `sequence1`. Our method detected that homology for `sequence1_95`, when we simulated very closely related sequences, but not for ``sequence1_25``, when we simulated much more distantly related sequences. This gives us an idea of the limit of detection of this method, and is a real-world problem that biologists face: as sequences are more divergent from one another, detecting homology becomes increasingly difficult.\n",
    "\n",
    "Lets run a simulation to gain some more insight into the limit of detection of this method. We'll run this approach for pairs of sequences where we vary the ``percent_id`` parameter, and identify when our approach stops identifying sequence pairs as being homologous. This is important to know as a bioinformatician, because it tells us around what pairwise similarity we will no longer be able to identify homology using this approach."
   ]
  },
  {
   "cell_type": "code",
   "execution_count": 63,
   "metadata": {},
   "outputs": [
    {
     "data": {
      "text/html": [
       "<div>\n",
       "<style scoped>\n",
       "    .dataframe tbody tr th:only-of-type {\n",
       "        vertical-align: middle;\n",
       "    }\n",
       "\n",
       "    .dataframe tbody tr th {\n",
       "        vertical-align: top;\n",
       "    }\n",
       "\n",
       "    .dataframe thead th {\n",
       "        text-align: right;\n",
       "    }\n",
       "</style>\n",
       "<table border=\"1\" class=\"dataframe\">\n",
       "  <thead>\n",
       "    <tr style=\"text-align: right;\">\n",
       "      <th></th>\n",
       "      <th>Percent id between query and subject</th>\n",
       "      <th>Median p-value</th>\n",
       "      <th>Mean p-value</th>\n",
       "    </tr>\n",
       "  </thead>\n",
       "  <tbody>\n",
       "    <tr>\n",
       "      <th>0</th>\n",
       "      <td>0.00</td>\n",
       "      <td>0.525</td>\n",
       "      <td>0.5540</td>\n",
       "    </tr>\n",
       "    <tr>\n",
       "      <th>1</th>\n",
       "      <td>0.05</td>\n",
       "      <td>0.540</td>\n",
       "      <td>0.5485</td>\n",
       "    </tr>\n",
       "    <tr>\n",
       "      <th>2</th>\n",
       "      <td>0.10</td>\n",
       "      <td>0.655</td>\n",
       "      <td>0.6415</td>\n",
       "    </tr>\n",
       "    <tr>\n",
       "      <th>3</th>\n",
       "      <td>0.15</td>\n",
       "      <td>0.475</td>\n",
       "      <td>0.5050</td>\n",
       "    </tr>\n",
       "    <tr>\n",
       "      <th>4</th>\n",
       "      <td>0.20</td>\n",
       "      <td>0.490</td>\n",
       "      <td>0.4535</td>\n",
       "    </tr>\n",
       "    <tr>\n",
       "      <th>5</th>\n",
       "      <td>0.25</td>\n",
       "      <td>0.365</td>\n",
       "      <td>0.4235</td>\n",
       "    </tr>\n",
       "    <tr>\n",
       "      <th>6</th>\n",
       "      <td>0.30</td>\n",
       "      <td>0.060</td>\n",
       "      <td>0.2760</td>\n",
       "    </tr>\n",
       "    <tr>\n",
       "      <th>7</th>\n",
       "      <td>0.35</td>\n",
       "      <td>0.150</td>\n",
       "      <td>0.3000</td>\n",
       "    </tr>\n",
       "    <tr>\n",
       "      <th>8</th>\n",
       "      <td>0.40</td>\n",
       "      <td>0.035</td>\n",
       "      <td>0.2140</td>\n",
       "    </tr>\n",
       "    <tr>\n",
       "      <th>9</th>\n",
       "      <td>0.45</td>\n",
       "      <td>0.010</td>\n",
       "      <td>0.0600</td>\n",
       "    </tr>\n",
       "    <tr>\n",
       "      <th>10</th>\n",
       "      <td>0.50</td>\n",
       "      <td>0.010</td>\n",
       "      <td>0.0100</td>\n",
       "    </tr>\n",
       "    <tr>\n",
       "      <th>11</th>\n",
       "      <td>0.55</td>\n",
       "      <td>0.010</td>\n",
       "      <td>0.0100</td>\n",
       "    </tr>\n",
       "    <tr>\n",
       "      <th>12</th>\n",
       "      <td>0.60</td>\n",
       "      <td>0.010</td>\n",
       "      <td>0.0100</td>\n",
       "    </tr>\n",
       "    <tr>\n",
       "      <th>13</th>\n",
       "      <td>0.65</td>\n",
       "      <td>0.010</td>\n",
       "      <td>0.0100</td>\n",
       "    </tr>\n",
       "    <tr>\n",
       "      <th>14</th>\n",
       "      <td>0.70</td>\n",
       "      <td>0.010</td>\n",
       "      <td>0.0100</td>\n",
       "    </tr>\n",
       "    <tr>\n",
       "      <th>15</th>\n",
       "      <td>0.75</td>\n",
       "      <td>0.010</td>\n",
       "      <td>0.0100</td>\n",
       "    </tr>\n",
       "    <tr>\n",
       "      <th>16</th>\n",
       "      <td>0.80</td>\n",
       "      <td>0.010</td>\n",
       "      <td>0.0100</td>\n",
       "    </tr>\n",
       "    <tr>\n",
       "      <th>17</th>\n",
       "      <td>0.85</td>\n",
       "      <td>0.010</td>\n",
       "      <td>0.0100</td>\n",
       "    </tr>\n",
       "    <tr>\n",
       "      <th>18</th>\n",
       "      <td>0.90</td>\n",
       "      <td>0.010</td>\n",
       "      <td>0.0100</td>\n",
       "    </tr>\n",
       "    <tr>\n",
       "      <th>19</th>\n",
       "      <td>0.95</td>\n",
       "      <td>0.010</td>\n",
       "      <td>0.0100</td>\n",
       "    </tr>\n",
       "  </tbody>\n",
       "</table>\n",
       "</div>"
      ],
      "text/plain": [
       "    Percent id between query and subject  Median p-value  Mean p-value\n",
       "0                                   0.00           0.525        0.5540\n",
       "1                                   0.05           0.540        0.5485\n",
       "2                                   0.10           0.655        0.6415\n",
       "3                                   0.15           0.475        0.5050\n",
       "4                                   0.20           0.490        0.4535\n",
       "5                                   0.25           0.365        0.4235\n",
       "6                                   0.30           0.060        0.2760\n",
       "7                                   0.35           0.150        0.3000\n",
       "8                                   0.40           0.035        0.2140\n",
       "9                                   0.45           0.010        0.0600\n",
       "10                                  0.50           0.010        0.0100\n",
       "11                                  0.55           0.010        0.0100\n",
       "12                                  0.60           0.010        0.0100\n",
       "13                                  0.65           0.010        0.0100\n",
       "14                                  0.70           0.010        0.0100\n",
       "15                                  0.75           0.010        0.0100\n",
       "16                                  0.80           0.010        0.0100\n",
       "17                                  0.85           0.010        0.0100\n",
       "18                                  0.90           0.010        0.0100\n",
       "19                                  0.95           0.010        0.0100"
      ]
     },
     "execution_count": 63,
     "metadata": {},
     "output_type": "execute_result"
    }
   ],
   "source": [
    "# First, let's define the range of percent identities that we'll test\n",
    "percent_ids = np.arange(0.0, 1.0, 0.05)\n",
    "# Then, we'll define the number of random sequences we'll test at each percent identity\n",
    "num_trials = 20\n",
    "# Then, we'll define the sequence length that we want to work with, and num_trials random sequences\n",
    "sequence_length = 150\n",
    "random_sequences = [random_sequence(skbio.DNA, sequence_length) for i in range(num_trials)]\n",
    "\n",
    "results = []\n",
    "\n",
    "for percent_id in percent_ids:\n",
    "    # at each percent_id, we'll track the p-values for each trial (random sequence)\n",
    "    p_values = []\n",
    "    for sequence in random_sequences:\n",
    "        # partially randomize the sequence, compute its p-value, and record that p-value\n",
    "        sequence_at_percent_id = partially_randomize_sequence(percent_id, sequence)\n",
    "        p = fraction_better_or_equivalent_alignments(sequence, sequence_at_percent_id)\n",
    "        p_values.append(p)\n",
    "    results.append((percent_id, np.median(p_values), np.mean(p_values)))\n",
    "pd.DataFrame(results, columns=[\"Percent id between query and subject\",\n",
    "                               \"Median p-value\", \"Mean p-value\"])"
   ]
  },
  {
   "cell_type": "markdown",
   "metadata": {},
   "source": [
    "What does this simulation tell us about our limit of detection for homology (i.e., how similar must a pair of sequences be for us to reliably be able to identify homology between them)? Is this higher or lower than you expected?\n",
    "\n",
    "With respect to our simulation, I took a few shortcuts here to keep the runtime low. What are some things that could be improved to make this simulation more robust, if we weren't as concerned about runtime?"
   ]
  }
 ],
 "metadata": {
  "jupytext": {
   "cell_metadata_filter": "-all",
   "formats": "md:myst",
   "text_representation": {
    "extension": ".md",
    "format_name": "myst",
    "format_version": 0.12,
    "jupytext_version": "1.9.1"
   }
  },
  "kernelspec": {
   "display_name": "Python 3",
   "language": "python",
   "name": "python3"
  },
  "language_info": {
   "codemirror_mode": {
    "name": "ipython",
    "version": 3
   },
   "file_extension": ".py",
   "mimetype": "text/x-python",
   "name": "python",
   "nbconvert_exporter": "python",
   "pygments_lexer": "ipython3",
   "version": "3.6.12"
  },
  "source_map": [
   14,
   63,
   66,
   85,
   99,
   129,
   131,
   135,
   139,
   141,
   145,
   150,
   156,
   172,
   175,
   179,
   183,
   185,
   204,
   242,
   248,
   257,
   265,
   272,
   276,
   281,
   289,
   333,
   339,
   345,
   359,
   362,
   366,
   369,
   386,
   394,
   398,
   402,
   413,
   417,
   423,
   448,
   452,
   456,
   467,
   471,
   487,
   503,
   507,
   530,
   534,
   548,
   557,
   561,
   570,
   615,
   617,
   621,
   637,
   645,
   647,
   651,
   668,
   719,
   727,
   731,
   735,
   737,
   741,
   749,
   753,
   758,
   760,
   764,
   768,
   772,
   790,
   793,
   797,
   809,
   811,
   821,
   862,
   865,
   875,
   878,
   886,
   891,
   896,
   899,
   905,
   918,
   922,
   926,
   928,
   932,
   935,
   941,
   945,
   949,
   953,
   956,
   964,
   986
  ]
 },
 "nbformat": 4,
 "nbformat_minor": 4
}