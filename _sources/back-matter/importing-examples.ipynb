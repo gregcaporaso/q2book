{
 "cells": [
  {
   "cell_type": "markdown",
   "metadata": {},
   "source": [
    "(importing-examples)=\n",
    "# Examples illustrating importing data into QIIME 2\n",
    "\n",
    "This document will ultimately pull content from the [QIIME 2 documentation's importing guide](https://docs.qiime2.org/2020.11/tutorials/importing/). Refer there for now. \n",
    "\n",
    "(importing-examples:available-semantic-types)=\n",
    "## Discovering the available importable semantic types\n",
    "\n",
    "Plugins define semantic types, so the semantic types that can be imported depends on what plugins you have installed. To discover what semantic types can be imported in your QIIME 2 deployment, you can run the following command:"
   ]
  },
  {
   "cell_type": "code",
   "execution_count": 1,
   "metadata": {},
   "outputs": [
    {
     "name": "stdout",
     "output_type": "stream",
     "text": [
      "Bowtie2Index\r\n",
      "DeblurStats\r\n",
      "DistanceMatrix\r\n",
      "EMPPairedEndSequences\r\n",
      "EMPSingleEndSequences\r\n",
      "ErrorCorrectionDetails\r\n",
      "FeatureData[AlignedSequence]\r\n",
      "FeatureData[Differential]\r\n",
      "FeatureData[Importance]\r\n",
      "FeatureData[PairedEndSequence]\r\n",
      "FeatureData[Sequence]\r\n",
      "FeatureData[Taxonomy]\r\n",
      "FeatureTable[Balance]\r\n",
      "FeatureTable[Composition]\r\n",
      "FeatureTable[Design]\r\n",
      "FeatureTable[Frequency]\r\n",
      "FeatureTable[PercentileNormalized]\r\n",
      "FeatureTable[PresenceAbsence]\r\n",
      "FeatureTable[RelativeFrequency]\r\n",
      "Hierarchy\r\n",
      "MultiplexedPairedEndBarcodeInSequence\r\n",
      "MultiplexedSingleEndBarcodeInSequence\r\n",
      "PCoAResults\r\n",
      "Phylogeny[Rooted]\r\n",
      "Phylogeny[Unrooted]\r\n",
      "Placements\r\n",
      "QualityFilterStats\r\n",
      "RawSequences\r\n",
      "SampleData[AlphaDiversity]\r\n",
      "SampleData[BooleanSeries]\r\n",
      "SampleData[ClassifierPredictions]\r\n",
      "SampleData[DADA2Stats]\r\n",
      "SampleData[FirstDifferences]\r\n",
      "SampleData[JoinedSequencesWithQuality]\r\n",
      "SampleData[PairedEndSequencesWithQuality]\r\n",
      "SampleData[Probabilities]\r\n",
      "SampleData[RegressorPredictions]\r\n",
      "SampleData[SequencesWithQuality]\r\n",
      "SampleData[Sequences]\r\n",
      "SampleEstimator[Classifier]\r\n",
      "SampleEstimator[Regressor]\r\n",
      "SeppReferenceDatabase\r\n",
      "TaxonomicClassifier\r\n",
      "UchimeStats\r\n",
      "\n"
     ]
    }
   ],
   "source": [
    "qiime tools import --show-importable-types"
   ]
  },
  {
   "cell_type": "markdown",
   "metadata": {},
   "source": [
    "## Discovering the available importable formats\n",
    "\n",
    "Plugins define file types (or formats) as well. To discover what formats can be imported from in your QIIME 2 deployment, you can run the following command:"
   ]
  },
  {
   "cell_type": "code",
   "execution_count": 2,
   "metadata": {},
   "outputs": [
    {
     "name": "stdout",
     "output_type": "stream",
     "text": [
      "AlignedDNAFASTAFormat\r\n",
      "AlignedDNASequencesDirectoryFormat\r\n",
      "AlphaDiversityDirectoryFormat\r\n",
      "AlphaDiversityFormat\r\n",
      "BIOMV100DirFmt\r\n",
      "BIOMV100Format\r\n",
      "BIOMV210DirFmt\r\n",
      "BIOMV210Format\r\n",
      "BooleanSeriesDirectoryFormat\r\n",
      "BooleanSeriesFormat\r\n",
      "Bowtie2IndexDirFmt\r\n",
      "CasavaOneEightLanelessPerSampleDirFmt\r\n",
      "CasavaOneEightSingleLanePerSampleDirFmt\r\n",
      "DADA2StatsDirFmt\r\n",
      "DADA2StatsFormat\r\n",
      "DNAFASTAFormat\r\n",
      "DNASequencesDirectoryFormat\r\n",
      "DeblurStatsDirFmt\r\n",
      "DeblurStatsFmt\r\n",
      "DifferentialDirectoryFormat\r\n",
      "DifferentialFormat\r\n",
      "DistanceMatrixDirectoryFormat\r\n",
      "EMPPairedEndCasavaDirFmt\r\n",
      "EMPPairedEndDirFmt\r\n",
      "EMPSingleEndCasavaDirFmt\r\n",
      "EMPSingleEndDirFmt\r\n",
      "ErrorCorrectionDetailsDirFmt\r\n",
      "FastqGzFormat\r\n",
      "FirstDifferencesDirectoryFormat\r\n",
      "FirstDifferencesFormat\r\n",
      "HeaderlessTSVTaxonomyDirectoryFormat\r\n",
      "HeaderlessTSVTaxonomyFormat\r\n",
      "ImportanceDirectoryFormat\r\n",
      "ImportanceFormat\r\n",
      "LSMatFormat\r\n",
      "MultiplexedPairedEndBarcodeInSequenceDirFmt\r\n",
      "MultiplexedSingleEndBarcodeInSequenceDirFmt\r\n",
      "NewickDirectoryFormat\r\n",
      "NewickFormat\r\n",
      "OrdinationDirectoryFormat\r\n",
      "OrdinationFormat\r\n",
      "PairedDNASequencesDirectoryFormat\r\n",
      "PairedEndFastqManifestPhred33\r\n",
      "PairedEndFastqManifestPhred33V2\r\n",
      "PairedEndFastqManifestPhred64\r\n",
      "PairedEndFastqManifestPhred64V2\r\n",
      "PlacementsDirFmt\r\n",
      "PlacementsFormat\r\n",
      "PredictionsDirectoryFormat\r\n",
      "PredictionsFormat\r\n",
      "ProbabilitiesDirectoryFormat\r\n",
      "ProbabilitiesFormat\r\n",
      "QIIME1DemuxDirFmt\r\n",
      "QIIME1DemuxFormat\r\n",
      "QualityFilterStatsDirFmt\r\n",
      "QualityFilterStatsFmt\r\n",
      "SampleEstimatorDirFmt\r\n",
      "SeppReferenceDirFmt\r\n",
      "SingleEndFastqManifestPhred33\r\n",
      "SingleEndFastqManifestPhred33V2\r\n",
      "SingleEndFastqManifestPhred64\r\n",
      "SingleEndFastqManifestPhred64V2\r\n",
      "SingleLanePerSamplePairedEndFastqDirFmt\r\n",
      "SingleLanePerSampleSingleEndFastqDirFmt\r\n",
      "TSVTaxonomyDirectoryFormat\r\n",
      "TSVTaxonomyFormat\r\n",
      "TaxonomicClassiferTemporaryPickleDirFmt\r\n",
      "UchimeStatsDirFmt\r\n",
      "UchimeStatsFmt\r\n",
      "\n"
     ]
    }
   ],
   "source": [
    "qiime tools import --show-importable-formats"
   ]
  }
 ],
 "metadata": {
  "jupytext": {
   "cell_metadata_filter": "-all",
   "formats": "md:myst",
   "text_representation": {
    "extension": ".md",
    "format_name": "myst",
    "format_version": 0.12,
    "jupytext_version": "1.9.1"
   }
  },
  "kernelspec": {
   "display_name": "calysto_bash",
   "language": "calysto_bash",
   "name": "calysto_bash"
  },
  "language_info": {
   "file_extension": ".sh",
   "help_links": [
    {
     "text": "MetaKernel Magics",
     "url": "https://metakernel.readthedocs.io/en/latest/source/README.html"
    }
   ],
   "mimetype": "text/x-sh",
   "name": "bash",
   "version": "0.2.2"
  },
  "source_map": [
   14,
   25,
   27,
   33
  ]
 },
 "nbformat": 4,
 "nbformat_minor": 4
}